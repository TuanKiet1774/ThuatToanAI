{
  "nbformat": 4,
  "nbformat_minor": 0,
  "metadata": {
    "colab": {
      "provenance": [],
      "gpuType": "T4",
      "authorship_tag": "ABX9TyPbfUVqEQtzaAGCg/GaocX+",
      "include_colab_link": true
    },
    "kernelspec": {
      "name": "python3",
      "display_name": "Python 3"
    },
    "language_info": {
      "name": "python"
    },
    "accelerator": "GPU"
  },
  "cells": [
    {
      "cell_type": "markdown",
      "metadata": {
        "id": "view-in-github",
        "colab_type": "text"
      },
      "source": [
        "<a href=\"https://colab.research.google.com/github/TuanKiet1774/ThuatToanAI/blob/main/DetectPest.ipynb\" target=\"_parent\"><img src=\"https://colab.research.google.com/assets/colab-badge.svg\" alt=\"Open In Colab\"/></a>"
      ]
    },
    {
      "cell_type": "markdown",
      "source": [
        "##Kết nối với Drive"
      ],
      "metadata": {
        "id": "6YoaSGvaKZag"
      }
    },
    {
      "cell_type": "markdown",
      "source": [
        "Kết nối với Drive"
      ],
      "metadata": {
        "id": "VaEiFncJMVUT"
      }
    },
    {
      "cell_type": "code",
      "source": [
        "from google.colab import drive\n",
        "drive.mount('/content/drive')"
      ],
      "metadata": {
        "colab": {
          "base_uri": "https://localhost:8080/"
        },
        "id": "uTVUQGoBKdOB",
        "outputId": "231694e2-4dc3-4858-f2fb-8499b09bf71f"
      },
      "execution_count": null,
      "outputs": [
        {
          "output_type": "stream",
          "name": "stdout",
          "text": [
            "Mounted at /content/drive\n"
          ]
        }
      ]
    },
    {
      "cell_type": "markdown",
      "source": [
        "Giải nén file Zip đến thư mục chỉ định"
      ],
      "metadata": {
        "id": "sOGSJfYTMO4k"
      }
    },
    {
      "cell_type": "code",
      "execution_count": null,
      "metadata": {
        "colab": {
          "base_uri": "https://localhost:8080/"
        },
        "collapsed": true,
        "id": "WC2JMOL0JAhI",
        "outputId": "8996564d-5844-428f-ac82-bbc980f8c4ea"
      },
      "outputs": [
        {
          "output_type": "stream",
          "name": "stdout",
          "text": [
            "Archive:  /content/drive/MyDrive/OBD-HETTNT/Pest.v2i.yolov11.zip\n",
            "  inflating: /content/drive/MyDrive/OBD-HETTNT/README.dataset.txt  \n",
            "  inflating: /content/drive/MyDrive/OBD-HETTNT/README.roboflow.txt  \n",
            "  inflating: /content/drive/MyDrive/OBD-HETTNT/data.yaml  \n",
            "   creating: /content/drive/MyDrive/OBD-HETTNT/test/\n",
            "   creating: /content/drive/MyDrive/OBD-HETTNT/test/images/\n",
            " extracting: /content/drive/MyDrive/OBD-HETTNT/test/images/8-Adult-of-Mexican-bean-weevil-Zabrotes-subfasciatus-a-dorsal-view-b-lateral-view_png.rf.80831be20454764bf0c0ae3aa9738617.jpg  \n",
            " extracting: /content/drive/MyDrive/OBD-HETTNT/test/images/LABAUR4I3JIUNK7CKHVBGRPKRY_jpg.rf.93302e8e73dbd03851ff3594b34ea569.jpg  \n",
            " extracting: /content/drive/MyDrive/OBD-HETTNT/test/images/Lucerne-feeding-aphids-cowpea-aphids-Aphis-craccivora-top-left-bluegreen-aphids_png.rf.7d9b3b4d06758061de106d851fd496a7.jpg  \n",
            " extracting: /content/drive/MyDrive/OBD-HETTNT/test/images/armyworm-1_jpg.rf.7554d1cd3035edef40ea56f0cce6b89b.jpg  \n",
            " extracting: /content/drive/MyDrive/OBD-HETTNT/test/images/armyworm_0_jpg.rf.cae42def403b8ba380135f354e605585.jpg  \n",
            " extracting: /content/drive/MyDrive/OBD-HETTNT/test/images/fall-armyworm-Spodoptera-frugiperda2_jpg.rf.85c6aa4a626ecc5e1e05aa0f108c1f89.jpg  \n",
            " extracting: /content/drive/MyDrive/OBD-HETTNT/test/images/hqdefault_jpg.rf.d0731b8263262fb1aeb60b262f8a7eac.jpg  \n",
            " extracting: /content/drive/MyDrive/OBD-HETTNT/test/images/image30_jpeg.rf.878fa248a3104082f5eea9226e0566f6.jpg  \n",
            " extracting: /content/drive/MyDrive/OBD-HETTNT/test/images/images113_jpg.rf.6b308b9194aa31b50b74435ff7970c7f.jpg  \n",
            " extracting: /content/drive/MyDrive/OBD-HETTNT/test/images/images11_jpg.rf.9c29ad72e69662ae5639e77cb56344e6.jpg  \n",
            " extracting: /content/drive/MyDrive/OBD-HETTNT/test/images/images150_jpg.rf.6b5aec5ebfb237dd7627f991db9f52ad.jpg  \n",
            " extracting: /content/drive/MyDrive/OBD-HETTNT/test/images/images157_jpg.rf.7e48729895b2e9ce9f7c765881659a55.jpg  \n",
            " extracting: /content/drive/MyDrive/OBD-HETTNT/test/images/images181_jpg.rf.006c17f3cf3c86f3f7d417c851383549.jpg  \n",
            " extracting: /content/drive/MyDrive/OBD-HETTNT/test/images/images189_jpg.rf.941a33b6eec4049a28826cc9fe3f6c3e.jpg  \n",
            " extracting: /content/drive/MyDrive/OBD-HETTNT/test/images/images192_jpg.rf.e741c6cb7f419dc75a1ed0b2aa4ceae6.jpg  \n",
            " extracting: /content/drive/MyDrive/OBD-HETTNT/test/images/images230_jpg.rf.61d644bdc32073f6f44b1e74138e6477.jpg  \n",
            " extracting: /content/drive/MyDrive/OBD-HETTNT/test/images/images271_jpg.rf.faf3a26d3a9decf1944fc2372a355336.jpg  \n",
            " extracting: /content/drive/MyDrive/OBD-HETTNT/test/images/images278_jpg.rf.836ed0816c26a950a122bc8336fdab03.jpg  \n",
            " extracting: /content/drive/MyDrive/OBD-HETTNT/test/images/images285_jpg.rf.88baa9d8fb0ad1777cc9eb5326cdee99.jpg  \n",
            " extracting: /content/drive/MyDrive/OBD-HETTNT/test/images/mw-cr-lateral_b_jpg.rf.5ea88249e2dc76695c63c9927c67ea2d.jpg  \n",
            " extracting: /content/drive/MyDrive/OBD-HETTNT/test/images/preview_jpg.rf.cbbc50d3b305c4170498caf2f0bbb363.jpg  \n",
            " extracting: /content/drive/MyDrive/OBD-HETTNT/test/images/shutterstock_14442850852028329-min_jpg.rf.6b7be397686481174f6eee161071d614.jpg  \n",
            "   creating: /content/drive/MyDrive/OBD-HETTNT/test/labels/\n",
            "  inflating: /content/drive/MyDrive/OBD-HETTNT/test/labels/8-Adult-of-Mexican-bean-weevil-Zabrotes-subfasciatus-a-dorsal-view-b-lateral-view_png.rf.80831be20454764bf0c0ae3aa9738617.txt  \n",
            "  inflating: /content/drive/MyDrive/OBD-HETTNT/test/labels/LABAUR4I3JIUNK7CKHVBGRPKRY_jpg.rf.93302e8e73dbd03851ff3594b34ea569.txt  \n",
            "  inflating: /content/drive/MyDrive/OBD-HETTNT/test/labels/Lucerne-feeding-aphids-cowpea-aphids-Aphis-craccivora-top-left-bluegreen-aphids_png.rf.7d9b3b4d06758061de106d851fd496a7.txt  \n",
            "  inflating: /content/drive/MyDrive/OBD-HETTNT/test/labels/armyworm-1_jpg.rf.7554d1cd3035edef40ea56f0cce6b89b.txt  \n",
            "  inflating: /content/drive/MyDrive/OBD-HETTNT/test/labels/armyworm_0_jpg.rf.cae42def403b8ba380135f354e605585.txt  \n",
            "  inflating: /content/drive/MyDrive/OBD-HETTNT/test/labels/fall-armyworm-Spodoptera-frugiperda2_jpg.rf.85c6aa4a626ecc5e1e05aa0f108c1f89.txt  \n",
            "  inflating: /content/drive/MyDrive/OBD-HETTNT/test/labels/hqdefault_jpg.rf.d0731b8263262fb1aeb60b262f8a7eac.txt  \n",
            "  inflating: /content/drive/MyDrive/OBD-HETTNT/test/labels/image30_jpeg.rf.878fa248a3104082f5eea9226e0566f6.txt  \n",
            "  inflating: /content/drive/MyDrive/OBD-HETTNT/test/labels/images113_jpg.rf.6b308b9194aa31b50b74435ff7970c7f.txt  \n",
            "  inflating: /content/drive/MyDrive/OBD-HETTNT/test/labels/images11_jpg.rf.9c29ad72e69662ae5639e77cb56344e6.txt  \n",
            "  inflating: /content/drive/MyDrive/OBD-HETTNT/test/labels/images150_jpg.rf.6b5aec5ebfb237dd7627f991db9f52ad.txt  \n",
            "  inflating: /content/drive/MyDrive/OBD-HETTNT/test/labels/images157_jpg.rf.7e48729895b2e9ce9f7c765881659a55.txt  \n",
            "  inflating: /content/drive/MyDrive/OBD-HETTNT/test/labels/images181_jpg.rf.006c17f3cf3c86f3f7d417c851383549.txt  \n",
            "  inflating: /content/drive/MyDrive/OBD-HETTNT/test/labels/images189_jpg.rf.941a33b6eec4049a28826cc9fe3f6c3e.txt  \n",
            "  inflating: /content/drive/MyDrive/OBD-HETTNT/test/labels/images192_jpg.rf.e741c6cb7f419dc75a1ed0b2aa4ceae6.txt  \n",
            "  inflating: /content/drive/MyDrive/OBD-HETTNT/test/labels/images230_jpg.rf.61d644bdc32073f6f44b1e74138e6477.txt  \n",
            "  inflating: /content/drive/MyDrive/OBD-HETTNT/test/labels/images271_jpg.rf.faf3a26d3a9decf1944fc2372a355336.txt  \n",
            "  inflating: /content/drive/MyDrive/OBD-HETTNT/test/labels/images278_jpg.rf.836ed0816c26a950a122bc8336fdab03.txt  \n",
            "  inflating: /content/drive/MyDrive/OBD-HETTNT/test/labels/images285_jpg.rf.88baa9d8fb0ad1777cc9eb5326cdee99.txt  \n",
            "  inflating: /content/drive/MyDrive/OBD-HETTNT/test/labels/mw-cr-lateral_b_jpg.rf.5ea88249e2dc76695c63c9927c67ea2d.txt  \n",
            "  inflating: /content/drive/MyDrive/OBD-HETTNT/test/labels/preview_jpg.rf.cbbc50d3b305c4170498caf2f0bbb363.txt  \n",
            "  inflating: /content/drive/MyDrive/OBD-HETTNT/test/labels/shutterstock_14442850852028329-min_jpg.rf.6b7be397686481174f6eee161071d614.txt  \n",
            "   creating: /content/drive/MyDrive/OBD-HETTNT/train/\n",
            "   creating: /content/drive/MyDrive/OBD-HETTNT/train/images/\n",
            " extracting: /content/drive/MyDrive/OBD-HETTNT/train/images/00381958b77828540f384ac1beeb0e79e8c27f9farc614x376w735us1_jpg.rf.75007858e3f8b68d11401c7892d21736.jpg  \n",
            " extracting: /content/drive/MyDrive/OBD-HETTNT/train/images/17_23-Armyworms_IDchart_png.rf.a7b7f5f3675fc03b262e2d87a8dd275f.jpg  \n",
            " extracting: /content/drive/MyDrive/OBD-HETTNT/train/images/2-Figure1-1_png.rf.59941ba058b3226147c1a79f549dbe93.jpg  \n",
            " extracting: /content/drive/MyDrive/OBD-HETTNT/train/images/32577231314_a7b9506122_k_jpg.rf.bb8dde148cf64f05d5c3e6a75ddb9ea6.jpg  \n",
            " extracting: /content/drive/MyDrive/OBD-HETTNT/train/images/418166_jpg.rf.c98da929721a09c9b03d924c7df28ab1.jpg  \n",
            " extracting: /content/drive/MyDrive/OBD-HETTNT/train/images/542-688191d4e084124377afc7e625af586a_jpg.rf.17a4c3e8e35383d4c24bf8746c3d8eb1.jpg  \n",
            " extracting: /content/drive/MyDrive/OBD-HETTNT/train/images/9923_16292_4359_jpg.rf.a6c957320849af7a9e7a0a1523fec7e5.jpg  \n",
            " extracting: /content/drive/MyDrive/OBD-HETTNT/train/images/Aphis_craccivora_aptera_c2016-08-23_18-34-01ew_jpg.rf.c142c5020bffb6192a5f0f02b2a4b756.jpg  \n",
            " extracting: /content/drive/MyDrive/OBD-HETTNT/train/images/Aphis_craccivora_aptera_ventral_c2018-06-19_10-11-01_jpg.rf.d449add3e9053ddca83e7579a4d3ecf8.jpg  \n",
            " extracting: /content/drive/MyDrive/OBD-HETTNT/train/images/Aphis_craccivora_colony_on_Vicia_c2016-08-23_14-37-01ew_jpg.rf.c142ac394efe9afd68b8e9f76cf2120f.jpg  \n",
            " extracting: /content/drive/MyDrive/OBD-HETTNT/train/images/CPaphid_jpg.rf.2f833abb070287429ea282f6d348508e.jpg  \n",
            " extracting: /content/drive/MyDrive/OBD-HETTNT/train/images/Cowpea-aphids-SE-MR-Oct-2021-image-2_jpg.rf.4e5227bc554a8591b5ff5c57a4d9e851.jpg  \n",
            " extracting: /content/drive/MyDrive/OBD-HETTNT/train/images/DSC_3555_jpg.rf.11f75d2323bca3c302986b66b7aae314.jpg  \n",
            " extracting: /content/drive/MyDrive/OBD-HETTNT/train/images/FAW-Larvae-Y-shape-5_jpg.rf.64c482dcd053c47a721757bb46391a5a.jpg  \n",
            " extracting: /content/drive/MyDrive/OBD-HETTNT/train/images/Fall-Armyworm_jpg.rf.b9422a514192adc497a4258996e1c967.jpg  \n",
            " extracting: /content/drive/MyDrive/OBD-HETTNT/train/images/Fall-army-worm_jpg.rf.d1e00b0197c4e47feaff8367f296106f.jpg  \n",
            " extracting: /content/drive/MyDrive/OBD-HETTNT/train/images/Fall-armyworm-min_jpg.rf.e678e522729220dc1b10f0eb14a03b6a.jpg  \n",
            " extracting: /content/drive/MyDrive/OBD-HETTNT/train/images/I-HO-ACRA-AD-003banner_png.rf.28db10090d638537bf1f034abc929989.jpg  \n",
            " extracting: /content/drive/MyDrive/OBD-HETTNT/train/images/IMG_FAWLR-848x565_jpg.rf.bd061de17ef16cd950d9bf337cfec3d8.jpg  \n",
            " extracting: /content/drive/MyDrive/OBD-HETTNT/train/images/ISC-fall-armyworm_jpg.rf.2ca9729e98f2070285e46c610bfe2a84.jpg  \n",
            " extracting: /content/drive/MyDrive/OBD-HETTNT/train/images/MaizeWeevilsDorsalmmScaleMicro_jpg.rf.813ef4e22f807c63f664182730b49961.jpg  \n",
            " extracting: /content/drive/MyDrive/OBD-HETTNT/train/images/Maize_weevil_jpg.rf.78caa6d2bf71d182f5b06765430cdb19.jpg  \n",
            " extracting: /content/drive/MyDrive/OBD-HETTNT/train/images/News_18_23_Armyworm_jpg.rf.792a19770335f87371fbc7f0bd68192b.jpg  \n",
            " extracting: /content/drive/MyDrive/OBD-HETTNT/train/images/WeevilFeedingOnCorn_jpg.rf.1b00720cb8d3a36ee0c5c5075a0e1569.jpg  \n",
            " extracting: /content/drive/MyDrive/OBD-HETTNT/train/images/Whiteflies-2_jpg.rf.69290872750c58d8d132991b1281ad64.jpg  \n",
            " extracting: /content/drive/MyDrive/OBD-HETTNT/train/images/Whiteflies-and-eggs-1024x683_jpg.rf.6f67ac4a443f8fc29b56e0cc2a0deb39.jpg  \n",
            " extracting: /content/drive/MyDrive/OBD-HETTNT/train/images/aphis-craccivora-1817b1b5-2e60-48a5-b46c-22317fdf451-resize-750_jpeg.rf.a80e17b695c1c40d957e63ee926836b1.jpg  \n",
            " extracting: /content/drive/MyDrive/OBD-HETTNT/train/images/aphis-craccivora_jpg.rf.26e18745e8a324825510953a1611d6d4.jpg  \n",
            " extracting: /content/drive/MyDrive/OBD-HETTNT/train/images/armyworm-header-1_jpg.rf.8f9db4989a797323db2685057ea6ac7c.jpg  \n",
            " extracting: /content/drive/MyDrive/OBD-HETTNT/train/images/bc5a1728-2d94-4ac3-9b3f-afdcc17e54e1_png.rf.a37871e890c5412ad9cb47fa2b4b512f.jpg  \n",
            " extracting: /content/drive/MyDrive/OBD-HETTNT/train/images/bean-beetle-stages-II-Adj-708X466_jpg.rf.0be2d1bfcac37d33e2b45cb63acb4f50.jpg  \n",
            " extracting: /content/drive/MyDrive/OBD-HETTNT/train/images/bemisiatabaci6-copy-615x340_jpg.rf.843956f2eba8468c391da0ca209e61ed.jpg  \n",
            " extracting: /content/drive/MyDrive/OBD-HETTNT/train/images/bruchidbeetle-3_jpg.rf.d1cb132df146b30c9ddd17ab5d04ec73.jpg  \n",
            " extracting: /content/drive/MyDrive/OBD-HETTNT/train/images/cbac682c-dabc-471f-90a8-68f0dafcd242_png.rf.649d8dcff4eb9d5a000dfcc87c895588.jpg  \n",
            " extracting: /content/drive/MyDrive/OBD-HETTNT/train/images/cowpea-aphid-1_jpg.rf.4a3e10b507093a81537b4f3a8309c84e.jpg  \n",
            " extracting: /content/drive/MyDrive/OBD-HETTNT/train/images/cowpea-aphid-adult-and-nymph-Andrew-Weeks-cesar-1024x682_jpg.rf.f9b038d6f919e3b993da65c3b6b96789.jpg  \n",
            " extracting: /content/drive/MyDrive/OBD-HETTNT/train/images/depositphotos_277661244-stock-photo-macro-photo-of-rice-weevil_jpg.rf.8d05384c2c4cc68e53fc5b981c9bb3fa.jpg  \n",
            " extracting: /content/drive/MyDrive/OBD-HETTNT/train/images/fall-armyworm-IMG_6969-sm_jpg.rf.ac53b0d5f813679fc40cf3eee0e11f67.jpg  \n",
            " extracting: /content/drive/MyDrive/OBD-HETTNT/train/images/fall-armyworm-on-maize-ghana-1_jpg.rf.8743fefc5be33635b8673f37a308f151.jpg  \n",
            " extracting: /content/drive/MyDrive/OBD-HETTNT/train/images/fallarmyworm01_jpg.rf.2f1290931377194132e6ce925172b20b.jpg  \n",
            " extracting: /content/drive/MyDrive/OBD-HETTNT/train/images/figure-whiteflies-3_jpg.rf.1c2d0405559c08cb48e9c76ad0bb56dc.jpg  \n",
            " extracting: /content/drive/MyDrive/OBD-HETTNT/train/images/granaryweevil1ag_jpg.rf.a35ef646f835f3aea6880a28fb0f77a8.jpg  \n",
            " extracting: /content/drive/MyDrive/OBD-HETTNT/train/images/image10_jpeg.rf.6f69caa81c5c9b26b333216fa46144d4.jpg  \n",
            " extracting: /content/drive/MyDrive/OBD-HETTNT/train/images/image14_jpeg.rf.2f0706085f5ef9a5371b6d3b6c152fd0.jpg  \n",
            " extracting: /content/drive/MyDrive/OBD-HETTNT/train/images/image14_jpeg.rf.ed1fe86648d80825d56cc2e75a6aa420.jpg  \n",
            " extracting: /content/drive/MyDrive/OBD-HETTNT/train/images/image17_jpeg.rf.f685b2af5c5057e1feda806362d25dda.jpg  \n",
            " extracting: /content/drive/MyDrive/OBD-HETTNT/train/images/image20_jpeg.rf.a1f630b1b667d0321e712fa9db8467ae.jpg  \n",
            " extracting: /content/drive/MyDrive/OBD-HETTNT/train/images/image23_jpeg.rf.266a9f9b7f9a3a3191e651a517cfc652.jpg  \n",
            " extracting: /content/drive/MyDrive/OBD-HETTNT/train/images/image24_jpeg.rf.dab5e0c7ca6dac2aae6b0d8d679ba9cb.jpg  \n",
            " extracting: /content/drive/MyDrive/OBD-HETTNT/train/images/image25_jpeg.rf.ebdbbc7ee8cead08b4c9693d47c2e2e2.jpg  \n",
            " extracting: /content/drive/MyDrive/OBD-HETTNT/train/images/image27_jpeg.rf.2cf5c2dea3a558a4ed801accf993d43b.jpg  \n",
            " extracting: /content/drive/MyDrive/OBD-HETTNT/train/images/image29_jpeg.rf.1c5df6e1473e881c0755b2919756967c.jpg  \n",
            " extracting: /content/drive/MyDrive/OBD-HETTNT/train/images/image4_jpeg.rf.1c1a89f19168b123d7a1e64ab220e487.jpg  \n",
            " extracting: /content/drive/MyDrive/OBD-HETTNT/train/images/images-2-_jpg.rf.b81dc2a437422128c36005a658a8ab0d.jpg  \n",
            " extracting: /content/drive/MyDrive/OBD-HETTNT/train/images/images101_jpg.rf.72fe753777c13907dd3c573d35294153.jpg  \n",
            " extracting: /content/drive/MyDrive/OBD-HETTNT/train/images/images108_jpg.rf.2002c7028862b30a2093ac806ae68ad9.jpg  \n",
            " extracting: /content/drive/MyDrive/OBD-HETTNT/train/images/images115_jpg.rf.4a667802ad852c467a8aa1c4094dbc81.jpg  \n",
            " extracting: /content/drive/MyDrive/OBD-HETTNT/train/images/images119_jpg.rf.e6fd7902c33b0b6f78f7d1d1c66a0ef8.jpg  \n",
            " extracting: /content/drive/MyDrive/OBD-HETTNT/train/images/images11_jpg.rf.a80c6157179baeaf112cc561858b37a6.jpg  \n",
            " extracting: /content/drive/MyDrive/OBD-HETTNT/train/images/images127_jpg.rf.8b356b0b31791ca0dce11c2eb60f845c.jpg  \n",
            " extracting: /content/drive/MyDrive/OBD-HETTNT/train/images/images12_jpg.rf.713e5505c763e8ee66bcb3780853f83c.jpg  \n",
            " extracting: /content/drive/MyDrive/OBD-HETTNT/train/images/images130_jpg.rf.8c676ec2e954cb8df57349c8390b2016.jpg  \n",
            " extracting: /content/drive/MyDrive/OBD-HETTNT/train/images/images132_jpg.rf.11bee11ac4facb78dd01d6970c760bb5.jpg  \n",
            " extracting: /content/drive/MyDrive/OBD-HETTNT/train/images/images139_jpg.rf.57640224e73815357f3bbff0ce3905ff.jpg  \n",
            " extracting: /content/drive/MyDrive/OBD-HETTNT/train/images/images143_jpg.rf.2cd9a5b5ed1a44a8659f2fe8c914266e.jpg  \n",
            " extracting: /content/drive/MyDrive/OBD-HETTNT/train/images/images144_jpg.rf.5282c0066138e83b19368306e3c6f257.jpg  \n",
            " extracting: /content/drive/MyDrive/OBD-HETTNT/train/images/images145_jpg.rf.be1ce30a88df8e1c069b296e18a17c1c.jpg  \n",
            " extracting: /content/drive/MyDrive/OBD-HETTNT/train/images/images147_jpg.rf.3e17fc241dddc27781615315b867033d.jpg  \n",
            " extracting: /content/drive/MyDrive/OBD-HETTNT/train/images/images151_jpg.rf.fb9671e6d79846069e8ea370249aa4af.jpg  \n",
            " extracting: /content/drive/MyDrive/OBD-HETTNT/train/images/images152_jpg.rf.1ecb88489594525380dbc8f1105440b7.jpg  \n",
            " extracting: /content/drive/MyDrive/OBD-HETTNT/train/images/images156_jpg.rf.1ab9d301663ca3e32249b5a24c3ecde0.jpg  \n",
            " extracting: /content/drive/MyDrive/OBD-HETTNT/train/images/images160_jpg.rf.10a89bc8c8c1895491b2ae3733836b70.jpg  \n",
            " extracting: /content/drive/MyDrive/OBD-HETTNT/train/images/images166_jpg.rf.89bfe03d11f7c6ef947d10d139ad19d1.jpg  \n",
            " extracting: /content/drive/MyDrive/OBD-HETTNT/train/images/images166_jpg.rf.c07536bdec5eba7c95dad1d3e8fe7fe4.jpg  \n",
            " extracting: /content/drive/MyDrive/OBD-HETTNT/train/images/images172_jpg.rf.738c955ab4e528a54bc0a64462db7c02.jpg  \n",
            " extracting: /content/drive/MyDrive/OBD-HETTNT/train/images/images176_jpg.rf.9cbcf3faf047d3d45331047cf4a3c786.jpg  \n",
            " extracting: /content/drive/MyDrive/OBD-HETTNT/train/images/images178_jpg.rf.f081bc2de6db83ac0fcb3221acc13907.jpg  \n",
            " extracting: /content/drive/MyDrive/OBD-HETTNT/train/images/images17_jpg.rf.c6e8fdbc4d7b97a86759adb7607bd66b.jpg  \n",
            " extracting: /content/drive/MyDrive/OBD-HETTNT/train/images/images180_jpg.rf.e18440ec98930ad581fa3d0fb633bd93.jpg  \n",
            " extracting: /content/drive/MyDrive/OBD-HETTNT/train/images/images185_jpg.rf.67d5a7cc86cd8035d6b41a4b024b9697.jpg  \n",
            " extracting: /content/drive/MyDrive/OBD-HETTNT/train/images/images193_jpg.rf.6c5501bf0e659b885d9043ed5c108baa.jpg  \n",
            " extracting: /content/drive/MyDrive/OBD-HETTNT/train/images/images198_jpg.rf.cc68edbe4602e6c6798b9287f30c76a4.jpg  \n",
            " extracting: /content/drive/MyDrive/OBD-HETTNT/train/images/images19_jpg.rf.424ded1beaa36b18d5705136efe24fca.jpg  \n",
            " extracting: /content/drive/MyDrive/OBD-HETTNT/train/images/images200_jpg.rf.c2f0c3f2d59077c4f06e5a6165c18755.jpg  \n",
            " extracting: /content/drive/MyDrive/OBD-HETTNT/train/images/images200_jpg.rf.df5870e254863d1e5531a2ab08016e8f.jpg  \n",
            " extracting: /content/drive/MyDrive/OBD-HETTNT/train/images/images202_jpg.rf.4ceed7844d43ccc149a16a79c0cc29e2.jpg  \n",
            " extracting: /content/drive/MyDrive/OBD-HETTNT/train/images/images212_jpg.rf.0f4fb7c7c0037355e647ffc34a82e3b8.jpg  \n",
            " extracting: /content/drive/MyDrive/OBD-HETTNT/train/images/images215_jpg.rf.e64dfd73b8c38db0ebb3b84842de51ae.jpg  \n",
            " extracting: /content/drive/MyDrive/OBD-HETTNT/train/images/images216_jpg.rf.3a3396b98e66d1f5da69360a6628d25c.jpg  \n",
            " extracting: /content/drive/MyDrive/OBD-HETTNT/train/images/images216_jpg.rf.e173bb9b82e87baeaaeebfce1587c41e.jpg  \n",
            " extracting: /content/drive/MyDrive/OBD-HETTNT/train/images/images224_jpg.rf.c104cf6718b53b99611a6b021c1788fe.jpg  \n",
            " extracting: /content/drive/MyDrive/OBD-HETTNT/train/images/images226_jpg.rf.0475ceafdf0df50e7426e70949f58d10.jpg  \n",
            " extracting: /content/drive/MyDrive/OBD-HETTNT/train/images/images226_jpg.rf.6d8cd6178f8acdf54f935b136d956bc7.jpg  \n",
            " extracting: /content/drive/MyDrive/OBD-HETTNT/train/images/images228_jpg.rf.7a7e94323b1a50c6645bd3a5b107e40b.jpg  \n",
            " extracting: /content/drive/MyDrive/OBD-HETTNT/train/images/images250_jpg.rf.b3b91c898735a28c827f28aab02dcc1c.jpg  \n",
            " extracting: /content/drive/MyDrive/OBD-HETTNT/train/images/images250_jpg.rf.c83dac1d2594617a2b80c9344e71157f.jpg  \n",
            " extracting: /content/drive/MyDrive/OBD-HETTNT/train/images/images251_jpg.rf.304f8602288de5faca41b366fec1ff97.jpg  \n",
            " extracting: /content/drive/MyDrive/OBD-HETTNT/train/images/images251_jpg.rf.62129e36101c4b38967aaef8f7551ffc.jpg  \n",
            " extracting: /content/drive/MyDrive/OBD-HETTNT/train/images/images254_jpg.rf.6c45307916ae60539718e213585f04a9.jpg  \n",
            " extracting: /content/drive/MyDrive/OBD-HETTNT/train/images/images254_jpg.rf.980411e6bb84603bfef4e0b247c13b78.jpg  \n",
            " extracting: /content/drive/MyDrive/OBD-HETTNT/train/images/images255_jpg.rf.5d09710a70479898340ec7602deab335.jpg  \n",
            " extracting: /content/drive/MyDrive/OBD-HETTNT/train/images/images255_jpg.rf.81e4d8293a8932b00b8452ea21d9b0c2.jpg  \n",
            " extracting: /content/drive/MyDrive/OBD-HETTNT/train/images/images257_jpg.rf.a71ff5188d521e914a4ce9a9748c5590.jpg  \n",
            " extracting: /content/drive/MyDrive/OBD-HETTNT/train/images/images260_jpg.rf.cb9855e847a214c9f9bdcf4363a68aea.jpg  \n",
            " extracting: /content/drive/MyDrive/OBD-HETTNT/train/images/images261_jpg.rf.3b3f5564024ececdfd485a6077a50ca5.jpg  \n",
            " extracting: /content/drive/MyDrive/OBD-HETTNT/train/images/images261_jpg.rf.cee91d93400e668a8c109492fe439337.jpg  \n",
            " extracting: /content/drive/MyDrive/OBD-HETTNT/train/images/images265_jpg.rf.76754cf7f65471e8dcb11b871f2a0035.jpg  \n",
            " extracting: /content/drive/MyDrive/OBD-HETTNT/train/images/images267_jpg.rf.0499cc801214c864471e059442e1199f.jpg  \n",
            " extracting: /content/drive/MyDrive/OBD-HETTNT/train/images/images268_jpg.rf.012d2aa8e442e74ac03f9a8bf27a417f.jpg  \n",
            " extracting: /content/drive/MyDrive/OBD-HETTNT/train/images/images26_jpg.rf.c9cdae7e09e778fbef09657cc867e17b.jpg  \n",
            " extracting: /content/drive/MyDrive/OBD-HETTNT/train/images/images276_jpg.rf.2b78c249616fc333580b3a5c6e63197e.jpg  \n",
            " extracting: /content/drive/MyDrive/OBD-HETTNT/train/images/images288_jpg.rf.b495af819666931af034aebb36f8e064.jpg  \n",
            " extracting: /content/drive/MyDrive/OBD-HETTNT/train/images/images2_jpg.rf.cb1687128b2614a2a1ec4b2f0a839a40.jpg  \n",
            " extracting: /content/drive/MyDrive/OBD-HETTNT/train/images/images300_jpg.rf.d95e88ffcc7702c78ab484c56569da2f.jpg  \n",
            " extracting: /content/drive/MyDrive/OBD-HETTNT/train/images/images302_jpg.rf.3be35b4b2d58609909c774ff7881c70d.jpg  \n",
            " extracting: /content/drive/MyDrive/OBD-HETTNT/train/images/images306_jpg.rf.90173f20961e96e9b4ea90cc6e364609.jpg  \n",
            " extracting: /content/drive/MyDrive/OBD-HETTNT/train/images/images315_jpg.rf.2420207016cdc21f94f42738f3a8e1f8.jpg  \n",
            " extracting: /content/drive/MyDrive/OBD-HETTNT/train/images/images31_jpg.rf.0799308d66d9d0cee920723e7689fd8f.jpg  \n",
            " extracting: /content/drive/MyDrive/OBD-HETTNT/train/images/images32_jpg.rf.693d93e723fb4f96e3ce6d2106e936d0.jpg  \n",
            " extracting: /content/drive/MyDrive/OBD-HETTNT/train/images/images340_jpg.rf.4ba081d2838424e4002febdfc125a8ff.jpg  \n",
            " extracting: /content/drive/MyDrive/OBD-HETTNT/train/images/images347_jpg.rf.b26293169df746697f62f9c7951e5d37.jpg  \n",
            " extracting: /content/drive/MyDrive/OBD-HETTNT/train/images/images35_jpg.rf.a718c11fef4c4acb94bc66b1ad9ef2bb.jpg  \n",
            " extracting: /content/drive/MyDrive/OBD-HETTNT/train/images/images363_jpg.rf.bdac08f183c8ccae3caded2cce77c250.jpg  \n",
            " extracting: /content/drive/MyDrive/OBD-HETTNT/train/images/images376_jpg.rf.3f1db5add86768ab70b121a64a5ec2e6.jpg  \n",
            " extracting: /content/drive/MyDrive/OBD-HETTNT/train/images/images383_jpg.rf.dedfe6cf21089a55440934b7d2fb3ab2.jpg  \n",
            " extracting: /content/drive/MyDrive/OBD-HETTNT/train/images/images395_jpg.rf.d756f1bc802dc98f6a48ab267d1940d9.jpg  \n",
            " extracting: /content/drive/MyDrive/OBD-HETTNT/train/images/images51_jpg.rf.258ae147f6eb4755c2de1065e12a9f39.jpg  \n",
            " extracting: /content/drive/MyDrive/OBD-HETTNT/train/images/images53_jpg.rf.65f5eaa7213ee77f198602afe2e514f2.jpg  \n",
            " extracting: /content/drive/MyDrive/OBD-HETTNT/train/images/images5_jpg.rf.8369c68542d7843019bb6930e9bb7b28.jpg  \n",
            " extracting: /content/drive/MyDrive/OBD-HETTNT/train/images/images65_jpg.rf.be1d127d6bfbeb995b63d7a8532aedf7.jpg  \n",
            " extracting: /content/drive/MyDrive/OBD-HETTNT/train/images/images69_jpg.rf.1d59c0836c2bcd360b33e9be921cdf93.jpg  \n",
            " extracting: /content/drive/MyDrive/OBD-HETTNT/train/images/images6_jpg.rf.c0c25789584b53c0ea3fe8dc726500f3.jpg  \n",
            " extracting: /content/drive/MyDrive/OBD-HETTNT/train/images/images77_jpg.rf.74f0b751830d3a0bb8ebcf639f5e7d07.jpg  \n",
            " extracting: /content/drive/MyDrive/OBD-HETTNT/train/images/images7_jpg.rf.a24e3560b9afef4022d19b2c7f3a1820.jpg  \n",
            " extracting: /content/drive/MyDrive/OBD-HETTNT/train/images/images7_jpg.rf.c7009589e68cc15ac464b23f056f2073.jpg  \n",
            " extracting: /content/drive/MyDrive/OBD-HETTNT/train/images/images81_jpg.rf.6078816b03fb96f62eabac62ead83ad9.jpg  \n",
            " extracting: /content/drive/MyDrive/OBD-HETTNT/train/images/images8_jpg.rf.cd80567d4c546b4a287bcd8993905219.jpg  \n",
            " extracting: /content/drive/MyDrive/OBD-HETTNT/train/images/images97_jpg.rf.05983a4bb2b57f9c5a50673d3741ede6.jpg  \n",
            " extracting: /content/drive/MyDrive/OBD-HETTNT/train/images/imgef110a_jpg.rf.5a6df16a863429477836e471c182e49f.jpg  \n",
            " extracting: /content/drive/MyDrive/OBD-HETTNT/train/images/large2_jpg.rf.53620dbc8d356a07be8a9792aa5bf254.jpg  \n",
            " extracting: /content/drive/MyDrive/OBD-HETTNT/train/images/large_jpg.rf.ead910e1aa80336e3fcdb4df5ef21a1e.jpg  \n",
            " extracting: /content/drive/MyDrive/OBD-HETTNT/train/images/maize-weevil-in-grain-storage-zambia-1_png.rf.06b96a5ffbd73f50e68a2173b7c3c37e.jpg  \n",
            " extracting: /content/drive/MyDrive/OBD-HETTNT/train/images/maize-weevil-rwanda-1_png.rf.ec4fc458b2a9257120cfcab10bbebbe2.jpg  \n",
            " extracting: /content/drive/MyDrive/OBD-HETTNT/train/images/maxresdefault2_jpg.rf.d86e2398d8dd620e132ef6760f5f8b01.jpg  \n",
            " extracting: /content/drive/MyDrive/OBD-HETTNT/train/images/mev-10866268_jpg.rf.44572f32d629c7f1c2d8529f0f0f2929.jpg  \n",
            " extracting: /content/drive/MyDrive/OBD-HETTNT/train/images/mw-cr-dorsal_b_jpg.rf.9ed0a067301b5cb0c628da750f4c10ac.jpg  \n",
            " extracting: /content/drive/MyDrive/OBD-HETTNT/train/images/new-fall-army-worm2-1-e1534667771762_jpg.rf.e62f3361dc8ec152abd1df3928c5353a.jpg  \n",
            " extracting: /content/drive/MyDrive/OBD-HETTNT/train/images/stock-photo-wheat-weevil-sitophilus-granarius-beetle-on-seeds-1894944673_jpg.rf.e80e615274eb2be81897321913b899dc.jpg  \n",
            " extracting: /content/drive/MyDrive/OBD-HETTNT/train/images/whiteflies-1_jpg.rf.4a9923e7a072fa8eeff832175e249a20.jpg  \n",
            " extracting: /content/drive/MyDrive/OBD-HETTNT/train/images/whiteflies-whitefly-whiteflies-on-leaf-shutterstock-com_15881_jpg.rf.0c6f463d6b77abe4077e5dd9dfaf79a3.jpg  \n",
            " extracting: /content/drive/MyDrive/OBD-HETTNT/train/images/whiteflies1_jpg.rf.8aac28f57acf5e7b317e9728cd8d7109.jpg  \n",
            " extracting: /content/drive/MyDrive/OBD-HETTNT/train/images/whitefly-whiteflies_jpg.rf.28619418cc94a2d6a94b1e857f1124b0.jpg  \n",
            " extracting: /content/drive/MyDrive/OBD-HETTNT/train/images/whitefly_adult_png.rf.c13704db167384c54b5e94da6ad413e2.jpg  \n",
            " extracting: /content/drive/MyDrive/OBD-HETTNT/train/images/whitefly_jpg.rf.f1c2fe33972d58c45270bf7d8f8f6f90.jpg  \n",
            " extracting: /content/drive/MyDrive/OBD-HETTNT/train/images/z3300535-800px-wm_jpg.rf.8e0de8d547c6cae4e273947982930668.jpg  \n",
            "   creating: /content/drive/MyDrive/OBD-HETTNT/train/labels/\n",
            "  inflating: /content/drive/MyDrive/OBD-HETTNT/train/labels/00381958b77828540f384ac1beeb0e79e8c27f9farc614x376w735us1_jpg.rf.75007858e3f8b68d11401c7892d21736.txt  \n",
            "  inflating: /content/drive/MyDrive/OBD-HETTNT/train/labels/17_23-Armyworms_IDchart_png.rf.a7b7f5f3675fc03b262e2d87a8dd275f.txt  \n",
            "  inflating: /content/drive/MyDrive/OBD-HETTNT/train/labels/2-Figure1-1_png.rf.59941ba058b3226147c1a79f549dbe93.txt  \n",
            "  inflating: /content/drive/MyDrive/OBD-HETTNT/train/labels/32577231314_a7b9506122_k_jpg.rf.bb8dde148cf64f05d5c3e6a75ddb9ea6.txt  \n",
            "  inflating: /content/drive/MyDrive/OBD-HETTNT/train/labels/418166_jpg.rf.c98da929721a09c9b03d924c7df28ab1.txt  \n",
            "  inflating: /content/drive/MyDrive/OBD-HETTNT/train/labels/542-688191d4e084124377afc7e625af586a_jpg.rf.17a4c3e8e35383d4c24bf8746c3d8eb1.txt  \n",
            " extracting: /content/drive/MyDrive/OBD-HETTNT/train/labels/9923_16292_4359_jpg.rf.a6c957320849af7a9e7a0a1523fec7e5.txt  \n",
            "  inflating: /content/drive/MyDrive/OBD-HETTNT/train/labels/Aphis_craccivora_aptera_c2016-08-23_18-34-01ew_jpg.rf.c142c5020bffb6192a5f0f02b2a4b756.txt  \n",
            "  inflating: /content/drive/MyDrive/OBD-HETTNT/train/labels/Aphis_craccivora_aptera_ventral_c2018-06-19_10-11-01_jpg.rf.d449add3e9053ddca83e7579a4d3ecf8.txt  \n",
            "  inflating: /content/drive/MyDrive/OBD-HETTNT/train/labels/Aphis_craccivora_colony_on_Vicia_c2016-08-23_14-37-01ew_jpg.rf.c142ac394efe9afd68b8e9f76cf2120f.txt  \n",
            "  inflating: /content/drive/MyDrive/OBD-HETTNT/train/labels/CPaphid_jpg.rf.2f833abb070287429ea282f6d348508e.txt  \n",
            "  inflating: /content/drive/MyDrive/OBD-HETTNT/train/labels/Cowpea-aphids-SE-MR-Oct-2021-image-2_jpg.rf.4e5227bc554a8591b5ff5c57a4d9e851.txt  \n",
            "  inflating: /content/drive/MyDrive/OBD-HETTNT/train/labels/DSC_3555_jpg.rf.11f75d2323bca3c302986b66b7aae314.txt  \n",
            "  inflating: /content/drive/MyDrive/OBD-HETTNT/train/labels/FAW-Larvae-Y-shape-5_jpg.rf.64c482dcd053c47a721757bb46391a5a.txt  \n",
            "  inflating: /content/drive/MyDrive/OBD-HETTNT/train/labels/Fall-Armyworm_jpg.rf.b9422a514192adc497a4258996e1c967.txt  \n",
            "  inflating: /content/drive/MyDrive/OBD-HETTNT/train/labels/Fall-army-worm_jpg.rf.d1e00b0197c4e47feaff8367f296106f.txt  \n",
            "  inflating: /content/drive/MyDrive/OBD-HETTNT/train/labels/Fall-armyworm-min_jpg.rf.e678e522729220dc1b10f0eb14a03b6a.txt  \n",
            "  inflating: /content/drive/MyDrive/OBD-HETTNT/train/labels/I-HO-ACRA-AD-003banner_png.rf.28db10090d638537bf1f034abc929989.txt  \n",
            "  inflating: /content/drive/MyDrive/OBD-HETTNT/train/labels/IMG_FAWLR-848x565_jpg.rf.bd061de17ef16cd950d9bf337cfec3d8.txt  \n",
            "  inflating: /content/drive/MyDrive/OBD-HETTNT/train/labels/ISC-fall-armyworm_jpg.rf.2ca9729e98f2070285e46c610bfe2a84.txt  \n",
            "  inflating: /content/drive/MyDrive/OBD-HETTNT/train/labels/MaizeWeevilsDorsalmmScaleMicro_jpg.rf.813ef4e22f807c63f664182730b49961.txt  \n",
            "  inflating: /content/drive/MyDrive/OBD-HETTNT/train/labels/Maize_weevil_jpg.rf.78caa6d2bf71d182f5b06765430cdb19.txt  \n",
            "  inflating: /content/drive/MyDrive/OBD-HETTNT/train/labels/News_18_23_Armyworm_jpg.rf.792a19770335f87371fbc7f0bd68192b.txt  \n",
            "  inflating: /content/drive/MyDrive/OBD-HETTNT/train/labels/WeevilFeedingOnCorn_jpg.rf.1b00720cb8d3a36ee0c5c5075a0e1569.txt  \n",
            "  inflating: /content/drive/MyDrive/OBD-HETTNT/train/labels/Whiteflies-2_jpg.rf.69290872750c58d8d132991b1281ad64.txt  \n",
            "  inflating: /content/drive/MyDrive/OBD-HETTNT/train/labels/Whiteflies-and-eggs-1024x683_jpg.rf.6f67ac4a443f8fc29b56e0cc2a0deb39.txt  \n",
            "  inflating: /content/drive/MyDrive/OBD-HETTNT/train/labels/aphis-craccivora-1817b1b5-2e60-48a5-b46c-22317fdf451-resize-750_jpeg.rf.a80e17b695c1c40d957e63ee926836b1.txt  \n",
            "  inflating: /content/drive/MyDrive/OBD-HETTNT/train/labels/aphis-craccivora_jpg.rf.26e18745e8a324825510953a1611d6d4.txt  \n",
            "  inflating: /content/drive/MyDrive/OBD-HETTNT/train/labels/armyworm-header-1_jpg.rf.8f9db4989a797323db2685057ea6ac7c.txt  \n",
            "  inflating: /content/drive/MyDrive/OBD-HETTNT/train/labels/bc5a1728-2d94-4ac3-9b3f-afdcc17e54e1_png.rf.a37871e890c5412ad9cb47fa2b4b512f.txt  \n",
            "  inflating: /content/drive/MyDrive/OBD-HETTNT/train/labels/bean-beetle-stages-II-Adj-708X466_jpg.rf.0be2d1bfcac37d33e2b45cb63acb4f50.txt  \n",
            "  inflating: /content/drive/MyDrive/OBD-HETTNT/train/labels/bemisiatabaci6-copy-615x340_jpg.rf.843956f2eba8468c391da0ca209e61ed.txt  \n",
            "  inflating: /content/drive/MyDrive/OBD-HETTNT/train/labels/bruchidbeetle-3_jpg.rf.d1cb132df146b30c9ddd17ab5d04ec73.txt  \n",
            "  inflating: /content/drive/MyDrive/OBD-HETTNT/train/labels/cbac682c-dabc-471f-90a8-68f0dafcd242_png.rf.649d8dcff4eb9d5a000dfcc87c895588.txt  \n",
            "  inflating: /content/drive/MyDrive/OBD-HETTNT/train/labels/cowpea-aphid-1_jpg.rf.4a3e10b507093a81537b4f3a8309c84e.txt  \n",
            "  inflating: /content/drive/MyDrive/OBD-HETTNT/train/labels/cowpea-aphid-adult-and-nymph-Andrew-Weeks-cesar-1024x682_jpg.rf.f9b038d6f919e3b993da65c3b6b96789.txt  \n",
            "  inflating: /content/drive/MyDrive/OBD-HETTNT/train/labels/depositphotos_277661244-stock-photo-macro-photo-of-rice-weevil_jpg.rf.8d05384c2c4cc68e53fc5b981c9bb3fa.txt  \n",
            "  inflating: /content/drive/MyDrive/OBD-HETTNT/train/labels/fall-armyworm-IMG_6969-sm_jpg.rf.ac53b0d5f813679fc40cf3eee0e11f67.txt  \n",
            "  inflating: /content/drive/MyDrive/OBD-HETTNT/train/labels/fall-armyworm-on-maize-ghana-1_jpg.rf.8743fefc5be33635b8673f37a308f151.txt  \n",
            "  inflating: /content/drive/MyDrive/OBD-HETTNT/train/labels/fallarmyworm01_jpg.rf.2f1290931377194132e6ce925172b20b.txt  \n",
            "  inflating: /content/drive/MyDrive/OBD-HETTNT/train/labels/figure-whiteflies-3_jpg.rf.1c2d0405559c08cb48e9c76ad0bb56dc.txt  \n",
            "  inflating: /content/drive/MyDrive/OBD-HETTNT/train/labels/granaryweevil1ag_jpg.rf.a35ef646f835f3aea6880a28fb0f77a8.txt  \n",
            "  inflating: /content/drive/MyDrive/OBD-HETTNT/train/labels/image10_jpeg.rf.6f69caa81c5c9b26b333216fa46144d4.txt  \n",
            "  inflating: /content/drive/MyDrive/OBD-HETTNT/train/labels/image14_jpeg.rf.2f0706085f5ef9a5371b6d3b6c152fd0.txt  \n",
            "  inflating: /content/drive/MyDrive/OBD-HETTNT/train/labels/image14_jpeg.rf.ed1fe86648d80825d56cc2e75a6aa420.txt  \n",
            "  inflating: /content/drive/MyDrive/OBD-HETTNT/train/labels/image17_jpeg.rf.f685b2af5c5057e1feda806362d25dda.txt  \n",
            "  inflating: /content/drive/MyDrive/OBD-HETTNT/train/labels/image20_jpeg.rf.a1f630b1b667d0321e712fa9db8467ae.txt  \n",
            "  inflating: /content/drive/MyDrive/OBD-HETTNT/train/labels/image23_jpeg.rf.266a9f9b7f9a3a3191e651a517cfc652.txt  \n",
            "  inflating: /content/drive/MyDrive/OBD-HETTNT/train/labels/image24_jpeg.rf.dab5e0c7ca6dac2aae6b0d8d679ba9cb.txt  \n",
            "  inflating: /content/drive/MyDrive/OBD-HETTNT/train/labels/image25_jpeg.rf.ebdbbc7ee8cead08b4c9693d47c2e2e2.txt  \n",
            "  inflating: /content/drive/MyDrive/OBD-HETTNT/train/labels/image27_jpeg.rf.2cf5c2dea3a558a4ed801accf993d43b.txt  \n",
            "  inflating: /content/drive/MyDrive/OBD-HETTNT/train/labels/image29_jpeg.rf.1c5df6e1473e881c0755b2919756967c.txt  \n",
            " extracting: /content/drive/MyDrive/OBD-HETTNT/train/labels/image4_jpeg.rf.1c1a89f19168b123d7a1e64ab220e487.txt  \n",
            "  inflating: /content/drive/MyDrive/OBD-HETTNT/train/labels/images-2-_jpg.rf.b81dc2a437422128c36005a658a8ab0d.txt  \n",
            "  inflating: /content/drive/MyDrive/OBD-HETTNT/train/labels/images101_jpg.rf.72fe753777c13907dd3c573d35294153.txt  \n",
            "  inflating: /content/drive/MyDrive/OBD-HETTNT/train/labels/images108_jpg.rf.2002c7028862b30a2093ac806ae68ad9.txt  \n",
            "  inflating: /content/drive/MyDrive/OBD-HETTNT/train/labels/images115_jpg.rf.4a667802ad852c467a8aa1c4094dbc81.txt  \n",
            "  inflating: /content/drive/MyDrive/OBD-HETTNT/train/labels/images119_jpg.rf.e6fd7902c33b0b6f78f7d1d1c66a0ef8.txt  \n",
            "  inflating: /content/drive/MyDrive/OBD-HETTNT/train/labels/images11_jpg.rf.a80c6157179baeaf112cc561858b37a6.txt  \n",
            "  inflating: /content/drive/MyDrive/OBD-HETTNT/train/labels/images127_jpg.rf.8b356b0b31791ca0dce11c2eb60f845c.txt  \n",
            " extracting: /content/drive/MyDrive/OBD-HETTNT/train/labels/images12_jpg.rf.713e5505c763e8ee66bcb3780853f83c.txt  \n",
            "  inflating: /content/drive/MyDrive/OBD-HETTNT/train/labels/images130_jpg.rf.8c676ec2e954cb8df57349c8390b2016.txt  \n",
            "  inflating: /content/drive/MyDrive/OBD-HETTNT/train/labels/images132_jpg.rf.11bee11ac4facb78dd01d6970c760bb5.txt  \n",
            "  inflating: /content/drive/MyDrive/OBD-HETTNT/train/labels/images139_jpg.rf.57640224e73815357f3bbff0ce3905ff.txt  \n",
            "  inflating: /content/drive/MyDrive/OBD-HETTNT/train/labels/images143_jpg.rf.2cd9a5b5ed1a44a8659f2fe8c914266e.txt  \n",
            "  inflating: /content/drive/MyDrive/OBD-HETTNT/train/labels/images144_jpg.rf.5282c0066138e83b19368306e3c6f257.txt  \n",
            "  inflating: /content/drive/MyDrive/OBD-HETTNT/train/labels/images145_jpg.rf.be1ce30a88df8e1c069b296e18a17c1c.txt  \n",
            "  inflating: /content/drive/MyDrive/OBD-HETTNT/train/labels/images147_jpg.rf.3e17fc241dddc27781615315b867033d.txt  \n",
            "  inflating: /content/drive/MyDrive/OBD-HETTNT/train/labels/images151_jpg.rf.fb9671e6d79846069e8ea370249aa4af.txt  \n",
            "  inflating: /content/drive/MyDrive/OBD-HETTNT/train/labels/images152_jpg.rf.1ecb88489594525380dbc8f1105440b7.txt  \n",
            "  inflating: /content/drive/MyDrive/OBD-HETTNT/train/labels/images156_jpg.rf.1ab9d301663ca3e32249b5a24c3ecde0.txt  \n",
            "  inflating: /content/drive/MyDrive/OBD-HETTNT/train/labels/images160_jpg.rf.10a89bc8c8c1895491b2ae3733836b70.txt  \n",
            "  inflating: /content/drive/MyDrive/OBD-HETTNT/train/labels/images166_jpg.rf.89bfe03d11f7c6ef947d10d139ad19d1.txt  \n",
            "  inflating: /content/drive/MyDrive/OBD-HETTNT/train/labels/images166_jpg.rf.c07536bdec5eba7c95dad1d3e8fe7fe4.txt  \n",
            "  inflating: /content/drive/MyDrive/OBD-HETTNT/train/labels/images172_jpg.rf.738c955ab4e528a54bc0a64462db7c02.txt  \n",
            "  inflating: /content/drive/MyDrive/OBD-HETTNT/train/labels/images176_jpg.rf.9cbcf3faf047d3d45331047cf4a3c786.txt  \n",
            "  inflating: /content/drive/MyDrive/OBD-HETTNT/train/labels/images178_jpg.rf.f081bc2de6db83ac0fcb3221acc13907.txt  \n",
            "  inflating: /content/drive/MyDrive/OBD-HETTNT/train/labels/images17_jpg.rf.c6e8fdbc4d7b97a86759adb7607bd66b.txt  \n",
            "  inflating: /content/drive/MyDrive/OBD-HETTNT/train/labels/images180_jpg.rf.e18440ec98930ad581fa3d0fb633bd93.txt  \n",
            "  inflating: /content/drive/MyDrive/OBD-HETTNT/train/labels/images185_jpg.rf.67d5a7cc86cd8035d6b41a4b024b9697.txt  \n",
            " extracting: /content/drive/MyDrive/OBD-HETTNT/train/labels/images193_jpg.rf.6c5501bf0e659b885d9043ed5c108baa.txt  \n",
            "  inflating: /content/drive/MyDrive/OBD-HETTNT/train/labels/images198_jpg.rf.cc68edbe4602e6c6798b9287f30c76a4.txt  \n",
            "  inflating: /content/drive/MyDrive/OBD-HETTNT/train/labels/images19_jpg.rf.424ded1beaa36b18d5705136efe24fca.txt  \n",
            "  inflating: /content/drive/MyDrive/OBD-HETTNT/train/labels/images200_jpg.rf.c2f0c3f2d59077c4f06e5a6165c18755.txt  \n",
            "  inflating: /content/drive/MyDrive/OBD-HETTNT/train/labels/images200_jpg.rf.df5870e254863d1e5531a2ab08016e8f.txt  \n",
            "  inflating: /content/drive/MyDrive/OBD-HETTNT/train/labels/images202_jpg.rf.4ceed7844d43ccc149a16a79c0cc29e2.txt  \n",
            "  inflating: /content/drive/MyDrive/OBD-HETTNT/train/labels/images212_jpg.rf.0f4fb7c7c0037355e647ffc34a82e3b8.txt  \n",
            " extracting: /content/drive/MyDrive/OBD-HETTNT/train/labels/images215_jpg.rf.e64dfd73b8c38db0ebb3b84842de51ae.txt  \n",
            "  inflating: /content/drive/MyDrive/OBD-HETTNT/train/labels/images216_jpg.rf.3a3396b98e66d1f5da69360a6628d25c.txt  \n",
            "  inflating: /content/drive/MyDrive/OBD-HETTNT/train/labels/images216_jpg.rf.e173bb9b82e87baeaaeebfce1587c41e.txt  \n",
            "  inflating: /content/drive/MyDrive/OBD-HETTNT/train/labels/images224_jpg.rf.c104cf6718b53b99611a6b021c1788fe.txt  \n",
            "  inflating: /content/drive/MyDrive/OBD-HETTNT/train/labels/images226_jpg.rf.0475ceafdf0df50e7426e70949f58d10.txt  \n",
            "  inflating: /content/drive/MyDrive/OBD-HETTNT/train/labels/images226_jpg.rf.6d8cd6178f8acdf54f935b136d956bc7.txt  \n",
            "  inflating: /content/drive/MyDrive/OBD-HETTNT/train/labels/images228_jpg.rf.7a7e94323b1a50c6645bd3a5b107e40b.txt  \n",
            "  inflating: /content/drive/MyDrive/OBD-HETTNT/train/labels/images250_jpg.rf.b3b91c898735a28c827f28aab02dcc1c.txt  \n",
            "  inflating: /content/drive/MyDrive/OBD-HETTNT/train/labels/images250_jpg.rf.c83dac1d2594617a2b80c9344e71157f.txt  \n",
            "  inflating: /content/drive/MyDrive/OBD-HETTNT/train/labels/images251_jpg.rf.304f8602288de5faca41b366fec1ff97.txt  \n",
            "  inflating: /content/drive/MyDrive/OBD-HETTNT/train/labels/images251_jpg.rf.62129e36101c4b38967aaef8f7551ffc.txt  \n",
            "  inflating: /content/drive/MyDrive/OBD-HETTNT/train/labels/images254_jpg.rf.6c45307916ae60539718e213585f04a9.txt  \n",
            "  inflating: /content/drive/MyDrive/OBD-HETTNT/train/labels/images254_jpg.rf.980411e6bb84603bfef4e0b247c13b78.txt  \n",
            "  inflating: /content/drive/MyDrive/OBD-HETTNT/train/labels/images255_jpg.rf.5d09710a70479898340ec7602deab335.txt  \n",
            "  inflating: /content/drive/MyDrive/OBD-HETTNT/train/labels/images255_jpg.rf.81e4d8293a8932b00b8452ea21d9b0c2.txt  \n",
            "  inflating: /content/drive/MyDrive/OBD-HETTNT/train/labels/images257_jpg.rf.a71ff5188d521e914a4ce9a9748c5590.txt  \n",
            "  inflating: /content/drive/MyDrive/OBD-HETTNT/train/labels/images260_jpg.rf.cb9855e847a214c9f9bdcf4363a68aea.txt  \n",
            "  inflating: /content/drive/MyDrive/OBD-HETTNT/train/labels/images261_jpg.rf.3b3f5564024ececdfd485a6077a50ca5.txt  \n",
            "  inflating: /content/drive/MyDrive/OBD-HETTNT/train/labels/images261_jpg.rf.cee91d93400e668a8c109492fe439337.txt  \n",
            "  inflating: /content/drive/MyDrive/OBD-HETTNT/train/labels/images265_jpg.rf.76754cf7f65471e8dcb11b871f2a0035.txt  \n",
            " extracting: /content/drive/MyDrive/OBD-HETTNT/train/labels/images267_jpg.rf.0499cc801214c864471e059442e1199f.txt  \n",
            "  inflating: /content/drive/MyDrive/OBD-HETTNT/train/labels/images268_jpg.rf.012d2aa8e442e74ac03f9a8bf27a417f.txt  \n",
            "  inflating: /content/drive/MyDrive/OBD-HETTNT/train/labels/images26_jpg.rf.c9cdae7e09e778fbef09657cc867e17b.txt  \n",
            "  inflating: /content/drive/MyDrive/OBD-HETTNT/train/labels/images276_jpg.rf.2b78c249616fc333580b3a5c6e63197e.txt  \n",
            "  inflating: /content/drive/MyDrive/OBD-HETTNT/train/labels/images288_jpg.rf.b495af819666931af034aebb36f8e064.txt  \n",
            "  inflating: /content/drive/MyDrive/OBD-HETTNT/train/labels/images2_jpg.rf.cb1687128b2614a2a1ec4b2f0a839a40.txt  \n",
            "  inflating: /content/drive/MyDrive/OBD-HETTNT/train/labels/images300_jpg.rf.d95e88ffcc7702c78ab484c56569da2f.txt  \n",
            "  inflating: /content/drive/MyDrive/OBD-HETTNT/train/labels/images302_jpg.rf.3be35b4b2d58609909c774ff7881c70d.txt  \n",
            "  inflating: /content/drive/MyDrive/OBD-HETTNT/train/labels/images306_jpg.rf.90173f20961e96e9b4ea90cc6e364609.txt  \n",
            "  inflating: /content/drive/MyDrive/OBD-HETTNT/train/labels/images315_jpg.rf.2420207016cdc21f94f42738f3a8e1f8.txt  \n",
            "  inflating: /content/drive/MyDrive/OBD-HETTNT/train/labels/images31_jpg.rf.0799308d66d9d0cee920723e7689fd8f.txt  \n",
            "  inflating: /content/drive/MyDrive/OBD-HETTNT/train/labels/images32_jpg.rf.693d93e723fb4f96e3ce6d2106e936d0.txt  \n",
            "  inflating: /content/drive/MyDrive/OBD-HETTNT/train/labels/images340_jpg.rf.4ba081d2838424e4002febdfc125a8ff.txt  \n",
            "  inflating: /content/drive/MyDrive/OBD-HETTNT/train/labels/images347_jpg.rf.b26293169df746697f62f9c7951e5d37.txt  \n",
            "  inflating: /content/drive/MyDrive/OBD-HETTNT/train/labels/images35_jpg.rf.a718c11fef4c4acb94bc66b1ad9ef2bb.txt  \n",
            "  inflating: /content/drive/MyDrive/OBD-HETTNT/train/labels/images363_jpg.rf.bdac08f183c8ccae3caded2cce77c250.txt  \n",
            "  inflating: /content/drive/MyDrive/OBD-HETTNT/train/labels/images376_jpg.rf.3f1db5add86768ab70b121a64a5ec2e6.txt  \n",
            "  inflating: /content/drive/MyDrive/OBD-HETTNT/train/labels/images383_jpg.rf.dedfe6cf21089a55440934b7d2fb3ab2.txt  \n",
            "  inflating: /content/drive/MyDrive/OBD-HETTNT/train/labels/images395_jpg.rf.d756f1bc802dc98f6a48ab267d1940d9.txt  \n",
            "  inflating: /content/drive/MyDrive/OBD-HETTNT/train/labels/images51_jpg.rf.258ae147f6eb4755c2de1065e12a9f39.txt  \n",
            "  inflating: /content/drive/MyDrive/OBD-HETTNT/train/labels/images53_jpg.rf.65f5eaa7213ee77f198602afe2e514f2.txt  \n",
            "  inflating: /content/drive/MyDrive/OBD-HETTNT/train/labels/images5_jpg.rf.8369c68542d7843019bb6930e9bb7b28.txt  \n",
            "  inflating: /content/drive/MyDrive/OBD-HETTNT/train/labels/images65_jpg.rf.be1d127d6bfbeb995b63d7a8532aedf7.txt  \n",
            "  inflating: /content/drive/MyDrive/OBD-HETTNT/train/labels/images69_jpg.rf.1d59c0836c2bcd360b33e9be921cdf93.txt  \n",
            "  inflating: /content/drive/MyDrive/OBD-HETTNT/train/labels/images6_jpg.rf.c0c25789584b53c0ea3fe8dc726500f3.txt  \n",
            " extracting: /content/drive/MyDrive/OBD-HETTNT/train/labels/images77_jpg.rf.74f0b751830d3a0bb8ebcf639f5e7d07.txt  \n",
            "  inflating: /content/drive/MyDrive/OBD-HETTNT/train/labels/images7_jpg.rf.a24e3560b9afef4022d19b2c7f3a1820.txt  \n",
            "  inflating: /content/drive/MyDrive/OBD-HETTNT/train/labels/images7_jpg.rf.c7009589e68cc15ac464b23f056f2073.txt  \n",
            "  inflating: /content/drive/MyDrive/OBD-HETTNT/train/labels/images81_jpg.rf.6078816b03fb96f62eabac62ead83ad9.txt  \n",
            "  inflating: /content/drive/MyDrive/OBD-HETTNT/train/labels/images8_jpg.rf.cd80567d4c546b4a287bcd8993905219.txt  \n",
            "  inflating: /content/drive/MyDrive/OBD-HETTNT/train/labels/images97_jpg.rf.05983a4bb2b57f9c5a50673d3741ede6.txt  \n",
            "  inflating: /content/drive/MyDrive/OBD-HETTNT/train/labels/imgef110a_jpg.rf.5a6df16a863429477836e471c182e49f.txt  \n",
            "  inflating: /content/drive/MyDrive/OBD-HETTNT/train/labels/large2_jpg.rf.53620dbc8d356a07be8a9792aa5bf254.txt  \n",
            "  inflating: /content/drive/MyDrive/OBD-HETTNT/train/labels/large_jpg.rf.ead910e1aa80336e3fcdb4df5ef21a1e.txt  \n",
            "  inflating: /content/drive/MyDrive/OBD-HETTNT/train/labels/maize-weevil-in-grain-storage-zambia-1_png.rf.06b96a5ffbd73f50e68a2173b7c3c37e.txt  \n",
            "  inflating: /content/drive/MyDrive/OBD-HETTNT/train/labels/maize-weevil-rwanda-1_png.rf.ec4fc458b2a9257120cfcab10bbebbe2.txt  \n",
            "  inflating: /content/drive/MyDrive/OBD-HETTNT/train/labels/maxresdefault2_jpg.rf.d86e2398d8dd620e132ef6760f5f8b01.txt  \n",
            "  inflating: /content/drive/MyDrive/OBD-HETTNT/train/labels/mev-10866268_jpg.rf.44572f32d629c7f1c2d8529f0f0f2929.txt  \n",
            "  inflating: /content/drive/MyDrive/OBD-HETTNT/train/labels/mw-cr-dorsal_b_jpg.rf.9ed0a067301b5cb0c628da750f4c10ac.txt  \n",
            "  inflating: /content/drive/MyDrive/OBD-HETTNT/train/labels/new-fall-army-worm2-1-e1534667771762_jpg.rf.e62f3361dc8ec152abd1df3928c5353a.txt  \n",
            "  inflating: /content/drive/MyDrive/OBD-HETTNT/train/labels/stock-photo-wheat-weevil-sitophilus-granarius-beetle-on-seeds-1894944673_jpg.rf.e80e615274eb2be81897321913b899dc.txt  \n",
            "  inflating: /content/drive/MyDrive/OBD-HETTNT/train/labels/whiteflies-1_jpg.rf.4a9923e7a072fa8eeff832175e249a20.txt  \n",
            "  inflating: /content/drive/MyDrive/OBD-HETTNT/train/labels/whiteflies-whitefly-whiteflies-on-leaf-shutterstock-com_15881_jpg.rf.0c6f463d6b77abe4077e5dd9dfaf79a3.txt  \n",
            " extracting: /content/drive/MyDrive/OBD-HETTNT/train/labels/whiteflies1_jpg.rf.8aac28f57acf5e7b317e9728cd8d7109.txt  \n",
            "  inflating: /content/drive/MyDrive/OBD-HETTNT/train/labels/whitefly-whiteflies_jpg.rf.28619418cc94a2d6a94b1e857f1124b0.txt  \n",
            "  inflating: /content/drive/MyDrive/OBD-HETTNT/train/labels/whitefly_adult_png.rf.c13704db167384c54b5e94da6ad413e2.txt  \n",
            "  inflating: /content/drive/MyDrive/OBD-HETTNT/train/labels/whitefly_jpg.rf.f1c2fe33972d58c45270bf7d8f8f6f90.txt  \n",
            "  inflating: /content/drive/MyDrive/OBD-HETTNT/train/labels/z3300535-800px-wm_jpg.rf.8e0de8d547c6cae4e273947982930668.txt  \n",
            "   creating: /content/drive/MyDrive/OBD-HETTNT/valid/\n",
            "   creating: /content/drive/MyDrive/OBD-HETTNT/valid/images/\n",
            " extracting: /content/drive/MyDrive/OBD-HETTNT/valid/images/0314F1-3241a-1540x800_jpg.rf.b5948d99dc70848a1aa25d2f0d4c2de9.jpg  \n",
            " extracting: /content/drive/MyDrive/OBD-HETTNT/valid/images/13165_2023_428_Fig5_HTML_png.rf.400fea3ffdbaa094a67991c256adbdc4.jpg  \n",
            " extracting: /content/drive/MyDrive/OBD-HETTNT/valid/images/3fdd484a-446c-4e7a-ac52-72a36fa112f3_jpg.rf.2ac38405c2f49a57b29ddf4fde164b0f.jpg  \n",
            " extracting: /content/drive/MyDrive/OBD-HETTNT/valid/images/4-Maize_weevil_jpg.rf.af07af43fa323178bbc7dd9a9a9f018f.jpg  \n",
            " extracting: /content/drive/MyDrive/OBD-HETTNT/valid/images/61b87b3d58c1993be24aa483_Farm4Trade-best-practices-to-tackle-the-fall-armyworms-invasion_jpeg.rf.e5830b17c88ed506c67d9ec6725b0aa2.jpg  \n",
            " extracting: /content/drive/MyDrive/OBD-HETTNT/valid/images/800px-Epilachna_varivestis_28cropped29_jpg.rf.e669a93714b58e049fab08c0582dea85.jpg  \n",
            " extracting: /content/drive/MyDrive/OBD-HETTNT/valid/images/9923_16293_4545_jpg.rf.7a5a26c6ba0bb9e471509033cdc159a5.jpg  \n",
            " extracting: /content/drive/MyDrive/OBD-HETTNT/valid/images/Cowpea20aphid203_png.rf.59ec47c899a47e265d0bc9f9794724a0.jpg  \n",
            " extracting: /content/drive/MyDrive/OBD-HETTNT/valid/images/Distinguishing-morphological-features-of-the-fall-armyworm-Spodoptera-frugiperda-a_jpg.rf.8dd92eb49a73eb900358cf5dfeb2e924.jpg  \n",
            " extracting: /content/drive/MyDrive/OBD-HETTNT/valid/images/ISCA-fall-armyworm_jpg.rf.68742c97e0026b2831a57a4bb68e8fac.jpg  \n",
            " extracting: /content/drive/MyDrive/OBD-HETTNT/valid/images/Whiteflies_Central-Science-Laboratory-Harpenden-Archive-British-Crown-Bugwood-org__jpg.rf.8af4bb9778d7c7a51bf791795a2c7fd0.jpg  \n",
            " extracting: /content/drive/MyDrive/OBD-HETTNT/valid/images/african-armyworm-in-maize-malawi-1_png.rf.e6079382ad1f609670a7f3633bfa9840.jpg  \n",
            " extracting: /content/drive/MyDrive/OBD-HETTNT/valid/images/content_FAO_Website_image__jpg.rf.02b865507decb304337567c97707ba89.jpg  \n",
            " extracting: /content/drive/MyDrive/OBD-HETTNT/valid/images/cowpea-aphid-adult-wingless-red-Andrew-Weeks-Cesar-Australia-450x270_jpg.rf.9a6c68a570b1915736ba6c40967f4e6a.jpg  \n",
            " extracting: /content/drive/MyDrive/OBD-HETTNT/valid/images/fall-armyworm-Spodoptera-frugiperda_jpg.rf.6d996338489d3314f0875babd693e08a.jpg  \n",
            " extracting: /content/drive/MyDrive/OBD-HETTNT/valid/images/fall-armyworm-larva-in-hand-scaled-e1629917985391_jpg.rf.001482249d7c0221c7d012b54342819c.jpg  \n",
            " extracting: /content/drive/MyDrive/OBD-HETTNT/valid/images/image19_jpeg.rf.f3484c43dcca95f1e50184f5b6943908.jpg  \n",
            " extracting: /content/drive/MyDrive/OBD-HETTNT/valid/images/image24_jpeg.rf.a37afc779a0c9aba419973549232c260.jpg  \n",
            " extracting: /content/drive/MyDrive/OBD-HETTNT/valid/images/image30_jpeg.rf.0a56b1ef7d8e1d8da4f952a8df0a7759.jpg  \n",
            " extracting: /content/drive/MyDrive/OBD-HETTNT/valid/images/image32_jpeg.rf.3e909c949a4c812d89bb7293502872e3.jpg  \n",
            " extracting: /content/drive/MyDrive/OBD-HETTNT/valid/images/images122_jpg.rf.99d39c96f05b31dbfa52703c2cf3bbcb.jpg  \n",
            " extracting: /content/drive/MyDrive/OBD-HETTNT/valid/images/images136_jpg.rf.8990e89deea96be7f56b217c59cc3834.jpg  \n",
            " extracting: /content/drive/MyDrive/OBD-HETTNT/valid/images/images15-2-_jpg.rf.b77a0703b3a22f9aaa5254df2c3adc56.jpg  \n",
            " extracting: /content/drive/MyDrive/OBD-HETTNT/valid/images/images167_jpg.rf.cc370d498167d08d55bd61aa9deb4565.jpg  \n",
            " extracting: /content/drive/MyDrive/OBD-HETTNT/valid/images/images167_jpg.rf.f461bac2a297c35c464bb436601623b7.jpg  \n",
            " extracting: /content/drive/MyDrive/OBD-HETTNT/valid/images/images178_jpg.rf.5cb3ed481ae50576c1b6f8f190751d3e.jpg  \n",
            " extracting: /content/drive/MyDrive/OBD-HETTNT/valid/images/images189_jpg.rf.1e15fae37a31a1406bd2193c8c24ee33.jpg  \n",
            " extracting: /content/drive/MyDrive/OBD-HETTNT/valid/images/images210_jpg.rf.722ddb784c13f02894575f8816896e51.jpg  \n",
            " extracting: /content/drive/MyDrive/OBD-HETTNT/valid/images/images227_jpg.rf.56a4a73c22023f724702518c73823f94.jpg  \n",
            " extracting: /content/drive/MyDrive/OBD-HETTNT/valid/images/images228_jpg.rf.df765b9a381c21ed3a1b9011c082730d.jpg  \n",
            " extracting: /content/drive/MyDrive/OBD-HETTNT/valid/images/images229_jpg.rf.f3215c95f1f1b53baf5ce3fe5f319a0e.jpg  \n",
            " extracting: /content/drive/MyDrive/OBD-HETTNT/valid/images/images232_jpg.rf.e92f1d15449ca9b2c37352bda61765f7.jpg  \n",
            " extracting: /content/drive/MyDrive/OBD-HETTNT/valid/images/images234_jpg.rf.93767e2a139c9efacccd027ba54c96d2.jpg  \n",
            " extracting: /content/drive/MyDrive/OBD-HETTNT/valid/images/images265_jpg.rf.df8336a12b275dd69f85a62c2a5853a7.jpg  \n",
            " extracting: /content/drive/MyDrive/OBD-HETTNT/valid/images/images273_jpg.rf.19441c405b7409fa047f6530b11cd508.jpg  \n",
            " extracting: /content/drive/MyDrive/OBD-HETTNT/valid/images/images278_jpg.rf.4a077e27fe858ed7b5bdfe180e06ab67.jpg  \n",
            " extracting: /content/drive/MyDrive/OBD-HETTNT/valid/images/images280_jpg.rf.076c5b42497fa66e584214203aaa03f0.jpg  \n",
            " extracting: /content/drive/MyDrive/OBD-HETTNT/valid/images/images288_jpg.rf.249b43b74ac44231c19ae0d41e35f50b.jpg  \n",
            " extracting: /content/drive/MyDrive/OBD-HETTNT/valid/images/images301_jpg.rf.30ed76bc0cf8cf969c7f504c4105353b.jpg  \n",
            " extracting: /content/drive/MyDrive/OBD-HETTNT/valid/images/images30_jpg.rf.8f034dd122190b94d1b2486b9f66079a.jpg  \n",
            " extracting: /content/drive/MyDrive/OBD-HETTNT/valid/images/images353_jpg.rf.e13db4c8316504d6ac648cc1dd7b027f.jpg  \n",
            " extracting: /content/drive/MyDrive/OBD-HETTNT/valid/images/k3980-3i_jpg.rf.06731e143d78fcdefc3b770bfaa2dcf8.jpg  \n",
            " extracting: /content/drive/MyDrive/OBD-HETTNT/valid/images/shutterstock_496287097-1024x768_jpg.rf.e82529efa3c23e37898c6b53257337b1.jpg  \n",
            " extracting: /content/drive/MyDrive/OBD-HETTNT/valid/images/whitefly-close-up_jpg.rf.175185adf66df0c93fded71dfbe68611.jpg  \n",
            " extracting: /content/drive/MyDrive/OBD-HETTNT/valid/images/whitefly1_large2028229_jpg.rf.5cc44ecdcac1ff170b531d6e45fd90e0.jpg  \n",
            "   creating: /content/drive/MyDrive/OBD-HETTNT/valid/labels/\n",
            "  inflating: /content/drive/MyDrive/OBD-HETTNT/valid/labels/0314F1-3241a-1540x800_jpg.rf.b5948d99dc70848a1aa25d2f0d4c2de9.txt  \n",
            "  inflating: /content/drive/MyDrive/OBD-HETTNT/valid/labels/13165_2023_428_Fig5_HTML_png.rf.400fea3ffdbaa094a67991c256adbdc4.txt  \n",
            "  inflating: /content/drive/MyDrive/OBD-HETTNT/valid/labels/3fdd484a-446c-4e7a-ac52-72a36fa112f3_jpg.rf.2ac38405c2f49a57b29ddf4fde164b0f.txt  \n",
            "  inflating: /content/drive/MyDrive/OBD-HETTNT/valid/labels/4-Maize_weevil_jpg.rf.af07af43fa323178bbc7dd9a9a9f018f.txt  \n",
            "  inflating: /content/drive/MyDrive/OBD-HETTNT/valid/labels/61b87b3d58c1993be24aa483_Farm4Trade-best-practices-to-tackle-the-fall-armyworms-invasion_jpeg.rf.e5830b17c88ed506c67d9ec6725b0aa2.txt  \n",
            "  inflating: /content/drive/MyDrive/OBD-HETTNT/valid/labels/800px-Epilachna_varivestis_28cropped29_jpg.rf.e669a93714b58e049fab08c0582dea85.txt  \n",
            "  inflating: /content/drive/MyDrive/OBD-HETTNT/valid/labels/9923_16293_4545_jpg.rf.7a5a26c6ba0bb9e471509033cdc159a5.txt  \n",
            " extracting: /content/drive/MyDrive/OBD-HETTNT/valid/labels/Cowpea20aphid203_png.rf.59ec47c899a47e265d0bc9f9794724a0.txt  \n",
            "  inflating: /content/drive/MyDrive/OBD-HETTNT/valid/labels/Distinguishing-morphological-features-of-the-fall-armyworm-Spodoptera-frugiperda-a_jpg.rf.8dd92eb49a73eb900358cf5dfeb2e924.txt  \n",
            "  inflating: /content/drive/MyDrive/OBD-HETTNT/valid/labels/ISCA-fall-armyworm_jpg.rf.68742c97e0026b2831a57a4bb68e8fac.txt  \n",
            "  inflating: /content/drive/MyDrive/OBD-HETTNT/valid/labels/Whiteflies_Central-Science-Laboratory-Harpenden-Archive-British-Crown-Bugwood-org__jpg.rf.8af4bb9778d7c7a51bf791795a2c7fd0.txt  \n",
            "  inflating: /content/drive/MyDrive/OBD-HETTNT/valid/labels/african-armyworm-in-maize-malawi-1_png.rf.e6079382ad1f609670a7f3633bfa9840.txt  \n",
            "  inflating: /content/drive/MyDrive/OBD-HETTNT/valid/labels/content_FAO_Website_image__jpg.rf.02b865507decb304337567c97707ba89.txt  \n",
            "  inflating: /content/drive/MyDrive/OBD-HETTNT/valid/labels/cowpea-aphid-adult-wingless-red-Andrew-Weeks-Cesar-Australia-450x270_jpg.rf.9a6c68a570b1915736ba6c40967f4e6a.txt  \n",
            "  inflating: /content/drive/MyDrive/OBD-HETTNT/valid/labels/fall-armyworm-Spodoptera-frugiperda_jpg.rf.6d996338489d3314f0875babd693e08a.txt  \n",
            "  inflating: /content/drive/MyDrive/OBD-HETTNT/valid/labels/fall-armyworm-larva-in-hand-scaled-e1629917985391_jpg.rf.001482249d7c0221c7d012b54342819c.txt  \n",
            "  inflating: /content/drive/MyDrive/OBD-HETTNT/valid/labels/image19_jpeg.rf.f3484c43dcca95f1e50184f5b6943908.txt  \n",
            "  inflating: /content/drive/MyDrive/OBD-HETTNT/valid/labels/image24_jpeg.rf.a37afc779a0c9aba419973549232c260.txt  \n",
            "  inflating: /content/drive/MyDrive/OBD-HETTNT/valid/labels/image30_jpeg.rf.0a56b1ef7d8e1d8da4f952a8df0a7759.txt  \n",
            "  inflating: /content/drive/MyDrive/OBD-HETTNT/valid/labels/image32_jpeg.rf.3e909c949a4c812d89bb7293502872e3.txt  \n",
            "  inflating: /content/drive/MyDrive/OBD-HETTNT/valid/labels/images122_jpg.rf.99d39c96f05b31dbfa52703c2cf3bbcb.txt  \n",
            "  inflating: /content/drive/MyDrive/OBD-HETTNT/valid/labels/images136_jpg.rf.8990e89deea96be7f56b217c59cc3834.txt  \n",
            "  inflating: /content/drive/MyDrive/OBD-HETTNT/valid/labels/images15-2-_jpg.rf.b77a0703b3a22f9aaa5254df2c3adc56.txt  \n",
            "  inflating: /content/drive/MyDrive/OBD-HETTNT/valid/labels/images167_jpg.rf.cc370d498167d08d55bd61aa9deb4565.txt  \n",
            " extracting: /content/drive/MyDrive/OBD-HETTNT/valid/labels/images167_jpg.rf.f461bac2a297c35c464bb436601623b7.txt  \n",
            "  inflating: /content/drive/MyDrive/OBD-HETTNT/valid/labels/images178_jpg.rf.5cb3ed481ae50576c1b6f8f190751d3e.txt  \n",
            "  inflating: /content/drive/MyDrive/OBD-HETTNT/valid/labels/images189_jpg.rf.1e15fae37a31a1406bd2193c8c24ee33.txt  \n",
            "  inflating: /content/drive/MyDrive/OBD-HETTNT/valid/labels/images210_jpg.rf.722ddb784c13f02894575f8816896e51.txt  \n",
            "  inflating: /content/drive/MyDrive/OBD-HETTNT/valid/labels/images227_jpg.rf.56a4a73c22023f724702518c73823f94.txt  \n",
            "  inflating: /content/drive/MyDrive/OBD-HETTNT/valid/labels/images228_jpg.rf.df765b9a381c21ed3a1b9011c082730d.txt  \n",
            "  inflating: /content/drive/MyDrive/OBD-HETTNT/valid/labels/images229_jpg.rf.f3215c95f1f1b53baf5ce3fe5f319a0e.txt  \n",
            "  inflating: /content/drive/MyDrive/OBD-HETTNT/valid/labels/images232_jpg.rf.e92f1d15449ca9b2c37352bda61765f7.txt  \n",
            "  inflating: /content/drive/MyDrive/OBD-HETTNT/valid/labels/images234_jpg.rf.93767e2a139c9efacccd027ba54c96d2.txt  \n",
            "  inflating: /content/drive/MyDrive/OBD-HETTNT/valid/labels/images265_jpg.rf.df8336a12b275dd69f85a62c2a5853a7.txt  \n",
            "  inflating: /content/drive/MyDrive/OBD-HETTNT/valid/labels/images273_jpg.rf.19441c405b7409fa047f6530b11cd508.txt  \n",
            "  inflating: /content/drive/MyDrive/OBD-HETTNT/valid/labels/images278_jpg.rf.4a077e27fe858ed7b5bdfe180e06ab67.txt  \n",
            "  inflating: /content/drive/MyDrive/OBD-HETTNT/valid/labels/images280_jpg.rf.076c5b42497fa66e584214203aaa03f0.txt  \n",
            "  inflating: /content/drive/MyDrive/OBD-HETTNT/valid/labels/images288_jpg.rf.249b43b74ac44231c19ae0d41e35f50b.txt  \n",
            "  inflating: /content/drive/MyDrive/OBD-HETTNT/valid/labels/images301_jpg.rf.30ed76bc0cf8cf969c7f504c4105353b.txt  \n",
            "  inflating: /content/drive/MyDrive/OBD-HETTNT/valid/labels/images30_jpg.rf.8f034dd122190b94d1b2486b9f66079a.txt  \n",
            "  inflating: /content/drive/MyDrive/OBD-HETTNT/valid/labels/images353_jpg.rf.e13db4c8316504d6ac648cc1dd7b027f.txt  \n",
            "  inflating: /content/drive/MyDrive/OBD-HETTNT/valid/labels/k3980-3i_jpg.rf.06731e143d78fcdefc3b770bfaa2dcf8.txt  \n",
            "  inflating: /content/drive/MyDrive/OBD-HETTNT/valid/labels/shutterstock_496287097-1024x768_jpg.rf.e82529efa3c23e37898c6b53257337b1.txt  \n",
            "  inflating: /content/drive/MyDrive/OBD-HETTNT/valid/labels/whitefly-close-up_jpg.rf.175185adf66df0c93fded71dfbe68611.txt  \n",
            "  inflating: /content/drive/MyDrive/OBD-HETTNT/valid/labels/whitefly1_large2028229_jpg.rf.5cc44ecdcac1ff170b531d6e45fd90e0.txt  \n"
          ]
        }
      ],
      "source": [
        "%%bash\n",
        "unzip /content/drive/MyDrive/OBD-HETTNT/Pest.v2i.yolov11.zip -d /content/drive/MyDrive/OBD-HETTNT"
      ]
    },
    {
      "cell_type": "markdown",
      "source": [
        "##Visual Anotate"
      ],
      "metadata": {
        "id": "1w51INtnMgV-"
      }
    },
    {
      "cell_type": "markdown",
      "source": [
        "Công thức tính:\n",
        "(class) (tâm chéo (x,y)) (chiều dài) (chiều rộng)\n",
        "Chia cho tỷ lệ khung hình"
      ],
      "metadata": {
        "id": "Ob-EONSyOPpA"
      }
    },
    {
      "cell_type": "code",
      "source": [
        "import cv2\n",
        "import os\n",
        "import matplotlib.pyplot as plt\n",
        "\n",
        "# Path to the image and its corresponding annotation file\n",
        "image_path = \"/content/drive/MyDrive/OBD-HETTNT/train/images/2-Figure1-1_png.rf.59941ba058b3226147c1a79f549dbe93.jpg\"\n",
        "annotation_path = \"/content/drive/MyDrive/OBD-HETTNT/train/labels/2-Figure1-1_png.rf.59941ba058b3226147c1a79f549dbe93.txt\"\n",
        "\n",
        "# Load the image\n",
        "image = cv2.imread(image_path)\n",
        "height, width, _ = image.shape\n",
        "\n",
        "# Define colors for different class IDs (just using 3 classes here for example)\n",
        "colors = {\n",
        "    0: (0, 255, 0),  # Green for class 0\n",
        "    1: (0, 0, 255),  # Red for class 1\n",
        "    2: (255, 0, 0)   # Blue for class 2\n",
        "}\n",
        "\n",
        "# List of class names (partial Coco names for illustration, you can use the full list)\n",
        "coco_names = ['African Armyworm', 'bean beetles', 'cowpea aphids', 'fall armyworm', 'maize weevil', 'white flies']\n",
        "\n",
        "# Read the annotation file\n",
        "with open(annotation_path, \"r\") as file:\n",
        "    for line in file.readlines():\n",
        "        # Each line: class_id x_center y_center width height\n",
        "        parts = line.strip().split()\n",
        "        class_id = int(parts[0])  # Class ID\n",
        "        x_center = float(parts[1]) * width\n",
        "        y_center = float(parts[2]) * height\n",
        "        box_width = float(parts[3]) * width\n",
        "        box_height = float(parts[4]) * height\n",
        "\n",
        "        # Convert YOLO format to bounding box coordinates\n",
        "        xmin = int(x_center - box_width / 2)\n",
        "        ymin = int(y_center - box_height / 2)\n",
        "        xmax = int(x_center + box_width / 2)\n",
        "        ymax = int(y_center + box_height / 2)\n",
        "\n",
        "        # Draw the rectangle and label on the image\n",
        "        color = colors.get(class_id, (255, 255, 255))  # Default color: white\n",
        "        class_name = coco_names[class_id]  # Get class name from coco_names\n",
        "        cv2.rectangle(image, (xmin, ymin), (xmax, ymax), color, 2)\n",
        "        cv2.putText(image, class_name, (xmin, ymin - 10), cv2.FONT_HERSHEY_SIMPLEX, 0.5, color, 2)\n",
        "\n",
        "# Convert BGR (OpenCV format) to RGB (Matplotlib format)\n",
        "image_rgb = cv2.cvtColor(image, cv2.COLOR_BGR2RGB)\n",
        "\n",
        "# Display and save the image\n",
        "plt.imshow(image_rgb)\n",
        "plt.axis('off')  # Remove axes for better visual clarity\n",
        "#plt.savefig('visual_IP038000453_with_labels.jpg', bbox_inches='tight', pad_inches=0)  # Save before showing\n",
        "plt.show()\n",
        "plt.close()"
      ],
      "metadata": {
        "colab": {
          "base_uri": "https://localhost:8080/",
          "height": 406
        },
        "id": "I5viyF6QMraR",
        "outputId": "3aac81f4-376a-464e-cad6-bcd5892fbd95"
      },
      "execution_count": null,
      "outputs": [
        {
          "output_type": "display_data",
          "data": {
            "text/plain": [
              "<Figure size 640x480 with 1 Axes>"
            ],
            "image/png": "[encoded data removed]"
          },
          "metadata": {}
        }
      ]
    },
    {
      "cell_type": "markdown",
      "source": [
        "##Tải Yolo11 Ultralytics"
      ],
      "metadata": {
        "id": "OxA1k4FpPTsO"
      }
    },
    {
      "cell_type": "markdown",
      "source": [
        "Clone repo Ultrlytics về Drive"
      ],
      "metadata": {
        "id": "Tf5X8CkQQRUS"
      }
    },
    {
      "cell_type": "code",
      "source": [
        "%%bash\n",
        "cd /content/drive/MyDrive/OBD-HETTNT\n",
        "git clone https://github.com/ultralytics/ultralytics.git"
      ],
      "metadata": {
        "colab": {
          "base_uri": "https://localhost:8080/"
        },
        "collapsed": true,
        "id": "hoCSt6syPY_y",
        "outputId": "f0576cc2-3717-45a2-d98d-d15fefe25c2c"
      },
      "execution_count": null,
      "outputs": [
        {
          "output_type": "stream",
          "name": "stderr",
          "text": [
            "Cloning into 'ultralytics'...\n",
            "Updating files:  22% (172/754)\rUpdating files:  23% (174/754)\rUpdating files:  24% (181/754)\rUpdating files:  25% (189/754)\rUpdating files:  26% (197/754)\rUpdating files:  27% (204/754)\rUpdating files:  28% (212/754)\rUpdating files:  29% (219/754)\rUpdating files:  30% (227/754)\rUpdating files:  31% (234/754)\rUpdating files:  32% (242/754)\rUpdating files:  33% (249/754)\rUpdating files:  34% (257/754)\rUpdating files:  35% (264/754)\rUpdating files:  36% (272/754)\rUpdating files:  37% (279/754)\rUpdating files:  38% (287/754)\rUpdating files:  39% (295/754)\rUpdating files:  40% (302/754)\rUpdating files:  41% (310/754)\rUpdating files:  42% (317/754)\rUpdating files:  43% (325/754)\rUpdating files:  44% (332/754)\rUpdating files:  44% (333/754)\rUpdating files:  45% (340/754)\rUpdating files:  46% (347/754)\rUpdating files:  47% (355/754)\rUpdating files:  48% (362/754)\rUpdating files:  49% (370/754)\rUpdating files:  50% (377/754)\rUpdating files:  51% (385/754)\rUpdating files:  52% (393/754)\rUpdating files:  53% (400/754)\rUpdating files:  54% (408/754)\rUpdating files:  55% (415/754)\rUpdating files:  56% (423/754)\rUpdating files:  57% (430/754)\rUpdating files:  58% (438/754)\rUpdating files:  59% (445/754)\rUpdating files:  60% (453/754)\rUpdating files:  61% (460/754)\rUpdating files:  62% (468/754)\rUpdating files:  63% (476/754)\rUpdating files:  64% (483/754)\rUpdating files:  65% (491/754)\rUpdating files:  66% (498/754)\rUpdating files:  66% (504/754)\rUpdating files:  67% (506/754)\rUpdating files:  68% (513/754)\rUpdating files:  69% (521/754)\rUpdating files:  70% (528/754)\rUpdating files:  71% (536/754)\rUpdating files:  72% (543/754)\rUpdating files:  73% (551/754)\rUpdating files:  74% (558/754)\rUpdating files:  75% (566/754)\rUpdating files:  76% (574/754)\rUpdating files:  77% (581/754)\rUpdating files:  78% (589/754)\rUpdating files:  79% (596/754)\rUpdating files:  80% (604/754)\rUpdating files:  81% (611/754)\rUpdating files:  82% (619/754)\rUpdating files:  83% (626/754)\rUpdating files:  84% (634/754)\rUpdating files:  85% (641/754)\rUpdating files:  86% (649/754)\rUpdating files:  87% (656/754)\rUpdating files:  88% (664/754)\rUpdating files:  88% (667/754)\rUpdating files:  89% (672/754)\rUpdating files:  90% (679/754)\rUpdating files:  91% (687/754)\rUpdating files:  92% (694/754)\rUpdating files:  93% (702/754)\rUpdating files:  94% (709/754)\rUpdating files:  95% (717/754)\rUpdating files:  96% (724/754)\rUpdating files:  97% (732/754)\rUpdating files:  98% (739/754)\rUpdating files:  99% (747/754)\rUpdating files: 100% (754/754)\rUpdating files: 100% (754/754), done.\n"
          ]
        }
      ]
    },
    {
      "cell_type": "markdown",
      "source": [
        "Tải thư viện ultralytics"
      ],
      "metadata": {
        "id": "FxXbO6usQazT"
      }
    },
    {
      "cell_type": "code",
      "source": [
        "%%bash\n",
        "pip install ultralytics"
      ],
      "metadata": {
        "colab": {
          "base_uri": "https://localhost:8080/"
        },
        "collapsed": true,
        "id": "2XjVKGBYPwww",
        "outputId": "299814cd-ca29-459f-b16c-9357ba6909b0"
      },
      "execution_count": null,
      "outputs": [
        {
          "output_type": "stream",
          "name": "stdout",
          "text": [
            "Collecting ultralytics\n",
            "  Downloading ultralytics-8.3.175-py3-none-any.whl.metadata (37 kB)\n",
            "Requirement already satisfied: numpy>=1.23.0 in /usr/local/lib/python3.11/dist-packages (from ultralytics) (2.0.2)\n",
            "Requirement already satisfied: matplotlib>=3.3.0 in /usr/local/lib/python3.11/dist-packages (from ultralytics) (3.10.0)\n",
            "Requirement already satisfied: opencv-python>=4.6.0 in /usr/local/lib/python3.11/dist-packages (from ultralytics) (4.12.0.88)\n",
            "Requirement already satisfied: pillow>=7.1.2 in /usr/local/lib/python3.11/dist-packages (from ultralytics) (11.3.0)\n",
            "Requirement already satisfied: pyyaml>=5.3.1 in /usr/local/lib/python3.11/dist-packages (from ultralytics) (6.0.2)\n",
            "Requirement already satisfied: requests>=2.23.0 in /usr/local/lib/python3.11/dist-packages (from ultralytics) (2.32.3)\n",
            "Requirement already satisfied: scipy>=1.4.1 in /usr/local/lib/python3.11/dist-packages (from ultralytics) (1.16.1)\n",
            "Requirement already satisfied: torch>=1.8.0 in /usr/local/lib/python3.11/dist-packages (from ultralytics) (2.6.0+cu124)\n",
            "Requirement already satisfied: torchvision>=0.9.0 in /usr/local/lib/python3.11/dist-packages (from ultralytics) (0.21.0+cu124)\n",
            "Requirement already satisfied: tqdm>=4.64.0 in /usr/local/lib/python3.11/dist-packages (from ultralytics) (4.67.1)\n",
            "Requirement already satisfied: psutil in /usr/local/lib/python3.11/dist-packages (from ultralytics) (5.9.5)\n",
            "Requirement already satisfied: py-cpuinfo in /usr/local/lib/python3.11/dist-packages (from ultralytics) (9.0.0)\n",
            "Requirement already satisfied: pandas>=1.1.4 in /usr/local/lib/python3.11/dist-packages (from ultralytics) (2.2.2)\n",
            "Collecting ultralytics-thop>=2.0.0 (from ultralytics)\n",
            "  Downloading ultralytics_thop-2.0.15-py3-none-any.whl.metadata (14 kB)\n",
            "Requirement already satisfied: contourpy>=1.0.1 in /usr/local/lib/python3.11/dist-packages (from matplotlib>=3.3.0->ultralytics) (1.3.3)\n",
            "Requirement already satisfied: cycler>=0.10 in /usr/local/lib/python3.11/dist-packages (from matplotlib>=3.3.0->ultralytics) (0.12.1)\n",
            "Requirement already satisfied: fonttools>=4.22.0 in /usr/local/lib/python3.11/dist-packages (from matplotlib>=3.3.0->ultralytics) (4.59.0)\n",
            "Requirement already satisfied: kiwisolver>=1.3.1 in /usr/local/lib/python3.11/dist-packages (from matplotlib>=3.3.0->ultralytics) (1.4.8)\n",
            "Requirement already satisfied: packaging>=20.0 in /usr/local/lib/python3.11/dist-packages (from matplotlib>=3.3.0->ultralytics) (25.0)\n",
            "Requirement already satisfied: pyparsing>=2.3.1 in /usr/local/lib/python3.11/dist-packages (from matplotlib>=3.3.0->ultralytics) (3.2.3)\n",
            "Requirement already satisfied: python-dateutil>=2.7 in /usr/local/lib/python3.11/dist-packages (from matplotlib>=3.3.0->ultralytics) (2.9.0.post0)\n",
            "Requirement already satisfied: pytz>=2020.1 in /usr/local/lib/python3.11/dist-packages (from pandas>=1.1.4->ultralytics) (2025.2)\n",
            "Requirement already satisfied: tzdata>=2022.7 in /usr/local/lib/python3.11/dist-packages (from pandas>=1.1.4->ultralytics) (2025.2)\n",
            "Requirement already satisfied: charset-normalizer<4,>=2 in /usr/local/lib/python3.11/dist-packages (from requests>=2.23.0->ultralytics) (3.4.2)\n",
            "Requirement already satisfied: idna<4,>=2.5 in /usr/local/lib/python3.11/dist-packages (from requests>=2.23.0->ultralytics) (3.10)\n",
            "Requirement already satisfied: urllib3<3,>=1.21.1 in /usr/local/lib/python3.11/dist-packages (from requests>=2.23.0->ultralytics) (2.5.0)\n",
            "Requirement already satisfied: certifi>=2017.4.17 in /usr/local/lib/python3.11/dist-packages (from requests>=2.23.0->ultralytics) (2025.7.14)\n",
            "Requirement already satisfied: filelock in /usr/local/lib/python3.11/dist-packages (from torch>=1.8.0->ultralytics) (3.18.0)\n",
            "Requirement already satisfied: typing-extensions>=4.10.0 in /usr/local/lib/python3.11/dist-packages (from torch>=1.8.0->ultralytics) (4.14.1)\n",
            "Requirement already satisfied: networkx in /usr/local/lib/python3.11/dist-packages (from torch>=1.8.0->ultralytics) (3.5)\n",
            "Requirement already satisfied: jinja2 in /usr/local/lib/python3.11/dist-packages (from torch>=1.8.0->ultralytics) (3.1.6)\n",
            "Requirement already satisfied: fsspec in /usr/local/lib/python3.11/dist-packages (from torch>=1.8.0->ultralytics) (2025.3.0)\n",
            "Collecting nvidia-cuda-nvrtc-cu12==12.4.127 (from torch>=1.8.0->ultralytics)\n",
            "  Downloading nvidia_cuda_nvrtc_cu12-12.4.127-py3-none-manylinux2014_x86_64.whl.metadata (1.5 kB)\n",
            "Collecting nvidia-cuda-runtime-cu12==12.4.127 (from torch>=1.8.0->ultralytics)\n",
            "  Downloading nvidia_cuda_runtime_cu12-12.4.127-py3-none-manylinux2014_x86_64.whl.metadata (1.5 kB)\n",
            "Collecting nvidia-cuda-cupti-cu12==12.4.127 (from torch>=1.8.0->ultralytics)\n",
            "  Downloading nvidia_cuda_cupti_cu12-12.4.127-py3-none-manylinux2014_x86_64.whl.metadata (1.6 kB)\n",
            "Collecting nvidia-cudnn-cu12==9.1.0.70 (from torch>=1.8.0->ultralytics)\n",
            "  Downloading nvidia_cudnn_cu12-9.1.0.70-py3-none-manylinux2014_x86_64.whl.metadata (1.6 kB)\n",
            "Collecting nvidia-cublas-cu12==12.4.5.8 (from torch>=1.8.0->ultralytics)\n",
            "  Downloading nvidia_cublas_cu12-12.4.5.8-py3-none-manylinux2014_x86_64.whl.metadata (1.5 kB)\n",
            "Collecting nvidia-cufft-cu12==11.2.1.3 (from torch>=1.8.0->ultralytics)\n",
            "  Downloading nvidia_cufft_cu12-11.2.1.3-py3-none-manylinux2014_x86_64.whl.metadata (1.5 kB)\n",
            "Collecting nvidia-curand-cu12==10.3.5.147 (from torch>=1.8.0->ultralytics)\n",
            "  Downloading nvidia_curand_cu12-10.3.5.147-py3-none-manylinux2014_x86_64.whl.metadata (1.5 kB)\n",
            "Collecting nvidia-cusolver-cu12==11.6.1.9 (from torch>=1.8.0->ultralytics)\n",
            "  Downloading nvidia_cusolver_cu12-11.6.1.9-py3-none-manylinux2014_x86_64.whl.metadata (1.6 kB)\n",
            "Collecting nvidia-cusparse-cu12==12.3.1.170 (from torch>=1.8.0->ultralytics)\n",
            "  Downloading nvidia_cusparse_cu12-12.3.1.170-py3-none-manylinux2014_x86_64.whl.metadata (1.6 kB)\n",
            "Requirement already satisfied: nvidia-cusparselt-cu12==0.6.2 in /usr/local/lib/python3.11/dist-packages (from torch>=1.8.0->ultralytics) (0.6.2)\n",
            "Collecting nvidia-nccl-cu12==2.21.5 (from torch>=1.8.0->ultralytics)\n",
            "  Downloading nvidia_nccl_cu12-2.21.5-py3-none-manylinux2014_x86_64.whl.metadata (1.8 kB)\n",
            "Requirement already satisfied: nvidia-nvtx-cu12==12.4.127 in /usr/local/lib/python3.11/dist-packages (from torch>=1.8.0->ultralytics) (12.4.127)\n",
            "Collecting nvidia-nvjitlink-cu12==12.4.127 (from torch>=1.8.0->ultralytics)\n",
            "  Downloading nvidia_nvjitlink_cu12-12.4.127-py3-none-manylinux2014_x86_64.whl.metadata (1.5 kB)\n",
            "Requirement already satisfied: triton==3.2.0 in /usr/local/lib/python3.11/dist-packages (from torch>=1.8.0->ultralytics) (3.2.0)\n",
            "Requirement already satisfied: sympy==1.13.1 in /usr/local/lib/python3.11/dist-packages (from torch>=1.8.0->ultralytics) (1.13.1)\n",
            "Requirement already satisfied: mpmath<1.4,>=1.1.0 in /usr/local/lib/python3.11/dist-packages (from sympy==1.13.1->torch>=1.8.0->ultralytics) (1.3.0)\n",
            "Requirement already satisfied: six>=1.5 in /usr/local/lib/python3.11/dist-packages (from python-dateutil>=2.7->matplotlib>=3.3.0->ultralytics) (1.17.0)\n",
            "Requirement already satisfied: MarkupSafe>=2.0 in /usr/local/lib/python3.11/dist-packages (from jinja2->torch>=1.8.0->ultralytics) (3.0.2)\n",
            "Downloading ultralytics-8.3.175-py3-none-any.whl (1.0 MB)\n",
            "   ━━━━━━━━━━━━━━━━━━━━━━━━━━━━━━━━━━━━━━━━ 1.0/1.0 MB 59.6 MB/s eta 0:00:00\n",
            "Downloading nvidia_cublas_cu12-12.4.5.8-py3-none-manylinux2014_x86_64.whl (363.4 MB)\n",
            "   ━━━━━━━━━━━━━━━━━━━━━━━━━━━━━━━━━━━━━━━━ 363.4/363.4 MB 3.8 MB/s eta 0:00:00\n",
            "Downloading nvidia_cuda_cupti_cu12-12.4.127-py3-none-manylinux2014_x86_64.whl (13.8 MB)\n",
            "   ━━━━━━━━━━━━━━━━━━━━━━━━━━━━━━━━━━━━━━━━ 13.8/13.8 MB 101.3 MB/s eta 0:00:00\n",
            "Downloading nvidia_cuda_nvrtc_cu12-12.4.127-py3-none-manylinux2014_x86_64.whl (24.6 MB)\n",
            "   ━━━━━━━━━━━━━━━━━━━━━━━━━━━━━━━━━━━━━━━━ 24.6/24.6 MB 71.5 MB/s eta 0:00:00\n",
            "Downloading nvidia_cuda_runtime_cu12-12.4.127-py3-none-manylinux2014_x86_64.whl (883 kB)\n",
            "   ━━━━━━━━━━━━━━━━━━━━━━━━━━━━━━━━━━━━━━━━ 883.7/883.7 kB 46.9 MB/s eta 0:00:00\n",
            "Downloading nvidia_cudnn_cu12-9.1.0.70-py3-none-manylinux2014_x86_64.whl (664.8 MB)\n",
            "   ━━━━━━━━━━━━━━━━━━━━━━━━━━━━━━━━━━━━━━━━ 664.8/664.8 MB 1.7 MB/s eta 0:00:00\n",
            "Downloading nvidia_cufft_cu12-11.2.1.3-py3-none-manylinux2014_x86_64.whl (211.5 MB)\n",
            "   ━━━━━━━━━━━━━━━━━━━━━━━━━━━━━━━━━━━━━━━━ 211.5/211.5 MB 7.0 MB/s eta 0:00:00\n",
            "Downloading nvidia_curand_cu12-10.3.5.147-py3-none-manylinux2014_x86_64.whl (56.3 MB)\n",
            "   ━━━━━━━━━━━━━━━━━━━━━━━━━━━━━━━━━━━━━━━━ 56.3/56.3 MB 14.7 MB/s eta 0:00:00\n",
            "Downloading nvidia_cusolver_cu12-11.6.1.9-py3-none-manylinux2014_x86_64.whl (127.9 MB)\n",
            "   ━━━━━━━━━━━━━━━━━━━━━━━━━━━━━━━━━━━━━━━━ 127.9/127.9 MB 7.6 MB/s eta 0:00:00\n",
            "Downloading nvidia_cusparse_cu12-12.3.1.170-py3-none-manylinux2014_x86_64.whl (207.5 MB)\n",
            "   ━━━━━━━━━━━━━━━━━━━━━━━━━━━━━━━━━━━━━━━━ 207.5/207.5 MB 5.6 MB/s eta 0:00:00\n",
            "Downloading nvidia_nccl_cu12-2.21.5-py3-none-manylinux2014_x86_64.whl (188.7 MB)\n",
            "   ━━━━━━━━━━━━━━━━━━━━━━━━━━━━━━━━━━━━━━━━ 188.7/188.7 MB 5.9 MB/s eta 0:00:00\n",
            "Downloading nvidia_nvjitlink_cu12-12.4.127-py3-none-manylinux2014_x86_64.whl (21.1 MB)\n",
            "   ━━━━━━━━━━━━━━━━━━━━━━━━━━━━━━━━━━━━━━━━ 21.1/21.1 MB 43.7 MB/s eta 0:00:00\n",
            "Downloading ultralytics_thop-2.0.15-py3-none-any.whl (28 kB)\n",
            "Installing collected packages: nvidia-nvjitlink-cu12, nvidia-nccl-cu12, nvidia-curand-cu12, nvidia-cufft-cu12, nvidia-cuda-runtime-cu12, nvidia-cuda-nvrtc-cu12, nvidia-cuda-cupti-cu12, nvidia-cublas-cu12, nvidia-cusparse-cu12, nvidia-cudnn-cu12, nvidia-cusolver-cu12, ultralytics-thop, ultralytics\n",
            "  Attempting uninstall: nvidia-nvjitlink-cu12\n",
            "    Found existing installation: nvidia-nvjitlink-cu12 12.5.82\n",
            "    Uninstalling nvidia-nvjitlink-cu12-12.5.82:\n",
            "      Successfully uninstalled nvidia-nvjitlink-cu12-12.5.82\n",
            "  Attempting uninstall: nvidia-nccl-cu12\n",
            "    Found existing installation: nvidia-nccl-cu12 2.23.4\n",
            "    Uninstalling nvidia-nccl-cu12-2.23.4:\n",
            "      Successfully uninstalled nvidia-nccl-cu12-2.23.4\n",
            "  Attempting uninstall: nvidia-curand-cu12\n",
            "    Found existing installation: nvidia-curand-cu12 10.3.6.82\n",
            "    Uninstalling nvidia-curand-cu12-10.3.6.82:\n",
            "      Successfully uninstalled nvidia-curand-cu12-10.3.6.82\n",
            "  Attempting uninstall: nvidia-cufft-cu12\n",
            "    Found existing installation: nvidia-cufft-cu12 11.2.3.61\n",
            "    Uninstalling nvidia-cufft-cu12-11.2.3.61:\n",
            "      Successfully uninstalled nvidia-cufft-cu12-11.2.3.61\n",
            "  Attempting uninstall: nvidia-cuda-runtime-cu12\n",
            "    Found existing installation: nvidia-cuda-runtime-cu12 12.5.82\n",
            "    Uninstalling nvidia-cuda-runtime-cu12-12.5.82:\n",
            "      Successfully uninstalled nvidia-cuda-runtime-cu12-12.5.82\n",
            "  Attempting uninstall: nvidia-cuda-nvrtc-cu12\n",
            "    Found existing installation: nvidia-cuda-nvrtc-cu12 12.5.82\n",
            "    Uninstalling nvidia-cuda-nvrtc-cu12-12.5.82:\n",
            "      Successfully uninstalled nvidia-cuda-nvrtc-cu12-12.5.82\n",
            "  Attempting uninstall: nvidia-cuda-cupti-cu12\n",
            "    Found existing installation: nvidia-cuda-cupti-cu12 12.5.82\n",
            "    Uninstalling nvidia-cuda-cupti-cu12-12.5.82:\n",
            "      Successfully uninstalled nvidia-cuda-cupti-cu12-12.5.82\n",
            "  Attempting uninstall: nvidia-cublas-cu12\n",
            "    Found existing installation: nvidia-cublas-cu12 12.5.3.2\n",
            "    Uninstalling nvidia-cublas-cu12-12.5.3.2:\n",
            "      Successfully uninstalled nvidia-cublas-cu12-12.5.3.2\n",
            "  Attempting uninstall: nvidia-cusparse-cu12\n",
            "    Found existing installation: nvidia-cusparse-cu12 12.5.1.3\n",
            "    Uninstalling nvidia-cusparse-cu12-12.5.1.3:\n",
            "      Successfully uninstalled nvidia-cusparse-cu12-12.5.1.3\n",
            "  Attempting uninstall: nvidia-cudnn-cu12\n",
            "    Found existing installation: nvidia-cudnn-cu12 9.3.0.75\n",
            "    Uninstalling nvidia-cudnn-cu12-9.3.0.75:\n",
            "      Successfully uninstalled nvidia-cudnn-cu12-9.3.0.75\n",
            "  Attempting uninstall: nvidia-cusolver-cu12\n",
            "    Found existing installation: nvidia-cusolver-cu12 11.6.3.83\n",
            "    Uninstalling nvidia-cusolver-cu12-11.6.3.83:\n",
            "      Successfully uninstalled nvidia-cusolver-cu12-11.6.3.83\n",
            "Successfully installed nvidia-cublas-cu12-12.4.5.8 nvidia-cuda-cupti-cu12-12.4.127 nvidia-cuda-nvrtc-cu12-12.4.127 nvidia-cuda-runtime-cu12-12.4.127 nvidia-cudnn-cu12-9.1.0.70 nvidia-cufft-cu12-11.2.1.3 nvidia-curand-cu12-10.3.5.147 nvidia-cusolver-cu12-11.6.1.9 nvidia-cusparse-cu12-12.3.1.170 nvidia-nccl-cu12-2.21.5 nvidia-nvjitlink-cu12-12.4.127 ultralytics-8.3.175 ultralytics-thop-2.0.15\n"
          ]
        }
      ]
    },
    {
      "cell_type": "markdown",
      "source": [
        "##Training tập dữ liệu"
      ],
      "metadata": {
        "id": "-chGb0CmQscm"
      }
    },
    {
      "cell_type": "code",
      "source": [
        "%cd /content/drive/MyDrive/OBD-HETTNT/ultralytics\n",
        "from ultralytics import YOLO\n",
        "model = YOLO(\"yolo11n.yaml\")\n",
        "model.train(data=\"/content/drive/MyDrive/OBD-HETTNT/data.yaml\", epochs=50, imgsz=640)"
      ],
      "metadata": {
        "colab": {
          "base_uri": "https://localhost:8080/"
        },
        "collapsed": true,
        "id": "raVylvQAQjGe",
        "outputId": "fa9c91e3-2dc6-454c-b6e0-e8587ff0c266"
      },
      "execution_count": null,
      "outputs": [
        {
          "output_type": "stream",
          "name": "stdout",
          "text": [
            "/content/drive/MyDrive/OBD-HETTNT/ultralytics\n",
            "Ultralytics 8.3.175 🚀 Python-3.11.13 torch-2.6.0+cu124 CUDA:0 (Tesla T4, 15095MiB)\n",
            "\u001b[34m\u001b[1mengine/trainer: \u001b[0magnostic_nms=False, amp=True, augment=False, auto_augment=randaugment, batch=16, bgr=0.0, box=7.5, cache=False, cfg=None, classes=None, close_mosaic=10, cls=0.5, conf=None, copy_paste=0.0, copy_paste_mode=flip, cos_lr=False, cutmix=0.0, data=/content/drive/MyDrive/OBD-HETTNT/data.yaml, degrees=0.0, deterministic=True, device=None, dfl=1.5, dnn=False, dropout=0.0, dynamic=False, embed=None, epochs=50, erasing=0.4, exist_ok=False, fliplr=0.5, flipud=0.0, format=torchscript, fraction=1.0, freeze=None, half=False, hsv_h=0.015, hsv_s=0.7, hsv_v=0.4, imgsz=640, int8=False, iou=0.7, keras=False, kobj=1.0, line_width=None, lr0=0.01, lrf=0.01, mask_ratio=4, max_det=300, mixup=0.0, mode=train, model=yolo11n.yaml, momentum=0.937, mosaic=1.0, multi_scale=False, name=train, nbs=64, nms=False, opset=None, optimize=False, optimizer=auto, overlap_mask=True, patience=100, perspective=0.0, plots=True, pose=12.0, pretrained=True, profile=False, project=None, rect=False, resume=False, retina_masks=False, save=True, save_conf=False, save_crop=False, save_dir=runs/detect/train, save_frames=False, save_json=False, save_period=-1, save_txt=False, scale=0.5, seed=0, shear=0.0, show=False, show_boxes=True, show_conf=True, show_labels=True, simplify=True, single_cls=False, source=None, split=val, stream_buffer=False, task=detect, time=None, tracker=botsort.yaml, translate=0.1, val=True, verbose=True, vid_stride=1, visualize=False, warmup_bias_lr=0.1, warmup_epochs=3.0, warmup_momentum=0.8, weight_decay=0.0005, workers=8, workspace=None\n"
          ]
        },
        {
          "output_type": "stream",
          "name": "stderr",
          "text": [
            "Downloading https://ultralytics.com/assets/Arial.ttf to '/root/.config/Ultralytics/Arial.ttf': 100%|██████████| 755k/755k [00:00<00:00, 34.0MB/s]"
          ]
        },
        {
          "output_type": "stream",
          "name": "stdout",
          "text": [
            "Overriding model.yaml nc=80 with nc=6\n",
            "\n",
            "                   from  n    params  module                                       arguments                     \n",
            "  0                  -1  1       464  ultralytics.nn.modules.conv.Conv             [3, 16, 3, 2]                 \n",
            "  1                  -1  1      4672  ultralytics.nn.modules.conv.Conv             [16, 32, 3, 2]                \n",
            "  2                  -1  1      6640  ultralytics.nn.modules.block.C3k2            [32, 64, 1, False, 0.25]      \n",
            "  3                  -1  1     36992  ultralytics.nn.modules.conv.Conv             [64, 64, 3, 2]                \n",
            "  4                  -1  1     26080  ultralytics.nn.modules.block.C3k2            [64, 128, 1, False, 0.25]     \n",
            "  5                  -1  1    147712  ultralytics.nn.modules.conv.Conv             [128, 128, 3, 2]              \n",
            "  6                  -1  1     87040  ultralytics.nn.modules.block.C3k2            [128, 128, 1, True]           \n",
            "  7                  -1  1    295424  ultralytics.nn.modules.conv.Conv             [128, 256, 3, 2]              \n",
            "  8                  -1  1    346112  ultralytics.nn.modules.block.C3k2            [256, 256, 1, True]           \n",
            "  9                  -1  1    164608  ultralytics.nn.modules.block.SPPF            [256, 256, 5]                 \n",
            " 10                  -1  1    249728  ultralytics.nn.modules.block.C2PSA           [256, 256, 1]                 \n",
            " 11                  -1  1         0  torch.nn.modules.upsampling.Upsample         [None, 2, 'nearest']          \n",
            " 12             [-1, 6]  1         0  ultralytics.nn.modules.conv.Concat           [1]                           \n",
            " 13                  -1  1    111296  ultralytics.nn.modules.block.C3k2            [384, 128, 1, False]          \n",
            " 14                  -1  1         0  torch.nn.modules.upsampling.Upsample         [None, 2, 'nearest']          \n",
            " 15             [-1, 4]  1         0  ultralytics.nn.modules.conv.Concat           [1]                           \n",
            " 16                  -1  1     32096  ultralytics.nn.modules.block.C3k2            [256, 64, 1, False]           \n",
            " 17                  -1  1     36992  ultralytics.nn.modules.conv.Conv             [64, 64, 3, 2]                \n",
            " 18            [-1, 13]  1         0  ultralytics.nn.modules.conv.Concat           [1]                           \n",
            " 19                  -1  1     86720  ultralytics.nn.modules.block.C3k2            [192, 128, 1, False]          \n",
            " 20                  -1  1    147712  ultralytics.nn.modules.conv.Conv             [128, 128, 3, 2]              \n",
            " 21            [-1, 10]  1         0  ultralytics.nn.modules.conv.Concat           [1]                           \n",
            " 22                  -1  1    378880  ultralytics.nn.modules.block.C3k2            [384, 256, 1, True]           \n",
            " 23        [16, 19, 22]  1    431842  ultralytics.nn.modules.head.Detect           [6, [64, 128, 256]]           \n"
          ]
        },
        {
          "output_type": "stream",
          "name": "stderr",
          "text": [
            "\n"
          ]
        },
        {
          "output_type": "stream",
          "name": "stdout",
          "text": [
            "YOLO11n summary: 181 layers, 2,591,010 parameters, 2,590,994 gradients, 6.4 GFLOPs\n",
            "\n",
            "Freezing layer 'model.23.dfl.conv.weight'\n",
            "\u001b[34m\u001b[1mAMP: \u001b[0mrunning Automatic Mixed Precision (AMP) checks...\n"
          ]
        },
        {
          "output_type": "stream",
          "name": "stderr",
          "text": [
            "Downloading https://github.com/ultralytics/assets/releases/download/v8.3.0/yolo11n.pt to 'yolo11n.pt': 100%|██████████| 5.35M/5.35M [00:00<00:00, 85.4MB/s]\n"
          ]
        },
        {
          "output_type": "stream",
          "name": "stdout",
          "text": [
            "\u001b[34m\u001b[1mAMP: \u001b[0mchecks passed ✅\n",
            "\u001b[34m\u001b[1mtrain: \u001b[0mFast image access ✅ (ping: 0.4±0.2 ms, read: 10.4±6.4 MB/s, size: 46.8 KB)\n"
          ]
        },
        {
          "output_type": "stream",
          "name": "stderr",
          "text": [
            "\u001b[34m\u001b[1mtrain: \u001b[0mScanning /content/drive/MyDrive/OBD-HETTNT/train/labels... 155 images, 0 backgrounds, 0 corrupt: 100%|██████████| 155/155 [00:01<00:00, 118.47it/s]\n"
          ]
        },
        {
          "output_type": "stream",
          "name": "stdout",
          "text": [
            "\u001b[34m\u001b[1mtrain: \u001b[0mNew cache created: /content/drive/MyDrive/OBD-HETTNT/train/labels.cache\n",
            "\u001b[34m\u001b[1malbumentations: \u001b[0mBlur(p=0.01, blur_limit=(3, 7)), MedianBlur(p=0.01, blur_limit=(3, 7)), ToGray(p=0.01, method='weighted_average', num_output_channels=3), CLAHE(p=0.01, clip_limit=(1.0, 4.0), tile_grid_size=(8, 8))\n",
            "\u001b[34m\u001b[1mval: \u001b[0mFast image access ✅ (ping: 0.4±0.2 ms, read: 13.7±9.0 MB/s, size: 56.3 KB)\n"
          ]
        },
        {
          "output_type": "stream",
          "name": "stderr",
          "text": [
            "\u001b[34m\u001b[1mval: \u001b[0mScanning /content/drive/MyDrive/OBD-HETTNT/valid/labels... 45 images, 0 backgrounds, 0 corrupt: 100%|██████████| 45/45 [00:00<00:00, 59.23it/s]\n"
          ]
        },
        {
          "output_type": "stream",
          "name": "stdout",
          "text": [
            "\u001b[34m\u001b[1mval: \u001b[0mNew cache created: /content/drive/MyDrive/OBD-HETTNT/valid/labels.cache\n",
            "Plotting labels to runs/detect/train/labels.jpg... \n",
            "\u001b[34m\u001b[1moptimizer:\u001b[0m 'optimizer=auto' found, ignoring 'lr0=0.01' and 'momentum=0.937' and determining best 'optimizer', 'lr0' and 'momentum' automatically... \n",
            "\u001b[34m\u001b[1moptimizer:\u001b[0m AdamW(lr=0.001, momentum=0.9) with parameter groups 81 weight(decay=0.0), 88 weight(decay=0.0005), 87 bias(decay=0.0)\n",
            "Image sizes 640 train, 640 val\n",
            "Using 2 dataloader workers\n",
            "Logging results to \u001b[1mruns/detect/train\u001b[0m\n",
            "Starting training for 50 epochs...\n",
            "\n",
            "      Epoch    GPU_mem   box_loss   cls_loss   dfl_loss  Instances       Size\n"
          ]
        },
        {
          "output_type": "stream",
          "name": "stderr",
          "text": [
            "       1/50      2.28G      3.171      4.556      4.253         33        640: 100%|██████████| 10/10 [00:05<00:00,  1.94it/s]\n",
            "                 Class     Images  Instances      Box(P          R      mAP50  mAP50-95): 100%|██████████| 2/2 [00:01<00:00,  1.34it/s]"
          ]
        },
        {
          "output_type": "stream",
          "name": "stdout",
          "text": [
            "                   all         45         68   0.000472      0.374    0.00119   0.000683\n"
          ]
        },
        {
          "output_type": "stream",
          "name": "stderr",
          "text": [
            "\n"
          ]
        },
        {
          "output_type": "stream",
          "name": "stdout",
          "text": [
            "\n",
            "      Epoch    GPU_mem   box_loss   cls_loss   dfl_loss  Instances       Size\n"
          ]
        },
        {
          "output_type": "stream",
          "name": "stderr",
          "text": [
            "       2/50      2.82G      3.093      4.505      4.223         30        640: 100%|██████████| 10/10 [00:03<00:00,  2.81it/s]\n",
            "                 Class     Images  Instances      Box(P          R      mAP50  mAP50-95): 100%|██████████| 2/2 [00:01<00:00,  1.72it/s]"
          ]
        },
        {
          "output_type": "stream",
          "name": "stdout",
          "text": [
            "                   all         45         68    0.00143      0.429    0.00482    0.00152\n"
          ]
        },
        {
          "output_type": "stream",
          "name": "stderr",
          "text": [
            "\n"
          ]
        },
        {
          "output_type": "stream",
          "name": "stdout",
          "text": [
            "\n",
            "      Epoch    GPU_mem   box_loss   cls_loss   dfl_loss  Instances       Size\n"
          ]
        },
        {
          "output_type": "stream",
          "name": "stderr",
          "text": [
            "       3/50      2.83G      3.115      4.499      4.207         28        640: 100%|██████████| 10/10 [00:02<00:00,  3.92it/s]\n",
            "                 Class     Images  Instances      Box(P          R      mAP50  mAP50-95): 100%|██████████| 2/2 [00:00<00:00,  3.21it/s]"
          ]
        },
        {
          "output_type": "stream",
          "name": "stdout",
          "text": [
            "                   all         45         68    0.00108      0.302   0.000977   0.000458\n"
          ]
        },
        {
          "output_type": "stream",
          "name": "stderr",
          "text": [
            "\n"
          ]
        },
        {
          "output_type": "stream",
          "name": "stdout",
          "text": [
            "\n",
            "      Epoch    GPU_mem   box_loss   cls_loss   dfl_loss  Instances       Size\n"
          ]
        },
        {
          "output_type": "stream",
          "name": "stderr",
          "text": [
            "       4/50      2.85G      3.161      4.506      4.189         44        640: 100%|██████████| 10/10 [00:02<00:00,  3.41it/s]\n",
            "                 Class     Images  Instances      Box(P          R      mAP50  mAP50-95): 100%|██████████| 2/2 [00:00<00:00,  2.39it/s]"
          ]
        },
        {
          "output_type": "stream",
          "name": "stdout",
          "text": [
            "                   all         45         68     0.0011      0.302    0.00124   0.000574\n"
          ]
        },
        {
          "output_type": "stream",
          "name": "stderr",
          "text": [
            "\n"
          ]
        },
        {
          "output_type": "stream",
          "name": "stdout",
          "text": [
            "\n",
            "      Epoch    GPU_mem   box_loss   cls_loss   dfl_loss  Instances       Size\n"
          ]
        },
        {
          "output_type": "stream",
          "name": "stderr",
          "text": [
            "       5/50      2.86G      3.189      4.474      4.158         32        640: 100%|██████████| 10/10 [00:02<00:00,  3.72it/s]\n",
            "                 Class     Images  Instances      Box(P          R      mAP50  mAP50-95): 100%|██████████| 2/2 [00:00<00:00,  2.43it/s]"
          ]
        },
        {
          "output_type": "stream",
          "name": "stdout",
          "text": [
            "                   all         45         68    0.00105      0.302    0.00123   0.000583\n"
          ]
        },
        {
          "output_type": "stream",
          "name": "stderr",
          "text": [
            "\n"
          ]
        },
        {
          "output_type": "stream",
          "name": "stdout",
          "text": [
            "\n",
            "      Epoch    GPU_mem   box_loss   cls_loss   dfl_loss  Instances       Size\n"
          ]
        },
        {
          "output_type": "stream",
          "name": "stderr",
          "text": [
            "       6/50      2.88G      3.135      4.448      4.118         26        640: 100%|██████████| 10/10 [00:03<00:00,  3.02it/s]\n",
            "                 Class     Images  Instances      Box(P          R      mAP50  mAP50-95): 100%|██████████| 2/2 [00:00<00:00,  3.13it/s]"
          ]
        },
        {
          "output_type": "stream",
          "name": "stdout",
          "text": [
            "                   all         45         68    0.00106      0.302    0.00113    0.00054\n"
          ]
        },
        {
          "output_type": "stream",
          "name": "stderr",
          "text": [
            "\n"
          ]
        },
        {
          "output_type": "stream",
          "name": "stdout",
          "text": [
            "\n",
            "      Epoch    GPU_mem   box_loss   cls_loss   dfl_loss  Instances       Size\n"
          ]
        },
        {
          "output_type": "stream",
          "name": "stderr",
          "text": [
            "       7/50      2.89G      3.123      4.456      4.101         25        640: 100%|██████████| 10/10 [00:02<00:00,  4.30it/s]\n",
            "                 Class     Images  Instances      Box(P          R      mAP50  mAP50-95): 100%|██████████| 2/2 [00:00<00:00,  3.30it/s]\n"
          ]
        },
        {
          "output_type": "stream",
          "name": "stdout",
          "text": [
            "                   all         45         68    0.00108      0.302    0.00102   0.000503\n",
            "\n",
            "      Epoch    GPU_mem   box_loss   cls_loss   dfl_loss  Instances       Size\n"
          ]
        },
        {
          "output_type": "stream",
          "name": "stderr",
          "text": [
            "       8/50      2.91G      3.162      4.383       4.05         32        640: 100%|██████████| 10/10 [00:02<00:00,  3.97it/s]\n",
            "                 Class     Images  Instances      Box(P          R      mAP50  mAP50-95): 100%|██████████| 2/2 [00:00<00:00,  4.04it/s]\n"
          ]
        },
        {
          "output_type": "stream",
          "name": "stdout",
          "text": [
            "                   all         45         68    0.00113      0.302    0.00116   0.000552\n",
            "\n",
            "      Epoch    GPU_mem   box_loss   cls_loss   dfl_loss  Instances       Size\n"
          ]
        },
        {
          "output_type": "stream",
          "name": "stderr",
          "text": [
            "       9/50      2.92G      3.158      4.353      4.011         37        640: 100%|██████████| 10/10 [00:02<00:00,  3.86it/s]\n",
            "                 Class     Images  Instances      Box(P          R      mAP50  mAP50-95): 100%|██████████| 2/2 [00:01<00:00,  1.72it/s]"
          ]
        },
        {
          "output_type": "stream",
          "name": "stdout",
          "text": [
            "                   all         45         68    0.00111      0.436    0.00202   0.000897\n"
          ]
        },
        {
          "output_type": "stream",
          "name": "stderr",
          "text": [
            "\n"
          ]
        },
        {
          "output_type": "stream",
          "name": "stdout",
          "text": [
            "\n",
            "      Epoch    GPU_mem   box_loss   cls_loss   dfl_loss  Instances       Size\n"
          ]
        },
        {
          "output_type": "stream",
          "name": "stderr",
          "text": [
            "      10/50      2.94G       3.14      4.266      3.941         42        640: 100%|██████████| 10/10 [00:02<00:00,  3.38it/s]\n",
            "                 Class     Images  Instances      Box(P          R      mAP50  mAP50-95): 100%|██████████| 2/2 [00:00<00:00,  3.58it/s]\n"
          ]
        },
        {
          "output_type": "stream",
          "name": "stdout",
          "text": [
            "                   all         45         68   0.000484      0.357   0.000767   0.000438\n",
            "\n",
            "      Epoch    GPU_mem   box_loss   cls_loss   dfl_loss  Instances       Size\n"
          ]
        },
        {
          "output_type": "stream",
          "name": "stderr",
          "text": [
            "      11/50      2.95G      3.041       4.24      3.857         37        640: 100%|██████████| 10/10 [00:02<00:00,  4.20it/s]\n",
            "                 Class     Images  Instances      Box(P          R      mAP50  mAP50-95): 100%|██████████| 2/2 [00:00<00:00,  3.48it/s]\n"
          ]
        },
        {
          "output_type": "stream",
          "name": "stdout",
          "text": [
            "                   all         45         68   0.000913      0.373    0.00115   0.000477\n",
            "\n",
            "      Epoch    GPU_mem   box_loss   cls_loss   dfl_loss  Instances       Size\n"
          ]
        },
        {
          "output_type": "stream",
          "name": "stderr",
          "text": [
            "      12/50      2.97G      3.009      4.165      3.815         24        640: 100%|██████████| 10/10 [00:02<00:00,  4.09it/s]\n",
            "                 Class     Images  Instances      Box(P          R      mAP50  mAP50-95): 100%|██████████| 2/2 [00:00<00:00,  3.69it/s]"
          ]
        },
        {
          "output_type": "stream",
          "name": "stdout",
          "text": [
            "                   all         45         68   0.000726      0.381     0.0013     0.0005\n"
          ]
        },
        {
          "output_type": "stream",
          "name": "stderr",
          "text": [
            "\n"
          ]
        },
        {
          "output_type": "stream",
          "name": "stdout",
          "text": [
            "\n",
            "      Epoch    GPU_mem   box_loss   cls_loss   dfl_loss  Instances       Size\n"
          ]
        },
        {
          "output_type": "stream",
          "name": "stderr",
          "text": [
            "      13/50      2.98G      3.038      4.087      3.767         31        640: 100%|██████████| 10/10 [00:03<00:00,  2.96it/s]\n",
            "                 Class     Images  Instances      Box(P          R      mAP50  mAP50-95): 100%|██████████| 2/2 [00:01<00:00,  1.79it/s]"
          ]
        },
        {
          "output_type": "stream",
          "name": "stdout",
          "text": [
            "                   all         45         68     0.0023      0.581    0.00938    0.00247\n"
          ]
        },
        {
          "output_type": "stream",
          "name": "stderr",
          "text": [
            "\n"
          ]
        },
        {
          "output_type": "stream",
          "name": "stdout",
          "text": [
            "\n",
            "      Epoch    GPU_mem   box_loss   cls_loss   dfl_loss  Instances       Size\n"
          ]
        },
        {
          "output_type": "stream",
          "name": "stderr",
          "text": [
            "      14/50         3G      2.918      4.048      3.694         32        640: 100%|██████████| 10/10 [00:03<00:00,  3.04it/s]\n",
            "                 Class     Images  Instances      Box(P          R      mAP50  mAP50-95): 100%|██████████| 2/2 [00:00<00:00,  2.31it/s]"
          ]
        },
        {
          "output_type": "stream",
          "name": "stdout",
          "text": [
            "                   all         45         68     0.0029      0.642     0.0475     0.0169\n"
          ]
        },
        {
          "output_type": "stream",
          "name": "stderr",
          "text": [
            "\n"
          ]
        },
        {
          "output_type": "stream",
          "name": "stdout",
          "text": [
            "\n",
            "      Epoch    GPU_mem   box_loss   cls_loss   dfl_loss  Instances       Size\n"
          ]
        },
        {
          "output_type": "stream",
          "name": "stderr",
          "text": [
            "      15/50      3.01G      2.992      4.024      3.652         32        640: 100%|██████████| 10/10 [00:02<00:00,  3.80it/s]\n",
            "                 Class     Images  Instances      Box(P          R      mAP50  mAP50-95): 100%|██████████| 2/2 [00:00<00:00,  3.26it/s]"
          ]
        },
        {
          "output_type": "stream",
          "name": "stdout",
          "text": [
            "                   all         45         68    0.00335      0.657     0.0953     0.0448\n"
          ]
        },
        {
          "output_type": "stream",
          "name": "stderr",
          "text": [
            "\n"
          ]
        },
        {
          "output_type": "stream",
          "name": "stdout",
          "text": [
            "\n",
            "      Epoch    GPU_mem   box_loss   cls_loss   dfl_loss  Instances       Size\n"
          ]
        },
        {
          "output_type": "stream",
          "name": "stderr",
          "text": [
            "      16/50      3.03G      2.919      4.043      3.634         27        640: 100%|██████████| 10/10 [00:02<00:00,  3.56it/s]\n",
            "                 Class     Images  Instances      Box(P          R      mAP50  mAP50-95): 100%|██████████| 2/2 [00:01<00:00,  1.63it/s]"
          ]
        },
        {
          "output_type": "stream",
          "name": "stdout",
          "text": [
            "                   all         45         68    0.00336      0.595     0.0679     0.0305\n"
          ]
        },
        {
          "output_type": "stream",
          "name": "stderr",
          "text": [
            "\n"
          ]
        },
        {
          "output_type": "stream",
          "name": "stdout",
          "text": [
            "\n",
            "      Epoch    GPU_mem   box_loss   cls_loss   dfl_loss  Instances       Size\n"
          ]
        },
        {
          "output_type": "stream",
          "name": "stderr",
          "text": [
            "      17/50      3.04G      2.954      3.991       3.57         28        640: 100%|██████████| 10/10 [00:03<00:00,  3.30it/s]\n",
            "                 Class     Images  Instances      Box(P          R      mAP50  mAP50-95): 100%|██████████| 2/2 [00:00<00:00,  3.77it/s]"
          ]
        },
        {
          "output_type": "stream",
          "name": "stdout",
          "text": [
            "                   all         45         68      0.272     0.0749     0.0863     0.0266\n"
          ]
        },
        {
          "output_type": "stream",
          "name": "stderr",
          "text": [
            "\n"
          ]
        },
        {
          "output_type": "stream",
          "name": "stdout",
          "text": [
            "\n",
            "      Epoch    GPU_mem   box_loss   cls_loss   dfl_loss  Instances       Size\n"
          ]
        },
        {
          "output_type": "stream",
          "name": "stderr",
          "text": [
            "      18/50      3.06G      2.923      3.935      3.564         35        640: 100%|██████████| 10/10 [00:02<00:00,  3.78it/s]\n",
            "                 Class     Images  Instances      Box(P          R      mAP50  mAP50-95): 100%|██████████| 2/2 [00:00<00:00,  2.55it/s]"
          ]
        },
        {
          "output_type": "stream",
          "name": "stdout",
          "text": [
            "                   all         45         68      0.204     0.0794      0.049     0.0143\n"
          ]
        },
        {
          "output_type": "stream",
          "name": "stderr",
          "text": [
            "\n"
          ]
        },
        {
          "output_type": "stream",
          "name": "stdout",
          "text": [
            "\n",
            "      Epoch    GPU_mem   box_loss   cls_loss   dfl_loss  Instances       Size\n"
          ]
        },
        {
          "output_type": "stream",
          "name": "stderr",
          "text": [
            "      19/50      3.07G       2.89       3.82      3.493         49        640: 100%|██████████| 10/10 [00:02<00:00,  4.00it/s]\n",
            "                 Class     Images  Instances      Box(P          R      mAP50  mAP50-95): 100%|██████████| 2/2 [00:00<00:00,  3.77it/s]\n"
          ]
        },
        {
          "output_type": "stream",
          "name": "stdout",
          "text": [
            "                   all         45         68      0.248      0.117     0.0689     0.0193\n",
            "\n",
            "      Epoch    GPU_mem   box_loss   cls_loss   dfl_loss  Instances       Size\n"
          ]
        },
        {
          "output_type": "stream",
          "name": "stderr",
          "text": [
            "      20/50      3.08G       2.85       3.92      3.498         27        640: 100%|██████████| 10/10 [00:03<00:00,  2.63it/s]\n",
            "                 Class     Images  Instances      Box(P          R      mAP50  mAP50-95): 100%|██████████| 2/2 [00:00<00:00,  2.21it/s]"
          ]
        },
        {
          "output_type": "stream",
          "name": "stdout",
          "text": [
            "                   all         45         68      0.418       0.15     0.0518     0.0103\n"
          ]
        },
        {
          "output_type": "stream",
          "name": "stderr",
          "text": [
            "\n"
          ]
        },
        {
          "output_type": "stream",
          "name": "stdout",
          "text": [
            "\n",
            "      Epoch    GPU_mem   box_loss   cls_loss   dfl_loss  Instances       Size\n"
          ]
        },
        {
          "output_type": "stream",
          "name": "stderr",
          "text": [
            "      21/50       3.1G      2.833      3.869      3.476         41        640: 100%|██████████| 10/10 [00:02<00:00,  4.16it/s]\n",
            "                 Class     Images  Instances      Box(P          R      mAP50  mAP50-95): 100%|██████████| 2/2 [00:00<00:00,  3.15it/s]"
          ]
        },
        {
          "output_type": "stream",
          "name": "stdout",
          "text": [
            "                   all         45         68      0.616      0.136     0.0619     0.0148\n"
          ]
        },
        {
          "output_type": "stream",
          "name": "stderr",
          "text": [
            "\n"
          ]
        },
        {
          "output_type": "stream",
          "name": "stdout",
          "text": [
            "\n",
            "      Epoch    GPU_mem   box_loss   cls_loss   dfl_loss  Instances       Size\n"
          ]
        },
        {
          "output_type": "stream",
          "name": "stderr",
          "text": [
            "      22/50      3.12G      2.786        3.8      3.446         34        640: 100%|██████████| 10/10 [00:02<00:00,  3.98it/s]\n",
            "                 Class     Images  Instances      Box(P          R      mAP50  mAP50-95): 100%|██████████| 2/2 [00:00<00:00,  4.10it/s]"
          ]
        },
        {
          "output_type": "stream",
          "name": "stdout",
          "text": [
            "                   all         45         68      0.568      0.188     0.0562     0.0125\n"
          ]
        },
        {
          "output_type": "stream",
          "name": "stderr",
          "text": [
            "\n"
          ]
        },
        {
          "output_type": "stream",
          "name": "stdout",
          "text": [
            "\n",
            "      Epoch    GPU_mem   box_loss   cls_loss   dfl_loss  Instances       Size\n"
          ]
        },
        {
          "output_type": "stream",
          "name": "stderr",
          "text": [
            "      23/50      3.13G      2.831      3.775      3.388         29        640: 100%|██████████| 10/10 [00:02<00:00,  4.09it/s]\n",
            "                 Class     Images  Instances      Box(P          R      mAP50  mAP50-95): 100%|██████████| 2/2 [00:00<00:00,  2.61it/s]"
          ]
        },
        {
          "output_type": "stream",
          "name": "stdout",
          "text": [
            "                   all         45         68       0.88     0.0652     0.0667      0.016\n"
          ]
        },
        {
          "output_type": "stream",
          "name": "stderr",
          "text": [
            "\n"
          ]
        },
        {
          "output_type": "stream",
          "name": "stdout",
          "text": [
            "\n",
            "      Epoch    GPU_mem   box_loss   cls_loss   dfl_loss  Instances       Size\n"
          ]
        },
        {
          "output_type": "stream",
          "name": "stderr",
          "text": [
            "      24/50      3.14G      2.871      3.817      3.369         33        640: 100%|██████████| 10/10 [00:03<00:00,  2.74it/s]\n",
            "                 Class     Images  Instances      Box(P          R      mAP50  mAP50-95): 100%|██████████| 2/2 [00:00<00:00,  3.12it/s]"
          ]
        },
        {
          "output_type": "stream",
          "name": "stdout",
          "text": [
            "                   all         45         68      0.397      0.177     0.0686     0.0173\n"
          ]
        },
        {
          "output_type": "stream",
          "name": "stderr",
          "text": [
            "\n"
          ]
        },
        {
          "output_type": "stream",
          "name": "stdout",
          "text": [
            "\n",
            "      Epoch    GPU_mem   box_loss   cls_loss   dfl_loss  Instances       Size\n"
          ]
        },
        {
          "output_type": "stream",
          "name": "stderr",
          "text": [
            "      25/50      3.16G      2.772      3.732      3.323         32        640: 100%|██████████| 10/10 [00:02<00:00,  4.14it/s]\n",
            "                 Class     Images  Instances      Box(P          R      mAP50  mAP50-95): 100%|██████████| 2/2 [00:00<00:00,  2.92it/s]\n"
          ]
        },
        {
          "output_type": "stream",
          "name": "stdout",
          "text": [
            "                   all         45         68      0.421      0.133     0.0835     0.0212\n",
            "\n",
            "      Epoch    GPU_mem   box_loss   cls_loss   dfl_loss  Instances       Size\n"
          ]
        },
        {
          "output_type": "stream",
          "name": "stderr",
          "text": [
            "      26/50      3.18G      2.694      3.789      3.332         36        640: 100%|██████████| 10/10 [00:02<00:00,  3.94it/s]\n",
            "                 Class     Images  Instances      Box(P          R      mAP50  mAP50-95): 100%|██████████| 2/2 [00:00<00:00,  3.74it/s]"
          ]
        },
        {
          "output_type": "stream",
          "name": "stdout",
          "text": [
            "                   all         45         68      0.368      0.129     0.0837      0.018\n"
          ]
        },
        {
          "output_type": "stream",
          "name": "stderr",
          "text": [
            "\n"
          ]
        },
        {
          "output_type": "stream",
          "name": "stdout",
          "text": [
            "\n",
            "      Epoch    GPU_mem   box_loss   cls_loss   dfl_loss  Instances       Size\n"
          ]
        },
        {
          "output_type": "stream",
          "name": "stderr",
          "text": [
            "      27/50      3.19G      2.677      3.691      3.316         37        640: 100%|██████████| 10/10 [00:02<00:00,  3.63it/s]\n",
            "                 Class     Images  Instances      Box(P          R      mAP50  mAP50-95): 100%|██████████| 2/2 [00:01<00:00,  1.65it/s]"
          ]
        },
        {
          "output_type": "stream",
          "name": "stdout",
          "text": [
            "                   all         45         68      0.398      0.176     0.0673     0.0168\n"
          ]
        },
        {
          "output_type": "stream",
          "name": "stderr",
          "text": [
            "\n"
          ]
        },
        {
          "output_type": "stream",
          "name": "stdout",
          "text": [
            "\n",
            "      Epoch    GPU_mem   box_loss   cls_loss   dfl_loss  Instances       Size\n"
          ]
        },
        {
          "output_type": "stream",
          "name": "stderr",
          "text": [
            "      28/50      3.21G      2.642      3.697      3.313         26        640: 100%|██████████| 10/10 [00:03<00:00,  3.33it/s]\n",
            "                 Class     Images  Instances      Box(P          R      mAP50  mAP50-95): 100%|██████████| 2/2 [00:00<00:00,  3.94it/s]\n"
          ]
        },
        {
          "output_type": "stream",
          "name": "stdout",
          "text": [
            "                   all         45         68       0.41      0.104     0.0574     0.0145\n",
            "\n",
            "      Epoch    GPU_mem   box_loss   cls_loss   dfl_loss  Instances       Size\n"
          ]
        },
        {
          "output_type": "stream",
          "name": "stderr",
          "text": [
            "      29/50      3.22G      2.652      3.696      3.254         26        640: 100%|██████████| 10/10 [00:02<00:00,  3.95it/s]\n",
            "                 Class     Images  Instances      Box(P          R      mAP50  mAP50-95): 100%|██████████| 2/2 [00:00<00:00,  4.01it/s]"
          ]
        },
        {
          "output_type": "stream",
          "name": "stdout",
          "text": [
            "                   all         45         68      0.822     0.0962      0.124      0.034\n"
          ]
        },
        {
          "output_type": "stream",
          "name": "stderr",
          "text": [
            "\n"
          ]
        },
        {
          "output_type": "stream",
          "name": "stdout",
          "text": [
            "\n",
            "      Epoch    GPU_mem   box_loss   cls_loss   dfl_loss  Instances       Size\n"
          ]
        },
        {
          "output_type": "stream",
          "name": "stderr",
          "text": [
            "      30/50      3.23G      2.626      3.642      3.246         34        640: 100%|██████████| 10/10 [00:02<00:00,  4.18it/s]\n",
            "                 Class     Images  Instances      Box(P          R      mAP50  mAP50-95): 100%|██████████| 2/2 [00:00<00:00,  3.31it/s]\n"
          ]
        },
        {
          "output_type": "stream",
          "name": "stdout",
          "text": [
            "                   all         45         68      0.612      0.102      0.132     0.0294\n",
            "\n",
            "      Epoch    GPU_mem   box_loss   cls_loss   dfl_loss  Instances       Size\n"
          ]
        },
        {
          "output_type": "stream",
          "name": "stderr",
          "text": [
            "      31/50      3.25G      2.566      3.695      3.292         32        640: 100%|██████████| 10/10 [00:03<00:00,  2.83it/s]\n",
            "                 Class     Images  Instances      Box(P          R      mAP50  mAP50-95): 100%|██████████| 2/2 [00:01<00:00,  1.94it/s]"
          ]
        },
        {
          "output_type": "stream",
          "name": "stdout",
          "text": [
            "                   all         45         68      0.572      0.129      0.107     0.0261\n"
          ]
        },
        {
          "output_type": "stream",
          "name": "stderr",
          "text": [
            "\n"
          ]
        },
        {
          "output_type": "stream",
          "name": "stdout",
          "text": [
            "\n",
            "      Epoch    GPU_mem   box_loss   cls_loss   dfl_loss  Instances       Size\n"
          ]
        },
        {
          "output_type": "stream",
          "name": "stderr",
          "text": [
            "      32/50      3.26G      2.514      3.688      3.228         26        640: 100%|██████████| 10/10 [00:02<00:00,  3.83it/s]\n",
            "                 Class     Images  Instances      Box(P          R      mAP50  mAP50-95): 100%|██████████| 2/2 [00:00<00:00,  4.24it/s]"
          ]
        },
        {
          "output_type": "stream",
          "name": "stdout",
          "text": [
            "                   all         45         68      0.237      0.171     0.0964     0.0211\n"
          ]
        },
        {
          "output_type": "stream",
          "name": "stderr",
          "text": [
            "\n"
          ]
        },
        {
          "output_type": "stream",
          "name": "stdout",
          "text": [
            "\n",
            "      Epoch    GPU_mem   box_loss   cls_loss   dfl_loss  Instances       Size\n"
          ]
        },
        {
          "output_type": "stream",
          "name": "stderr",
          "text": [
            "      33/50      3.28G      2.447      3.689      3.171         36        640: 100%|██████████| 10/10 [00:02<00:00,  4.10it/s]\n",
            "                 Class     Images  Instances      Box(P          R      mAP50  mAP50-95): 100%|██████████| 2/2 [00:00<00:00,  4.06it/s]\n"
          ]
        },
        {
          "output_type": "stream",
          "name": "stdout",
          "text": [
            "                   all         45         68      0.271      0.191     0.0748     0.0195\n",
            "\n",
            "      Epoch    GPU_mem   box_loss   cls_loss   dfl_loss  Instances       Size\n"
          ]
        },
        {
          "output_type": "stream",
          "name": "stderr",
          "text": [
            "      34/50      3.29G      2.465      3.629      3.187         37        640: 100%|██████████| 10/10 [00:02<00:00,  3.93it/s]\n",
            "                 Class     Images  Instances      Box(P          R      mAP50  mAP50-95): 100%|██████████| 2/2 [00:00<00:00,  2.57it/s]"
          ]
        },
        {
          "output_type": "stream",
          "name": "stdout",
          "text": [
            "                   all         45         68      0.206      0.121     0.0511     0.0163\n"
          ]
        },
        {
          "output_type": "stream",
          "name": "stderr",
          "text": [
            "\n"
          ]
        },
        {
          "output_type": "stream",
          "name": "stdout",
          "text": [
            "\n",
            "      Epoch    GPU_mem   box_loss   cls_loss   dfl_loss  Instances       Size\n"
          ]
        },
        {
          "output_type": "stream",
          "name": "stderr",
          "text": [
            "      35/50      3.31G       2.48       3.65      3.151         27        640: 100%|██████████| 10/10 [00:03<00:00,  2.64it/s]\n",
            "                 Class     Images  Instances      Box(P          R      mAP50  mAP50-95): 100%|██████████| 2/2 [00:00<00:00,  4.19it/s]\n"
          ]
        },
        {
          "output_type": "stream",
          "name": "stdout",
          "text": [
            "                   all         45         68      0.432      0.146        0.1     0.0302\n",
            "\n",
            "      Epoch    GPU_mem   box_loss   cls_loss   dfl_loss  Instances       Size\n"
          ]
        },
        {
          "output_type": "stream",
          "name": "stderr",
          "text": [
            "      36/50      3.32G      2.534       3.63      3.114         36        640: 100%|██████████| 10/10 [00:02<00:00,  4.20it/s]\n",
            "                 Class     Images  Instances      Box(P          R      mAP50  mAP50-95): 100%|██████████| 2/2 [00:00<00:00,  3.31it/s]"
          ]
        },
        {
          "output_type": "stream",
          "name": "stdout",
          "text": [
            "                   all         45         68      0.418      0.169     0.0912     0.0252\n"
          ]
        },
        {
          "output_type": "stream",
          "name": "stderr",
          "text": [
            "\n"
          ]
        },
        {
          "output_type": "stream",
          "name": "stdout",
          "text": [
            "\n",
            "      Epoch    GPU_mem   box_loss   cls_loss   dfl_loss  Instances       Size\n"
          ]
        },
        {
          "output_type": "stream",
          "name": "stderr",
          "text": [
            "      37/50      3.34G      2.403      3.579      3.133         35        640: 100%|██████████| 10/10 [00:02<00:00,  4.02it/s]\n",
            "                 Class     Images  Instances      Box(P          R      mAP50  mAP50-95): 100%|██████████| 2/2 [00:00<00:00,  4.15it/s]"
          ]
        },
        {
          "output_type": "stream",
          "name": "stdout",
          "text": [
            "                   all         45         68      0.381      0.141     0.0902     0.0228\n"
          ]
        },
        {
          "output_type": "stream",
          "name": "stderr",
          "text": [
            "\n"
          ]
        },
        {
          "output_type": "stream",
          "name": "stdout",
          "text": [
            "\n",
            "      Epoch    GPU_mem   box_loss   cls_loss   dfl_loss  Instances       Size\n"
          ]
        },
        {
          "output_type": "stream",
          "name": "stderr",
          "text": [
            "      38/50      3.35G       2.51      3.553      3.135         36        640: 100%|██████████| 10/10 [00:02<00:00,  3.84it/s]\n",
            "                 Class     Images  Instances      Box(P          R      mAP50  mAP50-95): 100%|██████████| 2/2 [00:01<00:00,  1.81it/s]"
          ]
        },
        {
          "output_type": "stream",
          "name": "stdout",
          "text": [
            "                   all         45         68      0.607      0.135      0.115     0.0297\n"
          ]
        },
        {
          "output_type": "stream",
          "name": "stderr",
          "text": [
            "\n"
          ]
        },
        {
          "output_type": "stream",
          "name": "stdout",
          "text": [
            "\n",
            "      Epoch    GPU_mem   box_loss   cls_loss   dfl_loss  Instances       Size\n"
          ]
        },
        {
          "output_type": "stream",
          "name": "stderr",
          "text": [
            "      39/50      3.37G      2.463      3.521      3.123         44        640: 100%|██████████| 10/10 [00:03<00:00,  3.09it/s]\n",
            "                 Class     Images  Instances      Box(P          R      mAP50  mAP50-95): 100%|██████████| 2/2 [00:00<00:00,  2.89it/s]"
          ]
        },
        {
          "output_type": "stream",
          "name": "stdout",
          "text": [
            "                   all         45         68      0.374      0.117     0.0876     0.0294\n"
          ]
        },
        {
          "output_type": "stream",
          "name": "stderr",
          "text": [
            "\n"
          ]
        },
        {
          "output_type": "stream",
          "name": "stdout",
          "text": [
            "\n",
            "      Epoch    GPU_mem   box_loss   cls_loss   dfl_loss  Instances       Size\n"
          ]
        },
        {
          "output_type": "stream",
          "name": "stderr",
          "text": [
            "      40/50      3.38G      2.494      3.568      3.072         31        640: 100%|██████████| 10/10 [00:02<00:00,  3.96it/s]\n",
            "                 Class     Images  Instances      Box(P          R      mAP50  mAP50-95): 100%|██████████| 2/2 [00:00<00:00,  4.59it/s]"
          ]
        },
        {
          "output_type": "stream",
          "name": "stdout",
          "text": [
            "                   all         45         68      0.615       0.15      0.151     0.0589\n"
          ]
        },
        {
          "output_type": "stream",
          "name": "stderr",
          "text": [
            "\n"
          ]
        },
        {
          "output_type": "stream",
          "name": "stdout",
          "text": [
            "Closing dataloader mosaic\n",
            "\u001b[34m\u001b[1malbumentations: \u001b[0mBlur(p=0.01, blur_limit=(3, 7)), MedianBlur(p=0.01, blur_limit=(3, 7)), ToGray(p=0.01, method='weighted_average', num_output_channels=3), CLAHE(p=0.01, clip_limit=(1.0, 4.0), tile_grid_size=(8, 8))\n",
            "\n",
            "      Epoch    GPU_mem   box_loss   cls_loss   dfl_loss  Instances       Size\n"
          ]
        },
        {
          "output_type": "stream",
          "name": "stderr",
          "text": [
            "      41/50       3.4G      2.402      3.769      3.196         12        640: 100%|██████████| 10/10 [00:04<00:00,  2.50it/s]\n",
            "                 Class     Images  Instances      Box(P          R      mAP50  mAP50-95): 100%|██████████| 2/2 [00:01<00:00,  1.36it/s]"
          ]
        },
        {
          "output_type": "stream",
          "name": "stdout",
          "text": [
            "                   all         45         68      0.637       0.19      0.172     0.0744\n"
          ]
        },
        {
          "output_type": "stream",
          "name": "stderr",
          "text": [
            "\n"
          ]
        },
        {
          "output_type": "stream",
          "name": "stdout",
          "text": [
            "\n",
            "      Epoch    GPU_mem   box_loss   cls_loss   dfl_loss  Instances       Size\n"
          ]
        },
        {
          "output_type": "stream",
          "name": "stderr",
          "text": [
            "      42/50      3.41G      2.395      3.621      3.198         16        640: 100%|██████████| 10/10 [00:03<00:00,  3.00it/s]\n",
            "                 Class     Images  Instances      Box(P          R      mAP50  mAP50-95): 100%|██████████| 2/2 [00:00<00:00,  4.93it/s]"
          ]
        },
        {
          "output_type": "stream",
          "name": "stdout",
          "text": [
            "                   all         45         68      0.681      0.266      0.235     0.0917\n"
          ]
        },
        {
          "output_type": "stream",
          "name": "stderr",
          "text": [
            "\n"
          ]
        },
        {
          "output_type": "stream",
          "name": "stdout",
          "text": [
            "\n",
            "      Epoch    GPU_mem   box_loss   cls_loss   dfl_loss  Instances       Size\n"
          ]
        },
        {
          "output_type": "stream",
          "name": "stderr",
          "text": [
            "      43/50      3.43G      2.284      3.565      3.145         21        640: 100%|██████████| 10/10 [00:02<00:00,  3.83it/s]\n",
            "                 Class     Images  Instances      Box(P          R      mAP50  mAP50-95): 100%|██████████| 2/2 [00:00<00:00,  4.50it/s]\n"
          ]
        },
        {
          "output_type": "stream",
          "name": "stdout",
          "text": [
            "                   all         45         68      0.775      0.199      0.226      0.103\n",
            "\n",
            "      Epoch    GPU_mem   box_loss   cls_loss   dfl_loss  Instances       Size\n"
          ]
        },
        {
          "output_type": "stream",
          "name": "stderr",
          "text": [
            "      44/50      3.44G      2.295      3.635      3.179         20        640: 100%|██████████| 10/10 [00:02<00:00,  3.99it/s]\n",
            "                 Class     Images  Instances      Box(P          R      mAP50  mAP50-95): 100%|██████████| 2/2 [00:00<00:00,  4.36it/s]"
          ]
        },
        {
          "output_type": "stream",
          "name": "stdout",
          "text": [
            "                   all         45         68      0.502      0.258      0.219      0.091\n"
          ]
        },
        {
          "output_type": "stream",
          "name": "stderr",
          "text": [
            "\n"
          ]
        },
        {
          "output_type": "stream",
          "name": "stdout",
          "text": [
            "\n",
            "      Epoch    GPU_mem   box_loss   cls_loss   dfl_loss  Instances       Size\n"
          ]
        },
        {
          "output_type": "stream",
          "name": "stderr",
          "text": [
            "      45/50      3.45G      2.302      3.505      3.189         19        640: 100%|██████████| 10/10 [00:03<00:00,  3.21it/s]\n",
            "                 Class     Images  Instances      Box(P          R      mAP50  mAP50-95): 100%|██████████| 2/2 [00:01<00:00,  1.84it/s]"
          ]
        },
        {
          "output_type": "stream",
          "name": "stdout",
          "text": [
            "                   all         45         68      0.647      0.258      0.247     0.0863\n"
          ]
        },
        {
          "output_type": "stream",
          "name": "stderr",
          "text": [
            "\n"
          ]
        },
        {
          "output_type": "stream",
          "name": "stdout",
          "text": [
            "\n",
            "      Epoch    GPU_mem   box_loss   cls_loss   dfl_loss  Instances       Size\n"
          ]
        },
        {
          "output_type": "stream",
          "name": "stderr",
          "text": [
            "      46/50      3.47G      2.258      3.603      3.233         21        640: 100%|██████████| 10/10 [00:02<00:00,  3.93it/s]\n",
            "                 Class     Images  Instances      Box(P          R      mAP50  mAP50-95): 100%|██████████| 2/2 [00:00<00:00,  4.49it/s]"
          ]
        },
        {
          "output_type": "stream",
          "name": "stdout",
          "text": [
            "                   all         45         68      0.613      0.248      0.265     0.0884\n"
          ]
        },
        {
          "output_type": "stream",
          "name": "stderr",
          "text": [
            "\n"
          ]
        },
        {
          "output_type": "stream",
          "name": "stdout",
          "text": [
            "\n",
            "      Epoch    GPU_mem   box_loss   cls_loss   dfl_loss  Instances       Size\n"
          ]
        },
        {
          "output_type": "stream",
          "name": "stderr",
          "text": [
            "      47/50      3.49G      2.271      3.509      3.136         19        640: 100%|██████████| 10/10 [00:02<00:00,  3.77it/s]\n",
            "                 Class     Images  Instances      Box(P          R      mAP50  mAP50-95): 100%|██████████| 2/2 [00:00<00:00,  3.72it/s]"
          ]
        },
        {
          "output_type": "stream",
          "name": "stdout",
          "text": [
            "                   all         45         68       0.57      0.226      0.268      0.103\n"
          ]
        },
        {
          "output_type": "stream",
          "name": "stderr",
          "text": [
            "\n"
          ]
        },
        {
          "output_type": "stream",
          "name": "stdout",
          "text": [
            "\n",
            "      Epoch    GPU_mem   box_loss   cls_loss   dfl_loss  Instances       Size\n"
          ]
        },
        {
          "output_type": "stream",
          "name": "stderr",
          "text": [
            "      48/50       3.5G      2.266      3.607      3.171         14        640: 100%|██████████| 10/10 [00:02<00:00,  4.15it/s]\n",
            "                 Class     Images  Instances      Box(P          R      mAP50  mAP50-95): 100%|██████████| 2/2 [00:00<00:00,  2.77it/s]"
          ]
        },
        {
          "output_type": "stream",
          "name": "stdout",
          "text": [
            "                   all         45         68      0.633      0.268      0.265     0.0972\n"
          ]
        },
        {
          "output_type": "stream",
          "name": "stderr",
          "text": [
            "\n"
          ]
        },
        {
          "output_type": "stream",
          "name": "stdout",
          "text": [
            "\n",
            "      Epoch    GPU_mem   box_loss   cls_loss   dfl_loss  Instances       Size\n"
          ]
        },
        {
          "output_type": "stream",
          "name": "stderr",
          "text": [
            "      49/50      3.52G      2.177      3.485      3.114         18        640: 100%|██████████| 10/10 [00:03<00:00,  2.68it/s]\n",
            "                 Class     Images  Instances      Box(P          R      mAP50  mAP50-95): 100%|██████████| 2/2 [00:00<00:00,  2.71it/s]"
          ]
        },
        {
          "output_type": "stream",
          "name": "stdout",
          "text": [
            "                   all         45         68      0.703      0.292       0.26     0.0986\n"
          ]
        },
        {
          "output_type": "stream",
          "name": "stderr",
          "text": [
            "\n"
          ]
        },
        {
          "output_type": "stream",
          "name": "stdout",
          "text": [
            "\n",
            "      Epoch    GPU_mem   box_loss   cls_loss   dfl_loss  Instances       Size\n"
          ]
        },
        {
          "output_type": "stream",
          "name": "stderr",
          "text": [
            "      50/50      3.53G       2.25      3.479      3.115         12        640: 100%|██████████| 10/10 [00:02<00:00,  3.76it/s]\n",
            "                 Class     Images  Instances      Box(P          R      mAP50  mAP50-95): 100%|██████████| 2/2 [00:00<00:00,  3.10it/s]\n"
          ]
        },
        {
          "output_type": "stream",
          "name": "stdout",
          "text": [
            "                   all         45         68      0.767      0.275      0.269      0.104\n",
            "\n",
            "50 epochs completed in 0.057 hours.\n",
            "Optimizer stripped from runs/detect/train/weights/last.pt, 5.5MB\n",
            "Optimizer stripped from runs/detect/train/weights/best.pt, 5.5MB\n",
            "\n",
            "Validating runs/detect/train/weights/best.pt...\n",
            "Ultralytics 8.3.175 🚀 Python-3.11.13 torch-2.6.0+cu124 CUDA:0 (Tesla T4, 15095MiB)\n",
            "YOLO11n summary (fused): 100 layers, 2,583,322 parameters, 0 gradients, 6.3 GFLOPs\n"
          ]
        },
        {
          "output_type": "stream",
          "name": "stderr",
          "text": [
            "                 Class     Images  Instances      Box(P          R      mAP50  mAP50-95): 100%|██████████| 2/2 [00:00<00:00,  2.99it/s]\n"
          ]
        },
        {
          "output_type": "stream",
          "name": "stdout",
          "text": [
            "                   all         45         68       0.76      0.268      0.265      0.103\n",
            "      African Armyworm         16         21      0.514      0.286      0.319      0.124\n",
            "          bean beetles          6          6          1          0     0.0493     0.0254\n",
            "         cowpea aphids          6         10          1          0      0.141     0.0198\n",
            "         fall armyworm          1          1          1          0     0.0498     0.0205\n",
            "          maize weevil          7          7      0.799      0.714       0.75      0.319\n",
            "           white flies          9         23      0.246      0.609      0.279      0.106\n",
            "Speed: 0.2ms preprocess, 4.3ms inference, 0.0ms loss, 3.5ms postprocess per image\n",
            "Results saved to \u001b[1mruns/detect/train\u001b[0m\n"
          ]
        },
        {
          "output_type": "execute_result",
          "data": {
            "text/plain": [
              "ultralytics.utils.metrics.DetMetrics object with attributes:\n",
              "\n",
              "ap_class_index: array([0, 1, 2, 3, 4, 5])\n",
              "box: ultralytics.utils.metrics.Metric object\n",
              "confusion_matrix: <ultralytics.utils.metrics.ConfusionMatrix object at 0x7c259a3bfb10>\n",
              "curves: ['Precision-Recall(B)', 'F1-Confidence(B)', 'Precision-Confidence(B)', 'Recall-Confidence(B)']\n",
              "curves_results: [[array([          0,    0.001001,    0.002002,    0.003003,    0.004004,    0.005005,    0.006006,    0.007007,    0.008008,    0.009009,     0.01001,    0.011011,    0.012012,    0.013013,    0.014014,    0.015015,    0.016016,    0.017017,    0.018018,    0.019019,     0.02002,    0.021021,    0.022022,    0.023023,\n",
              "          0.024024,    0.025025,    0.026026,    0.027027,    0.028028,    0.029029,     0.03003,    0.031031,    0.032032,    0.033033,    0.034034,    0.035035,    0.036036,    0.037037,    0.038038,    0.039039,     0.04004,    0.041041,    0.042042,    0.043043,    0.044044,    0.045045,    0.046046,    0.047047,\n",
              "          0.048048,    0.049049,     0.05005,    0.051051,    0.052052,    0.053053,    0.054054,    0.055055,    0.056056,    0.057057,    0.058058,    0.059059,     0.06006,    0.061061,    0.062062,    0.063063,    0.064064,    0.065065,    0.066066,    0.067067,    0.068068,    0.069069,     0.07007,    0.071071,\n",
              "          0.072072,    0.073073,    0.074074,    0.075075,    0.076076,    0.077077,    0.078078,    0.079079,     0.08008,    0.081081,    0.082082,    0.083083,    0.084084,    0.085085,    0.086086,    0.087087,    0.088088,    0.089089,     0.09009,    0.091091,    0.092092,    0.093093,    0.094094,    0.095095,\n",
              "          0.096096,    0.097097,    0.098098,    0.099099,      0.1001,      0.1011,      0.1021,      0.1031,      0.1041,     0.10511,     0.10611,     0.10711,     0.10811,     0.10911,     0.11011,     0.11111,     0.11211,     0.11311,     0.11411,     0.11512,     0.11612,     0.11712,     0.11812,     0.11912,\n",
              "           0.12012,     0.12112,     0.12212,     0.12312,     0.12412,     0.12513,     0.12613,     0.12713,     0.12813,     0.12913,     0.13013,     0.13113,     0.13213,     0.13313,     0.13413,     0.13514,     0.13614,     0.13714,     0.13814,     0.13914,     0.14014,     0.14114,     0.14214,     0.14314,\n",
              "           0.14414,     0.14515,     0.14615,     0.14715,     0.14815,     0.14915,     0.15015,     0.15115,     0.15215,     0.15315,     0.15415,     0.15516,     0.15616,     0.15716,     0.15816,     0.15916,     0.16016,     0.16116,     0.16216,     0.16316,     0.16416,     0.16517,     0.16617,     0.16717,\n",
              "           0.16817,     0.16917,     0.17017,     0.17117,     0.17217,     0.17317,     0.17417,     0.17518,     0.17618,     0.17718,     0.17818,     0.17918,     0.18018,     0.18118,     0.18218,     0.18318,     0.18418,     0.18519,     0.18619,     0.18719,     0.18819,     0.18919,     0.19019,     0.19119,\n",
              "           0.19219,     0.19319,     0.19419,      0.1952,      0.1962,      0.1972,      0.1982,      0.1992,      0.2002,      0.2012,      0.2022,      0.2032,      0.2042,     0.20521,     0.20621,     0.20721,     0.20821,     0.20921,     0.21021,     0.21121,     0.21221,     0.21321,     0.21421,     0.21522,\n",
              "           0.21622,     0.21722,     0.21822,     0.21922,     0.22022,     0.22122,     0.22222,     0.22322,     0.22422,     0.22523,     0.22623,     0.22723,     0.22823,     0.22923,     0.23023,     0.23123,     0.23223,     0.23323,     0.23423,     0.23524,     0.23624,     0.23724,     0.23824,     0.23924,\n",
              "           0.24024,     0.24124,     0.24224,     0.24324,     0.24424,     0.24525,     0.24625,     0.24725,     0.24825,     0.24925,     0.25025,     0.25125,     0.25225,     0.25325,     0.25425,     0.25526,     0.25626,     0.25726,     0.25826,     0.25926,     0.26026,     0.26126,     0.26226,     0.26326,\n",
              "           0.26426,     0.26527,     0.26627,     0.26727,     0.26827,     0.26927,     0.27027,     0.27127,     0.27227,     0.27327,     0.27427,     0.27528,     0.27628,     0.27728,     0.27828,     0.27928,     0.28028,     0.28128,     0.28228,     0.28328,     0.28428,     0.28529,     0.28629,     0.28729,\n",
              "           0.28829,     0.28929,     0.29029,     0.29129,     0.29229,     0.29329,     0.29429,      0.2953,      0.2963,      0.2973,      0.2983,      0.2993,      0.3003,      0.3013,      0.3023,      0.3033,      0.3043,     0.30531,     0.30631,     0.30731,     0.30831,     0.30931,     0.31031,     0.31131,\n",
              "           0.31231,     0.31331,     0.31431,     0.31532,     0.31632,     0.31732,     0.31832,     0.31932,     0.32032,     0.32132,     0.32232,     0.32332,     0.32432,     0.32533,     0.32633,     0.32733,     0.32833,     0.32933,     0.33033,     0.33133,     0.33233,     0.33333,     0.33433,     0.33534,\n",
              "           0.33634,     0.33734,     0.33834,     0.33934,     0.34034,     0.34134,     0.34234,     0.34334,     0.34434,     0.34535,     0.34635,     0.34735,     0.34835,     0.34935,     0.35035,     0.35135,     0.35235,     0.35335,     0.35435,     0.35536,     0.35636,     0.35736,     0.35836,     0.35936,\n",
              "           0.36036,     0.36136,     0.36236,     0.36336,     0.36436,     0.36537,     0.36637,     0.36737,     0.36837,     0.36937,     0.37037,     0.37137,     0.37237,     0.37337,     0.37437,     0.37538,     0.37638,     0.37738,     0.37838,     0.37938,     0.38038,     0.38138,     0.38238,     0.38338,\n",
              "           0.38438,     0.38539,     0.38639,     0.38739,     0.38839,     0.38939,     0.39039,     0.39139,     0.39239,     0.39339,     0.39439,      0.3954,      0.3964,      0.3974,      0.3984,      0.3994,      0.4004,      0.4014,      0.4024,      0.4034,      0.4044,     0.40541,     0.40641,     0.40741,\n",
              "           0.40841,     0.40941,     0.41041,     0.41141,     0.41241,     0.41341,     0.41441,     0.41542,     0.41642,     0.41742,     0.41842,     0.41942,     0.42042,     0.42142,     0.42242,     0.42342,     0.42442,     0.42543,     0.42643,     0.42743,     0.42843,     0.42943,     0.43043,     0.43143,\n",
              "           0.43243,     0.43343,     0.43443,     0.43544,     0.43644,     0.43744,     0.43844,     0.43944,     0.44044,     0.44144,     0.44244,     0.44344,     0.44444,     0.44545,     0.44645,     0.44745,     0.44845,     0.44945,     0.45045,     0.45145,     0.45245,     0.45345,     0.45445,     0.45546,\n",
              "           0.45646,     0.45746,     0.45846,     0.45946,     0.46046,     0.46146,     0.46246,     0.46346,     0.46446,     0.46547,     0.46647,     0.46747,     0.46847,     0.46947,     0.47047,     0.47147,     0.47247,     0.47347,     0.47447,     0.47548,     0.47648,     0.47748,     0.47848,     0.47948,\n",
              "           0.48048,     0.48148,     0.48248,     0.48348,     0.48448,     0.48549,     0.48649,     0.48749,     0.48849,     0.48949,     0.49049,     0.49149,     0.49249,     0.49349,     0.49449,      0.4955,      0.4965,      0.4975,      0.4985,      0.4995,      0.5005,      0.5015,      0.5025,      0.5035,\n",
              "            0.5045,     0.50551,     0.50651,     0.50751,     0.50851,     0.50951,     0.51051,     0.51151,     0.51251,     0.51351,     0.51451,     0.51552,     0.51652,     0.51752,     0.51852,     0.51952,     0.52052,     0.52152,     0.52252,     0.52352,     0.52452,     0.52553,     0.52653,     0.52753,\n",
              "           0.52853,     0.52953,     0.53053,     0.53153,     0.53253,     0.53353,     0.53453,     0.53554,     0.53654,     0.53754,     0.53854,     0.53954,     0.54054,     0.54154,     0.54254,     0.54354,     0.54454,     0.54555,     0.54655,     0.54755,     0.54855,     0.54955,     0.55055,     0.55155,\n",
              "           0.55255,     0.55355,     0.55455,     0.55556,     0.55656,     0.55756,     0.55856,     0.55956,     0.56056,     0.56156,     0.56256,     0.56356,     0.56456,     0.56557,     0.56657,     0.56757,     0.56857,     0.56957,     0.57057,     0.57157,     0.57257,     0.57357,     0.57457,     0.57558,\n",
              "           0.57658,     0.57758,     0.57858,     0.57958,     0.58058,     0.58158,     0.58258,     0.58358,     0.58458,     0.58559,     0.58659,     0.58759,     0.58859,     0.58959,     0.59059,     0.59159,     0.59259,     0.59359,     0.59459,      0.5956,      0.5966,      0.5976,      0.5986,      0.5996,\n",
              "            0.6006,      0.6016,      0.6026,      0.6036,      0.6046,     0.60561,     0.60661,     0.60761,     0.60861,     0.60961,     0.61061,     0.61161,     0.61261,     0.61361,     0.61461,     0.61562,     0.61662,     0.61762,     0.61862,     0.61962,     0.62062,     0.62162,     0.62262,     0.62362,\n",
              "           0.62462,     0.62563,     0.62663,     0.62763,     0.62863,     0.62963,     0.63063,     0.63163,     0.63263,     0.63363,     0.63463,     0.63564,     0.63664,     0.63764,     0.63864,     0.63964,     0.64064,     0.64164,     0.64264,     0.64364,     0.64464,     0.64565,     0.64665,     0.64765,\n",
              "           0.64865,     0.64965,     0.65065,     0.65165,     0.65265,     0.65365,     0.65465,     0.65566,     0.65666,     0.65766,     0.65866,     0.65966,     0.66066,     0.66166,     0.66266,     0.66366,     0.66466,     0.66567,     0.66667,     0.66767,     0.66867,     0.66967,     0.67067,     0.67167,\n",
              "           0.67267,     0.67367,     0.67467,     0.67568,     0.67668,     0.67768,     0.67868,     0.67968,     0.68068,     0.68168,     0.68268,     0.68368,     0.68468,     0.68569,     0.68669,     0.68769,     0.68869,     0.68969,     0.69069,     0.69169,     0.69269,     0.69369,     0.69469,      0.6957,\n",
              "            0.6967,      0.6977,      0.6987,      0.6997,      0.7007,      0.7017,      0.7027,      0.7037,      0.7047,     0.70571,     0.70671,     0.70771,     0.70871,     0.70971,     0.71071,     0.71171,     0.71271,     0.71371,     0.71471,     0.71572,     0.71672,     0.71772,     0.71872,     0.71972,\n",
              "           0.72072,     0.72172,     0.72272,     0.72372,     0.72472,     0.72573,     0.72673,     0.72773,     0.72873,     0.72973,     0.73073,     0.73173,     0.73273,     0.73373,     0.73473,     0.73574,     0.73674,     0.73774,     0.73874,     0.73974,     0.74074,     0.74174,     0.74274,     0.74374,\n",
              "           0.74474,     0.74575,     0.74675,     0.74775,     0.74875,     0.74975,     0.75075,     0.75175,     0.75275,     0.75375,     0.75475,     0.75576,     0.75676,     0.75776,     0.75876,     0.75976,     0.76076,     0.76176,     0.76276,     0.76376,     0.76476,     0.76577,     0.76677,     0.76777,\n",
              "           0.76877,     0.76977,     0.77077,     0.77177,     0.77277,     0.77377,     0.77477,     0.77578,     0.77678,     0.77778,     0.77878,     0.77978,     0.78078,     0.78178,     0.78278,     0.78378,     0.78478,     0.78579,     0.78679,     0.78779,     0.78879,     0.78979,     0.79079,     0.79179,\n",
              "           0.79279,     0.79379,     0.79479,      0.7958,      0.7968,      0.7978,      0.7988,      0.7998,      0.8008,      0.8018,      0.8028,      0.8038,      0.8048,     0.80581,     0.80681,     0.80781,     0.80881,     0.80981,     0.81081,     0.81181,     0.81281,     0.81381,     0.81481,     0.81582,\n",
              "           0.81682,     0.81782,     0.81882,     0.81982,     0.82082,     0.82182,     0.82282,     0.82382,     0.82482,     0.82583,     0.82683,     0.82783,     0.82883,     0.82983,     0.83083,     0.83183,     0.83283,     0.83383,     0.83483,     0.83584,     0.83684,     0.83784,     0.83884,     0.83984,\n",
              "           0.84084,     0.84184,     0.84284,     0.84384,     0.84484,     0.84585,     0.84685,     0.84785,     0.84885,     0.84985,     0.85085,     0.85185,     0.85285,     0.85385,     0.85485,     0.85586,     0.85686,     0.85786,     0.85886,     0.85986,     0.86086,     0.86186,     0.86286,     0.86386,\n",
              "           0.86486,     0.86587,     0.86687,     0.86787,     0.86887,     0.86987,     0.87087,     0.87187,     0.87287,     0.87387,     0.87487,     0.87588,     0.87688,     0.87788,     0.87888,     0.87988,     0.88088,     0.88188,     0.88288,     0.88388,     0.88488,     0.88589,     0.88689,     0.88789,\n",
              "           0.88889,     0.88989,     0.89089,     0.89189,     0.89289,     0.89389,     0.89489,      0.8959,      0.8969,      0.8979,      0.8989,      0.8999,      0.9009,      0.9019,      0.9029,      0.9039,      0.9049,     0.90591,     0.90691,     0.90791,     0.90891,     0.90991,     0.91091,     0.91191,\n",
              "           0.91291,     0.91391,     0.91491,     0.91592,     0.91692,     0.91792,     0.91892,     0.91992,     0.92092,     0.92192,     0.92292,     0.92392,     0.92492,     0.92593,     0.92693,     0.92793,     0.92893,     0.92993,     0.93093,     0.93193,     0.93293,     0.93393,     0.93493,     0.93594,\n",
              "           0.93694,     0.93794,     0.93894,     0.93994,     0.94094,     0.94194,     0.94294,     0.94394,     0.94494,     0.94595,     0.94695,     0.94795,     0.94895,     0.94995,     0.95095,     0.95195,     0.95295,     0.95395,     0.95495,     0.95596,     0.95696,     0.95796,     0.95896,     0.95996,\n",
              "           0.96096,     0.96196,     0.96296,     0.96396,     0.96496,     0.96597,     0.96697,     0.96797,     0.96897,     0.96997,     0.97097,     0.97197,     0.97297,     0.97397,     0.97497,     0.97598,     0.97698,     0.97798,     0.97898,     0.97998,     0.98098,     0.98198,     0.98298,     0.98398,\n",
              "           0.98498,     0.98599,     0.98699,     0.98799,     0.98899,     0.98999,     0.99099,     0.99199,     0.99299,     0.99399,     0.99499,       0.996,       0.997,       0.998,       0.999,           1]), array([[          1,           1,           1, ...,  5.4809e-05,  2.7405e-05,           0],\n",
              "       [   0.061224,    0.061224,    0.061224, ...,    0.035503,    0.035503,           0],\n",
              "       [          1,           1,           1, ...,  7.9061e-05,  3.9531e-05,           0],\n",
              "       [       0.05,        0.05,        0.05, ...,        0.05,        0.05,           0],\n",
              "       [          1,           1,           1, ...,    0.011905,    0.011905,           0],\n",
              "       [          1,           1,           1, ...,  6.8888e-05,  3.4444e-05,           0]]), 'Recall', 'Precision'], [array([          0,    0.001001,    0.002002,    0.003003,    0.004004,    0.005005,    0.006006,    0.007007,    0.008008,    0.009009,     0.01001,    0.011011,    0.012012,    0.013013,    0.014014,    0.015015,    0.016016,    0.017017,    0.018018,    0.019019,     0.02002,    0.021021,    0.022022,    0.023023,\n",
              "          0.024024,    0.025025,    0.026026,    0.027027,    0.028028,    0.029029,     0.03003,    0.031031,    0.032032,    0.033033,    0.034034,    0.035035,    0.036036,    0.037037,    0.038038,    0.039039,     0.04004,    0.041041,    0.042042,    0.043043,    0.044044,    0.045045,    0.046046,    0.047047,\n",
              "          0.048048,    0.049049,     0.05005,    0.051051,    0.052052,    0.053053,    0.054054,    0.055055,    0.056056,    0.057057,    0.058058,    0.059059,     0.06006,    0.061061,    0.062062,    0.063063,    0.064064,    0.065065,    0.066066,    0.067067,    0.068068,    0.069069,     0.07007,    0.071071,\n",
              "          0.072072,    0.073073,    0.074074,    0.075075,    0.076076,    0.077077,    0.078078,    0.079079,     0.08008,    0.081081,    0.082082,    0.083083,    0.084084,    0.085085,    0.086086,    0.087087,    0.088088,    0.089089,     0.09009,    0.091091,    0.092092,    0.093093,    0.094094,    0.095095,\n",
              "          0.096096,    0.097097,    0.098098,    0.099099,      0.1001,      0.1011,      0.1021,      0.1031,      0.1041,     0.10511,     0.10611,     0.10711,     0.10811,     0.10911,     0.11011,     0.11111,     0.11211,     0.11311,     0.11411,     0.11512,     0.11612,     0.11712,     0.11812,     0.11912,\n",
              "           0.12012,     0.12112,     0.12212,     0.12312,     0.12412,     0.12513,     0.12613,     0.12713,     0.12813,     0.12913,     0.13013,     0.13113,     0.13213,     0.13313,     0.13413,     0.13514,     0.13614,     0.13714,     0.13814,     0.13914,     0.14014,     0.14114,     0.14214,     0.14314,\n",
              "           0.14414,     0.14515,     0.14615,     0.14715,     0.14815,     0.14915,     0.15015,     0.15115,     0.15215,     0.15315,     0.15415,     0.15516,     0.15616,     0.15716,     0.15816,     0.15916,     0.16016,     0.16116,     0.16216,     0.16316,     0.16416,     0.16517,     0.16617,     0.16717,\n",
              "           0.16817,     0.16917,     0.17017,     0.17117,     0.17217,     0.17317,     0.17417,     0.17518,     0.17618,     0.17718,     0.17818,     0.17918,     0.18018,     0.18118,     0.18218,     0.18318,     0.18418,     0.18519,     0.18619,     0.18719,     0.18819,     0.18919,     0.19019,     0.19119,\n",
              "           0.19219,     0.19319,     0.19419,      0.1952,      0.1962,      0.1972,      0.1982,      0.1992,      0.2002,      0.2012,      0.2022,      0.2032,      0.2042,     0.20521,     0.20621,     0.20721,     0.20821,     0.20921,     0.21021,     0.21121,     0.21221,     0.21321,     0.21421,     0.21522,\n",
              "           0.21622,     0.21722,     0.21822,     0.21922,     0.22022,     0.22122,     0.22222,     0.22322,     0.22422,     0.22523,     0.22623,     0.22723,     0.22823,     0.22923,     0.23023,     0.23123,     0.23223,     0.23323,     0.23423,     0.23524,     0.23624,     0.23724,     0.23824,     0.23924,\n",
              "           0.24024,     0.24124,     0.24224,     0.24324,     0.24424,     0.24525,     0.24625,     0.24725,     0.24825,     0.24925,     0.25025,     0.25125,     0.25225,     0.25325,     0.25425,     0.25526,     0.25626,     0.25726,     0.25826,     0.25926,     0.26026,     0.26126,     0.26226,     0.26326,\n",
              "           0.26426,     0.26527,     0.26627,     0.26727,     0.26827,     0.26927,     0.27027,     0.27127,     0.27227,     0.27327,     0.27427,     0.27528,     0.27628,     0.27728,     0.27828,     0.27928,     0.28028,     0.28128,     0.28228,     0.28328,     0.28428,     0.28529,     0.28629,     0.28729,\n",
              "           0.28829,     0.28929,     0.29029,     0.29129,     0.29229,     0.29329,     0.29429,      0.2953,      0.2963,      0.2973,      0.2983,      0.2993,      0.3003,      0.3013,      0.3023,      0.3033,      0.3043,     0.30531,     0.30631,     0.30731,     0.30831,     0.30931,     0.31031,     0.31131,\n",
              "           0.31231,     0.31331,     0.31431,     0.31532,     0.31632,     0.31732,     0.31832,     0.31932,     0.32032,     0.32132,     0.32232,     0.32332,     0.32432,     0.32533,     0.32633,     0.32733,     0.32833,     0.32933,     0.33033,     0.33133,     0.33233,     0.33333,     0.33433,     0.33534,\n",
              "           0.33634,     0.33734,     0.33834,     0.33934,     0.34034,     0.34134,     0.34234,     0.34334,     0.34434,     0.34535,     0.34635,     0.34735,     0.34835,     0.34935,     0.35035,     0.35135,     0.35235,     0.35335,     0.35435,     0.35536,     0.35636,     0.35736,     0.35836,     0.35936,\n",
              "           0.36036,     0.36136,     0.36236,     0.36336,     0.36436,     0.36537,     0.36637,     0.36737,     0.36837,     0.36937,     0.37037,     0.37137,     0.37237,     0.37337,     0.37437,     0.37538,     0.37638,     0.37738,     0.37838,     0.37938,     0.38038,     0.38138,     0.38238,     0.38338,\n",
              "           0.38438,     0.38539,     0.38639,     0.38739,     0.38839,     0.38939,     0.39039,     0.39139,     0.39239,     0.39339,     0.39439,      0.3954,      0.3964,      0.3974,      0.3984,      0.3994,      0.4004,      0.4014,      0.4024,      0.4034,      0.4044,     0.40541,     0.40641,     0.40741,\n",
              "           0.40841,     0.40941,     0.41041,     0.41141,     0.41241,     0.41341,     0.41441,     0.41542,     0.41642,     0.41742,     0.41842,     0.41942,     0.42042,     0.42142,     0.42242,     0.42342,     0.42442,     0.42543,     0.42643,     0.42743,     0.42843,     0.42943,     0.43043,     0.43143,\n",
              "           0.43243,     0.43343,     0.43443,     0.43544,     0.43644,     0.43744,     0.43844,     0.43944,     0.44044,     0.44144,     0.44244,     0.44344,     0.44444,     0.44545,     0.44645,     0.44745,     0.44845,     0.44945,     0.45045,     0.45145,     0.45245,     0.45345,     0.45445,     0.45546,\n",
              "           0.45646,     0.45746,     0.45846,     0.45946,     0.46046,     0.46146,     0.46246,     0.46346,     0.46446,     0.46547,     0.46647,     0.46747,     0.46847,     0.46947,     0.47047,     0.47147,     0.47247,     0.47347,     0.47447,     0.47548,     0.47648,     0.47748,     0.47848,     0.47948,\n",
              "           0.48048,     0.48148,     0.48248,     0.48348,     0.48448,     0.48549,     0.48649,     0.48749,     0.48849,     0.48949,     0.49049,     0.49149,     0.49249,     0.49349,     0.49449,      0.4955,      0.4965,      0.4975,      0.4985,      0.4995,      0.5005,      0.5015,      0.5025,      0.5035,\n",
              "            0.5045,     0.50551,     0.50651,     0.50751,     0.50851,     0.50951,     0.51051,     0.51151,     0.51251,     0.51351,     0.51451,     0.51552,     0.51652,     0.51752,     0.51852,     0.51952,     0.52052,     0.52152,     0.52252,     0.52352,     0.52452,     0.52553,     0.52653,     0.52753,\n",
              "           0.52853,     0.52953,     0.53053,     0.53153,     0.53253,     0.53353,     0.53453,     0.53554,     0.53654,     0.53754,     0.53854,     0.53954,     0.54054,     0.54154,     0.54254,     0.54354,     0.54454,     0.54555,     0.54655,     0.54755,     0.54855,     0.54955,     0.55055,     0.55155,\n",
              "           0.55255,     0.55355,     0.55455,     0.55556,     0.55656,     0.55756,     0.55856,     0.55956,     0.56056,     0.56156,     0.56256,     0.56356,     0.56456,     0.56557,     0.56657,     0.56757,     0.56857,     0.56957,     0.57057,     0.57157,     0.57257,     0.57357,     0.57457,     0.57558,\n",
              "           0.57658,     0.57758,     0.57858,     0.57958,     0.58058,     0.58158,     0.58258,     0.58358,     0.58458,     0.58559,     0.58659,     0.58759,     0.58859,     0.58959,     0.59059,     0.59159,     0.59259,     0.59359,     0.59459,      0.5956,      0.5966,      0.5976,      0.5986,      0.5996,\n",
              "            0.6006,      0.6016,      0.6026,      0.6036,      0.6046,     0.60561,     0.60661,     0.60761,     0.60861,     0.60961,     0.61061,     0.61161,     0.61261,     0.61361,     0.61461,     0.61562,     0.61662,     0.61762,     0.61862,     0.61962,     0.62062,     0.62162,     0.62262,     0.62362,\n",
              "           0.62462,     0.62563,     0.62663,     0.62763,     0.62863,     0.62963,     0.63063,     0.63163,     0.63263,     0.63363,     0.63463,     0.63564,     0.63664,     0.63764,     0.63864,     0.63964,     0.64064,     0.64164,     0.64264,     0.64364,     0.64464,     0.64565,     0.64665,     0.64765,\n",
              "           0.64865,     0.64965,     0.65065,     0.65165,     0.65265,     0.65365,     0.65465,     0.65566,     0.65666,     0.65766,     0.65866,     0.65966,     0.66066,     0.66166,     0.66266,     0.66366,     0.66466,     0.66567,     0.66667,     0.66767,     0.66867,     0.66967,     0.67067,     0.67167,\n",
              "           0.67267,     0.67367,     0.67467,     0.67568,     0.67668,     0.67768,     0.67868,     0.67968,     0.68068,     0.68168,     0.68268,     0.68368,     0.68468,     0.68569,     0.68669,     0.68769,     0.68869,     0.68969,     0.69069,     0.69169,     0.69269,     0.69369,     0.69469,      0.6957,\n",
              "            0.6967,      0.6977,      0.6987,      0.6997,      0.7007,      0.7017,      0.7027,      0.7037,      0.7047,     0.70571,     0.70671,     0.70771,     0.70871,     0.70971,     0.71071,     0.71171,     0.71271,     0.71371,     0.71471,     0.71572,     0.71672,     0.71772,     0.71872,     0.71972,\n",
              "           0.72072,     0.72172,     0.72272,     0.72372,     0.72472,     0.72573,     0.72673,     0.72773,     0.72873,     0.72973,     0.73073,     0.73173,     0.73273,     0.73373,     0.73473,     0.73574,     0.73674,     0.73774,     0.73874,     0.73974,     0.74074,     0.74174,     0.74274,     0.74374,\n",
              "           0.74474,     0.74575,     0.74675,     0.74775,     0.74875,     0.74975,     0.75075,     0.75175,     0.75275,     0.75375,     0.75475,     0.75576,     0.75676,     0.75776,     0.75876,     0.75976,     0.76076,     0.76176,     0.76276,     0.76376,     0.76476,     0.76577,     0.76677,     0.76777,\n",
              "           0.76877,     0.76977,     0.77077,     0.77177,     0.77277,     0.77377,     0.77477,     0.77578,     0.77678,     0.77778,     0.77878,     0.77978,     0.78078,     0.78178,     0.78278,     0.78378,     0.78478,     0.78579,     0.78679,     0.78779,     0.78879,     0.78979,     0.79079,     0.79179,\n",
              "           0.79279,     0.79379,     0.79479,      0.7958,      0.7968,      0.7978,      0.7988,      0.7998,      0.8008,      0.8018,      0.8028,      0.8038,      0.8048,     0.80581,     0.80681,     0.80781,     0.80881,     0.80981,     0.81081,     0.81181,     0.81281,     0.81381,     0.81481,     0.81582,\n",
              "           0.81682,     0.81782,     0.81882,     0.81982,     0.82082,     0.82182,     0.82282,     0.82382,     0.82482,     0.82583,     0.82683,     0.82783,     0.82883,     0.82983,     0.83083,     0.83183,     0.83283,     0.83383,     0.83483,     0.83584,     0.83684,     0.83784,     0.83884,     0.83984,\n",
              "           0.84084,     0.84184,     0.84284,     0.84384,     0.84484,     0.84585,     0.84685,     0.84785,     0.84885,     0.84985,     0.85085,     0.85185,     0.85285,     0.85385,     0.85485,     0.85586,     0.85686,     0.85786,     0.85886,     0.85986,     0.86086,     0.86186,     0.86286,     0.86386,\n",
              "           0.86486,     0.86587,     0.86687,     0.86787,     0.86887,     0.86987,     0.87087,     0.87187,     0.87287,     0.87387,     0.87487,     0.87588,     0.87688,     0.87788,     0.87888,     0.87988,     0.88088,     0.88188,     0.88288,     0.88388,     0.88488,     0.88589,     0.88689,     0.88789,\n",
              "           0.88889,     0.88989,     0.89089,     0.89189,     0.89289,     0.89389,     0.89489,      0.8959,      0.8969,      0.8979,      0.8989,      0.8999,      0.9009,      0.9019,      0.9029,      0.9039,      0.9049,     0.90591,     0.90691,     0.90791,     0.90891,     0.90991,     0.91091,     0.91191,\n",
              "           0.91291,     0.91391,     0.91491,     0.91592,     0.91692,     0.91792,     0.91892,     0.91992,     0.92092,     0.92192,     0.92292,     0.92392,     0.92492,     0.92593,     0.92693,     0.92793,     0.92893,     0.92993,     0.93093,     0.93193,     0.93293,     0.93393,     0.93493,     0.93594,\n",
              "           0.93694,     0.93794,     0.93894,     0.93994,     0.94094,     0.94194,     0.94294,     0.94394,     0.94494,     0.94595,     0.94695,     0.94795,     0.94895,     0.94995,     0.95095,     0.95195,     0.95295,     0.95395,     0.95495,     0.95596,     0.95696,     0.95796,     0.95896,     0.95996,\n",
              "           0.96096,     0.96196,     0.96296,     0.96396,     0.96496,     0.96597,     0.96697,     0.96797,     0.96897,     0.96997,     0.97097,     0.97197,     0.97297,     0.97397,     0.97497,     0.97598,     0.97698,     0.97798,     0.97898,     0.97998,     0.98098,     0.98198,     0.98298,     0.98398,\n",
              "           0.98498,     0.98599,     0.98699,     0.98799,     0.98899,     0.98999,     0.99099,     0.99199,     0.99299,     0.99399,     0.99499,       0.996,       0.997,       0.998,       0.999,           1]), array([[   0.010363,    0.010363,    0.015503, ...,           0,           0,           0],\n",
              "       [  0.0084806,   0.0084806,    0.014352, ...,           0,           0,           0],\n",
              "       [  0.0078637,   0.0078637,    0.011118, ...,           0,           0,           0],\n",
              "       [  0.0053619,   0.0053619,    0.013884, ...,           0,           0,           0],\n",
              "       [  0.0064516,   0.0064516,      0.0101, ...,           0,           0,           0],\n",
              "       [   0.011882,    0.011882,    0.017798, ...,           0,           0,           0]]), 'Confidence', 'F1'], [array([          0,    0.001001,    0.002002,    0.003003,    0.004004,    0.005005,    0.006006,    0.007007,    0.008008,    0.009009,     0.01001,    0.011011,    0.012012,    0.013013,    0.014014,    0.015015,    0.016016,    0.017017,    0.018018,    0.019019,     0.02002,    0.021021,    0.022022,    0.023023,\n",
              "          0.024024,    0.025025,    0.026026,    0.027027,    0.028028,    0.029029,     0.03003,    0.031031,    0.032032,    0.033033,    0.034034,    0.035035,    0.036036,    0.037037,    0.038038,    0.039039,     0.04004,    0.041041,    0.042042,    0.043043,    0.044044,    0.045045,    0.046046,    0.047047,\n",
              "          0.048048,    0.049049,     0.05005,    0.051051,    0.052052,    0.053053,    0.054054,    0.055055,    0.056056,    0.057057,    0.058058,    0.059059,     0.06006,    0.061061,    0.062062,    0.063063,    0.064064,    0.065065,    0.066066,    0.067067,    0.068068,    0.069069,     0.07007,    0.071071,\n",
              "          0.072072,    0.073073,    0.074074,    0.075075,    0.076076,    0.077077,    0.078078,    0.079079,     0.08008,    0.081081,    0.082082,    0.083083,    0.084084,    0.085085,    0.086086,    0.087087,    0.088088,    0.089089,     0.09009,    0.091091,    0.092092,    0.093093,    0.094094,    0.095095,\n",
              "          0.096096,    0.097097,    0.098098,    0.099099,      0.1001,      0.1011,      0.1021,      0.1031,      0.1041,     0.10511,     0.10611,     0.10711,     0.10811,     0.10911,     0.11011,     0.11111,     0.11211,     0.11311,     0.11411,     0.11512,     0.11612,     0.11712,     0.11812,     0.11912,\n",
              "           0.12012,     0.12112,     0.12212,     0.12312,     0.12412,     0.12513,     0.12613,     0.12713,     0.12813,     0.12913,     0.13013,     0.13113,     0.13213,     0.13313,     0.13413,     0.13514,     0.13614,     0.13714,     0.13814,     0.13914,     0.14014,     0.14114,     0.14214,     0.14314,\n",
              "           0.14414,     0.14515,     0.14615,     0.14715,     0.14815,     0.14915,     0.15015,     0.15115,     0.15215,     0.15315,     0.15415,     0.15516,     0.15616,     0.15716,     0.15816,     0.15916,     0.16016,     0.16116,     0.16216,     0.16316,     0.16416,     0.16517,     0.16617,     0.16717,\n",
              "           0.16817,     0.16917,     0.17017,     0.17117,     0.17217,     0.17317,     0.17417,     0.17518,     0.17618,     0.17718,     0.17818,     0.17918,     0.18018,     0.18118,     0.18218,     0.18318,     0.18418,     0.18519,     0.18619,     0.18719,     0.18819,     0.18919,     0.19019,     0.19119,\n",
              "           0.19219,     0.19319,     0.19419,      0.1952,      0.1962,      0.1972,      0.1982,      0.1992,      0.2002,      0.2012,      0.2022,      0.2032,      0.2042,     0.20521,     0.20621,     0.20721,     0.20821,     0.20921,     0.21021,     0.21121,     0.21221,     0.21321,     0.21421,     0.21522,\n",
              "           0.21622,     0.21722,     0.21822,     0.21922,     0.22022,     0.22122,     0.22222,     0.22322,     0.22422,     0.22523,     0.22623,     0.22723,     0.22823,     0.22923,     0.23023,     0.23123,     0.23223,     0.23323,     0.23423,     0.23524,     0.23624,     0.23724,     0.23824,     0.23924,\n",
              "           0.24024,     0.24124,     0.24224,     0.24324,     0.24424,     0.24525,     0.24625,     0.24725,     0.24825,     0.24925,     0.25025,     0.25125,     0.25225,     0.25325,     0.25425,     0.25526,     0.25626,     0.25726,     0.25826,     0.25926,     0.26026,     0.26126,     0.26226,     0.26326,\n",
              "           0.26426,     0.26527,     0.26627,     0.26727,     0.26827,     0.26927,     0.27027,     0.27127,     0.27227,     0.27327,     0.27427,     0.27528,     0.27628,     0.27728,     0.27828,     0.27928,     0.28028,     0.28128,     0.28228,     0.28328,     0.28428,     0.28529,     0.28629,     0.28729,\n",
              "           0.28829,     0.28929,     0.29029,     0.29129,     0.29229,     0.29329,     0.29429,      0.2953,      0.2963,      0.2973,      0.2983,      0.2993,      0.3003,      0.3013,      0.3023,      0.3033,      0.3043,     0.30531,     0.30631,     0.30731,     0.30831,     0.30931,     0.31031,     0.31131,\n",
              "           0.31231,     0.31331,     0.31431,     0.31532,     0.31632,     0.31732,     0.31832,     0.31932,     0.32032,     0.32132,     0.32232,     0.32332,     0.32432,     0.32533,     0.32633,     0.32733,     0.32833,     0.32933,     0.33033,     0.33133,     0.33233,     0.33333,     0.33433,     0.33534,\n",
              "           0.33634,     0.33734,     0.33834,     0.33934,     0.34034,     0.34134,     0.34234,     0.34334,     0.34434,     0.34535,     0.34635,     0.34735,     0.34835,     0.34935,     0.35035,     0.35135,     0.35235,     0.35335,     0.35435,     0.35536,     0.35636,     0.35736,     0.35836,     0.35936,\n",
              "           0.36036,     0.36136,     0.36236,     0.36336,     0.36436,     0.36537,     0.36637,     0.36737,     0.36837,     0.36937,     0.37037,     0.37137,     0.37237,     0.37337,     0.37437,     0.37538,     0.37638,     0.37738,     0.37838,     0.37938,     0.38038,     0.38138,     0.38238,     0.38338,\n",
              "           0.38438,     0.38539,     0.38639,     0.38739,     0.38839,     0.38939,     0.39039,     0.39139,     0.39239,     0.39339,     0.39439,      0.3954,      0.3964,      0.3974,      0.3984,      0.3994,      0.4004,      0.4014,      0.4024,      0.4034,      0.4044,     0.40541,     0.40641,     0.40741,\n",
              "           0.40841,     0.40941,     0.41041,     0.41141,     0.41241,     0.41341,     0.41441,     0.41542,     0.41642,     0.41742,     0.41842,     0.41942,     0.42042,     0.42142,     0.42242,     0.42342,     0.42442,     0.42543,     0.42643,     0.42743,     0.42843,     0.42943,     0.43043,     0.43143,\n",
              "           0.43243,     0.43343,     0.43443,     0.43544,     0.43644,     0.43744,     0.43844,     0.43944,     0.44044,     0.44144,     0.44244,     0.44344,     0.44444,     0.44545,     0.44645,     0.44745,     0.44845,     0.44945,     0.45045,     0.45145,     0.45245,     0.45345,     0.45445,     0.45546,\n",
              "           0.45646,     0.45746,     0.45846,     0.45946,     0.46046,     0.46146,     0.46246,     0.46346,     0.46446,     0.46547,     0.46647,     0.46747,     0.46847,     0.46947,     0.47047,     0.47147,     0.47247,     0.47347,     0.47447,     0.47548,     0.47648,     0.47748,     0.47848,     0.47948,\n",
              "           0.48048,     0.48148,     0.48248,     0.48348,     0.48448,     0.48549,     0.48649,     0.48749,     0.48849,     0.48949,     0.49049,     0.49149,     0.49249,     0.49349,     0.49449,      0.4955,      0.4965,      0.4975,      0.4985,      0.4995,      0.5005,      0.5015,      0.5025,      0.5035,\n",
              "            0.5045,     0.50551,     0.50651,     0.50751,     0.50851,     0.50951,     0.51051,     0.51151,     0.51251,     0.51351,     0.51451,     0.51552,     0.51652,     0.51752,     0.51852,     0.51952,     0.52052,     0.52152,     0.52252,     0.52352,     0.52452,     0.52553,     0.52653,     0.52753,\n",
              "           0.52853,     0.52953,     0.53053,     0.53153,     0.53253,     0.53353,     0.53453,     0.53554,     0.53654,     0.53754,     0.53854,     0.53954,     0.54054,     0.54154,     0.54254,     0.54354,     0.54454,     0.54555,     0.54655,     0.54755,     0.54855,     0.54955,     0.55055,     0.55155,\n",
              "           0.55255,     0.55355,     0.55455,     0.55556,     0.55656,     0.55756,     0.55856,     0.55956,     0.56056,     0.56156,     0.56256,     0.56356,     0.56456,     0.56557,     0.56657,     0.56757,     0.56857,     0.56957,     0.57057,     0.57157,     0.57257,     0.57357,     0.57457,     0.57558,\n",
              "           0.57658,     0.57758,     0.57858,     0.57958,     0.58058,     0.58158,     0.58258,     0.58358,     0.58458,     0.58559,     0.58659,     0.58759,     0.58859,     0.58959,     0.59059,     0.59159,     0.59259,     0.59359,     0.59459,      0.5956,      0.5966,      0.5976,      0.5986,      0.5996,\n",
              "            0.6006,      0.6016,      0.6026,      0.6036,      0.6046,     0.60561,     0.60661,     0.60761,     0.60861,     0.60961,     0.61061,     0.61161,     0.61261,     0.61361,     0.61461,     0.61562,     0.61662,     0.61762,     0.61862,     0.61962,     0.62062,     0.62162,     0.62262,     0.62362,\n",
              "           0.62462,     0.62563,     0.62663,     0.62763,     0.62863,     0.62963,     0.63063,     0.63163,     0.63263,     0.63363,     0.63463,     0.63564,     0.63664,     0.63764,     0.63864,     0.63964,     0.64064,     0.64164,     0.64264,     0.64364,     0.64464,     0.64565,     0.64665,     0.64765,\n",
              "           0.64865,     0.64965,     0.65065,     0.65165,     0.65265,     0.65365,     0.65465,     0.65566,     0.65666,     0.65766,     0.65866,     0.65966,     0.66066,     0.66166,     0.66266,     0.66366,     0.66466,     0.66567,     0.66667,     0.66767,     0.66867,     0.66967,     0.67067,     0.67167,\n",
              "           0.67267,     0.67367,     0.67467,     0.67568,     0.67668,     0.67768,     0.67868,     0.67968,     0.68068,     0.68168,     0.68268,     0.68368,     0.68468,     0.68569,     0.68669,     0.68769,     0.68869,     0.68969,     0.69069,     0.69169,     0.69269,     0.69369,     0.69469,      0.6957,\n",
              "            0.6967,      0.6977,      0.6987,      0.6997,      0.7007,      0.7017,      0.7027,      0.7037,      0.7047,     0.70571,     0.70671,     0.70771,     0.70871,     0.70971,     0.71071,     0.71171,     0.71271,     0.71371,     0.71471,     0.71572,     0.71672,     0.71772,     0.71872,     0.71972,\n",
              "           0.72072,     0.72172,     0.72272,     0.72372,     0.72472,     0.72573,     0.72673,     0.72773,     0.72873,     0.72973,     0.73073,     0.73173,     0.73273,     0.73373,     0.73473,     0.73574,     0.73674,     0.73774,     0.73874,     0.73974,     0.74074,     0.74174,     0.74274,     0.74374,\n",
              "           0.74474,     0.74575,     0.74675,     0.74775,     0.74875,     0.74975,     0.75075,     0.75175,     0.75275,     0.75375,     0.75475,     0.75576,     0.75676,     0.75776,     0.75876,     0.75976,     0.76076,     0.76176,     0.76276,     0.76376,     0.76476,     0.76577,     0.76677,     0.76777,\n",
              "           0.76877,     0.76977,     0.77077,     0.77177,     0.77277,     0.77377,     0.77477,     0.77578,     0.77678,     0.77778,     0.77878,     0.77978,     0.78078,     0.78178,     0.78278,     0.78378,     0.78478,     0.78579,     0.78679,     0.78779,     0.78879,     0.78979,     0.79079,     0.79179,\n",
              "           0.79279,     0.79379,     0.79479,      0.7958,      0.7968,      0.7978,      0.7988,      0.7998,      0.8008,      0.8018,      0.8028,      0.8038,      0.8048,     0.80581,     0.80681,     0.80781,     0.80881,     0.80981,     0.81081,     0.81181,     0.81281,     0.81381,     0.81481,     0.81582,\n",
              "           0.81682,     0.81782,     0.81882,     0.81982,     0.82082,     0.82182,     0.82282,     0.82382,     0.82482,     0.82583,     0.82683,     0.82783,     0.82883,     0.82983,     0.83083,     0.83183,     0.83283,     0.83383,     0.83483,     0.83584,     0.83684,     0.83784,     0.83884,     0.83984,\n",
              "           0.84084,     0.84184,     0.84284,     0.84384,     0.84484,     0.84585,     0.84685,     0.84785,     0.84885,     0.84985,     0.85085,     0.85185,     0.85285,     0.85385,     0.85485,     0.85586,     0.85686,     0.85786,     0.85886,     0.85986,     0.86086,     0.86186,     0.86286,     0.86386,\n",
              "           0.86486,     0.86587,     0.86687,     0.86787,     0.86887,     0.86987,     0.87087,     0.87187,     0.87287,     0.87387,     0.87487,     0.87588,     0.87688,     0.87788,     0.87888,     0.87988,     0.88088,     0.88188,     0.88288,     0.88388,     0.88488,     0.88589,     0.88689,     0.88789,\n",
              "           0.88889,     0.88989,     0.89089,     0.89189,     0.89289,     0.89389,     0.89489,      0.8959,      0.8969,      0.8979,      0.8989,      0.8999,      0.9009,      0.9019,      0.9029,      0.9039,      0.9049,     0.90591,     0.90691,     0.90791,     0.90891,     0.90991,     0.91091,     0.91191,\n",
              "           0.91291,     0.91391,     0.91491,     0.91592,     0.91692,     0.91792,     0.91892,     0.91992,     0.92092,     0.92192,     0.92292,     0.92392,     0.92492,     0.92593,     0.92693,     0.92793,     0.92893,     0.92993,     0.93093,     0.93193,     0.93293,     0.93393,     0.93493,     0.93594,\n",
              "           0.93694,     0.93794,     0.93894,     0.93994,     0.94094,     0.94194,     0.94294,     0.94394,     0.94494,     0.94595,     0.94695,     0.94795,     0.94895,     0.94995,     0.95095,     0.95195,     0.95295,     0.95395,     0.95495,     0.95596,     0.95696,     0.95796,     0.95896,     0.95996,\n",
              "           0.96096,     0.96196,     0.96296,     0.96396,     0.96496,     0.96597,     0.96697,     0.96797,     0.96897,     0.96997,     0.97097,     0.97197,     0.97297,     0.97397,     0.97497,     0.97598,     0.97698,     0.97798,     0.97898,     0.97998,     0.98098,     0.98198,     0.98298,     0.98398,\n",
              "           0.98498,     0.98599,     0.98699,     0.98799,     0.98899,     0.98999,     0.99099,     0.99199,     0.99299,     0.99399,     0.99499,       0.996,       0.997,       0.998,       0.999,           1]), array([[  0.0052147,   0.0052147,   0.0078313, ...,           1,           1,           1],\n",
              "       [  0.0042583,   0.0042583,   0.0072281, ...,           1,           1,           1],\n",
              "       [  0.0039491,   0.0039491,    0.005598, ...,           1,           1,           1],\n",
              "       [  0.0026882,   0.0026882,   0.0069907, ...,           1,           1,           1],\n",
              "       [  0.0032362,   0.0032362,   0.0050758, ...,           1,           1,           1],\n",
              "       [  0.0059843,   0.0059843,   0.0089958, ...,           1,           1,           1]]), 'Confidence', 'Precision'], [array([          0,    0.001001,    0.002002,    0.003003,    0.004004,    0.005005,    0.006006,    0.007007,    0.008008,    0.009009,     0.01001,    0.011011,    0.012012,    0.013013,    0.014014,    0.015015,    0.016016,    0.017017,    0.018018,    0.019019,     0.02002,    0.021021,    0.022022,    0.023023,\n",
              "          0.024024,    0.025025,    0.026026,    0.027027,    0.028028,    0.029029,     0.03003,    0.031031,    0.032032,    0.033033,    0.034034,    0.035035,    0.036036,    0.037037,    0.038038,    0.039039,     0.04004,    0.041041,    0.042042,    0.043043,    0.044044,    0.045045,    0.046046,    0.047047,\n",
              "          0.048048,    0.049049,     0.05005,    0.051051,    0.052052,    0.053053,    0.054054,    0.055055,    0.056056,    0.057057,    0.058058,    0.059059,     0.06006,    0.061061,    0.062062,    0.063063,    0.064064,    0.065065,    0.066066,    0.067067,    0.068068,    0.069069,     0.07007,    0.071071,\n",
              "          0.072072,    0.073073,    0.074074,    0.075075,    0.076076,    0.077077,    0.078078,    0.079079,     0.08008,    0.081081,    0.082082,    0.083083,    0.084084,    0.085085,    0.086086,    0.087087,    0.088088,    0.089089,     0.09009,    0.091091,    0.092092,    0.093093,    0.094094,    0.095095,\n",
              "          0.096096,    0.097097,    0.098098,    0.099099,      0.1001,      0.1011,      0.1021,      0.1031,      0.1041,     0.10511,     0.10611,     0.10711,     0.10811,     0.10911,     0.11011,     0.11111,     0.11211,     0.11311,     0.11411,     0.11512,     0.11612,     0.11712,     0.11812,     0.11912,\n",
              "           0.12012,     0.12112,     0.12212,     0.12312,     0.12412,     0.12513,     0.12613,     0.12713,     0.12813,     0.12913,     0.13013,     0.13113,     0.13213,     0.13313,     0.13413,     0.13514,     0.13614,     0.13714,     0.13814,     0.13914,     0.14014,     0.14114,     0.14214,     0.14314,\n",
              "           0.14414,     0.14515,     0.14615,     0.14715,     0.14815,     0.14915,     0.15015,     0.15115,     0.15215,     0.15315,     0.15415,     0.15516,     0.15616,     0.15716,     0.15816,     0.15916,     0.16016,     0.16116,     0.16216,     0.16316,     0.16416,     0.16517,     0.16617,     0.16717,\n",
              "           0.16817,     0.16917,     0.17017,     0.17117,     0.17217,     0.17317,     0.17417,     0.17518,     0.17618,     0.17718,     0.17818,     0.17918,     0.18018,     0.18118,     0.18218,     0.18318,     0.18418,     0.18519,     0.18619,     0.18719,     0.18819,     0.18919,     0.19019,     0.19119,\n",
              "           0.19219,     0.19319,     0.19419,      0.1952,      0.1962,      0.1972,      0.1982,      0.1992,      0.2002,      0.2012,      0.2022,      0.2032,      0.2042,     0.20521,     0.20621,     0.20721,     0.20821,     0.20921,     0.21021,     0.21121,     0.21221,     0.21321,     0.21421,     0.21522,\n",
              "           0.21622,     0.21722,     0.21822,     0.21922,     0.22022,     0.22122,     0.22222,     0.22322,     0.22422,     0.22523,     0.22623,     0.22723,     0.22823,     0.22923,     0.23023,     0.23123,     0.23223,     0.23323,     0.23423,     0.23524,     0.23624,     0.23724,     0.23824,     0.23924,\n",
              "           0.24024,     0.24124,     0.24224,     0.24324,     0.24424,     0.24525,     0.24625,     0.24725,     0.24825,     0.24925,     0.25025,     0.25125,     0.25225,     0.25325,     0.25425,     0.25526,     0.25626,     0.25726,     0.25826,     0.25926,     0.26026,     0.26126,     0.26226,     0.26326,\n",
              "           0.26426,     0.26527,     0.26627,     0.26727,     0.26827,     0.26927,     0.27027,     0.27127,     0.27227,     0.27327,     0.27427,     0.27528,     0.27628,     0.27728,     0.27828,     0.27928,     0.28028,     0.28128,     0.28228,     0.28328,     0.28428,     0.28529,     0.28629,     0.28729,\n",
              "           0.28829,     0.28929,     0.29029,     0.29129,     0.29229,     0.29329,     0.29429,      0.2953,      0.2963,      0.2973,      0.2983,      0.2993,      0.3003,      0.3013,      0.3023,      0.3033,      0.3043,     0.30531,     0.30631,     0.30731,     0.30831,     0.30931,     0.31031,     0.31131,\n",
              "           0.31231,     0.31331,     0.31431,     0.31532,     0.31632,     0.31732,     0.31832,     0.31932,     0.32032,     0.32132,     0.32232,     0.32332,     0.32432,     0.32533,     0.32633,     0.32733,     0.32833,     0.32933,     0.33033,     0.33133,     0.33233,     0.33333,     0.33433,     0.33534,\n",
              "           0.33634,     0.33734,     0.33834,     0.33934,     0.34034,     0.34134,     0.34234,     0.34334,     0.34434,     0.34535,     0.34635,     0.34735,     0.34835,     0.34935,     0.35035,     0.35135,     0.35235,     0.35335,     0.35435,     0.35536,     0.35636,     0.35736,     0.35836,     0.35936,\n",
              "           0.36036,     0.36136,     0.36236,     0.36336,     0.36436,     0.36537,     0.36637,     0.36737,     0.36837,     0.36937,     0.37037,     0.37137,     0.37237,     0.37337,     0.37437,     0.37538,     0.37638,     0.37738,     0.37838,     0.37938,     0.38038,     0.38138,     0.38238,     0.38338,\n",
              "           0.38438,     0.38539,     0.38639,     0.38739,     0.38839,     0.38939,     0.39039,     0.39139,     0.39239,     0.39339,     0.39439,      0.3954,      0.3964,      0.3974,      0.3984,      0.3994,      0.4004,      0.4014,      0.4024,      0.4034,      0.4044,     0.40541,     0.40641,     0.40741,\n",
              "           0.40841,     0.40941,     0.41041,     0.41141,     0.41241,     0.41341,     0.41441,     0.41542,     0.41642,     0.41742,     0.41842,     0.41942,     0.42042,     0.42142,     0.42242,     0.42342,     0.42442,     0.42543,     0.42643,     0.42743,     0.42843,     0.42943,     0.43043,     0.43143,\n",
              "           0.43243,     0.43343,     0.43443,     0.43544,     0.43644,     0.43744,     0.43844,     0.43944,     0.44044,     0.44144,     0.44244,     0.44344,     0.44444,     0.44545,     0.44645,     0.44745,     0.44845,     0.44945,     0.45045,     0.45145,     0.45245,     0.45345,     0.45445,     0.45546,\n",
              "           0.45646,     0.45746,     0.45846,     0.45946,     0.46046,     0.46146,     0.46246,     0.46346,     0.46446,     0.46547,     0.46647,     0.46747,     0.46847,     0.46947,     0.47047,     0.47147,     0.47247,     0.47347,     0.47447,     0.47548,     0.47648,     0.47748,     0.47848,     0.47948,\n",
              "           0.48048,     0.48148,     0.48248,     0.48348,     0.48448,     0.48549,     0.48649,     0.48749,     0.48849,     0.48949,     0.49049,     0.49149,     0.49249,     0.49349,     0.49449,      0.4955,      0.4965,      0.4975,      0.4985,      0.4995,      0.5005,      0.5015,      0.5025,      0.5035,\n",
              "            0.5045,     0.50551,     0.50651,     0.50751,     0.50851,     0.50951,     0.51051,     0.51151,     0.51251,     0.51351,     0.51451,     0.51552,     0.51652,     0.51752,     0.51852,     0.51952,     0.52052,     0.52152,     0.52252,     0.52352,     0.52452,     0.52553,     0.52653,     0.52753,\n",
              "           0.52853,     0.52953,     0.53053,     0.53153,     0.53253,     0.53353,     0.53453,     0.53554,     0.53654,     0.53754,     0.53854,     0.53954,     0.54054,     0.54154,     0.54254,     0.54354,     0.54454,     0.54555,     0.54655,     0.54755,     0.54855,     0.54955,     0.55055,     0.55155,\n",
              "           0.55255,     0.55355,     0.55455,     0.55556,     0.55656,     0.55756,     0.55856,     0.55956,     0.56056,     0.56156,     0.56256,     0.56356,     0.56456,     0.56557,     0.56657,     0.56757,     0.56857,     0.56957,     0.57057,     0.57157,     0.57257,     0.57357,     0.57457,     0.57558,\n",
              "           0.57658,     0.57758,     0.57858,     0.57958,     0.58058,     0.58158,     0.58258,     0.58358,     0.58458,     0.58559,     0.58659,     0.58759,     0.58859,     0.58959,     0.59059,     0.59159,     0.59259,     0.59359,     0.59459,      0.5956,      0.5966,      0.5976,      0.5986,      0.5996,\n",
              "            0.6006,      0.6016,      0.6026,      0.6036,      0.6046,     0.60561,     0.60661,     0.60761,     0.60861,     0.60961,     0.61061,     0.61161,     0.61261,     0.61361,     0.61461,     0.61562,     0.61662,     0.61762,     0.61862,     0.61962,     0.62062,     0.62162,     0.62262,     0.62362,\n",
              "           0.62462,     0.62563,     0.62663,     0.62763,     0.62863,     0.62963,     0.63063,     0.63163,     0.63263,     0.63363,     0.63463,     0.63564,     0.63664,     0.63764,     0.63864,     0.63964,     0.64064,     0.64164,     0.64264,     0.64364,     0.64464,     0.64565,     0.64665,     0.64765,\n",
              "           0.64865,     0.64965,     0.65065,     0.65165,     0.65265,     0.65365,     0.65465,     0.65566,     0.65666,     0.65766,     0.65866,     0.65966,     0.66066,     0.66166,     0.66266,     0.66366,     0.66466,     0.66567,     0.66667,     0.66767,     0.66867,     0.66967,     0.67067,     0.67167,\n",
              "           0.67267,     0.67367,     0.67467,     0.67568,     0.67668,     0.67768,     0.67868,     0.67968,     0.68068,     0.68168,     0.68268,     0.68368,     0.68468,     0.68569,     0.68669,     0.68769,     0.68869,     0.68969,     0.69069,     0.69169,     0.69269,     0.69369,     0.69469,      0.6957,\n",
              "            0.6967,      0.6977,      0.6987,      0.6997,      0.7007,      0.7017,      0.7027,      0.7037,      0.7047,     0.70571,     0.70671,     0.70771,     0.70871,     0.70971,     0.71071,     0.71171,     0.71271,     0.71371,     0.71471,     0.71572,     0.71672,     0.71772,     0.71872,     0.71972,\n",
              "           0.72072,     0.72172,     0.72272,     0.72372,     0.72472,     0.72573,     0.72673,     0.72773,     0.72873,     0.72973,     0.73073,     0.73173,     0.73273,     0.73373,     0.73473,     0.73574,     0.73674,     0.73774,     0.73874,     0.73974,     0.74074,     0.74174,     0.74274,     0.74374,\n",
              "           0.74474,     0.74575,     0.74675,     0.74775,     0.74875,     0.74975,     0.75075,     0.75175,     0.75275,     0.75375,     0.75475,     0.75576,     0.75676,     0.75776,     0.75876,     0.75976,     0.76076,     0.76176,     0.76276,     0.76376,     0.76476,     0.76577,     0.76677,     0.76777,\n",
              "           0.76877,     0.76977,     0.77077,     0.77177,     0.77277,     0.77377,     0.77477,     0.77578,     0.77678,     0.77778,     0.77878,     0.77978,     0.78078,     0.78178,     0.78278,     0.78378,     0.78478,     0.78579,     0.78679,     0.78779,     0.78879,     0.78979,     0.79079,     0.79179,\n",
              "           0.79279,     0.79379,     0.79479,      0.7958,      0.7968,      0.7978,      0.7988,      0.7998,      0.8008,      0.8018,      0.8028,      0.8038,      0.8048,     0.80581,     0.80681,     0.80781,     0.80881,     0.80981,     0.81081,     0.81181,     0.81281,     0.81381,     0.81481,     0.81582,\n",
              "           0.81682,     0.81782,     0.81882,     0.81982,     0.82082,     0.82182,     0.82282,     0.82382,     0.82482,     0.82583,     0.82683,     0.82783,     0.82883,     0.82983,     0.83083,     0.83183,     0.83283,     0.83383,     0.83483,     0.83584,     0.83684,     0.83784,     0.83884,     0.83984,\n",
              "           0.84084,     0.84184,     0.84284,     0.84384,     0.84484,     0.84585,     0.84685,     0.84785,     0.84885,     0.84985,     0.85085,     0.85185,     0.85285,     0.85385,     0.85485,     0.85586,     0.85686,     0.85786,     0.85886,     0.85986,     0.86086,     0.86186,     0.86286,     0.86386,\n",
              "           0.86486,     0.86587,     0.86687,     0.86787,     0.86887,     0.86987,     0.87087,     0.87187,     0.87287,     0.87387,     0.87487,     0.87588,     0.87688,     0.87788,     0.87888,     0.87988,     0.88088,     0.88188,     0.88288,     0.88388,     0.88488,     0.88589,     0.88689,     0.88789,\n",
              "           0.88889,     0.88989,     0.89089,     0.89189,     0.89289,     0.89389,     0.89489,      0.8959,      0.8969,      0.8979,      0.8989,      0.8999,      0.9009,      0.9019,      0.9029,      0.9039,      0.9049,     0.90591,     0.90691,     0.90791,     0.90891,     0.90991,     0.91091,     0.91191,\n",
              "           0.91291,     0.91391,     0.91491,     0.91592,     0.91692,     0.91792,     0.91892,     0.91992,     0.92092,     0.92192,     0.92292,     0.92392,     0.92492,     0.92593,     0.92693,     0.92793,     0.92893,     0.92993,     0.93093,     0.93193,     0.93293,     0.93393,     0.93493,     0.93594,\n",
              "           0.93694,     0.93794,     0.93894,     0.93994,     0.94094,     0.94194,     0.94294,     0.94394,     0.94494,     0.94595,     0.94695,     0.94795,     0.94895,     0.94995,     0.95095,     0.95195,     0.95295,     0.95395,     0.95495,     0.95596,     0.95696,     0.95796,     0.95896,     0.95996,\n",
              "           0.96096,     0.96196,     0.96296,     0.96396,     0.96496,     0.96597,     0.96697,     0.96797,     0.96897,     0.96997,     0.97097,     0.97197,     0.97297,     0.97397,     0.97497,     0.97598,     0.97698,     0.97798,     0.97898,     0.97998,     0.98098,     0.98198,     0.98298,     0.98398,\n",
              "           0.98498,     0.98599,     0.98699,     0.98799,     0.98899,     0.98999,     0.99099,     0.99199,     0.99299,     0.99399,     0.99499,       0.996,       0.997,       0.998,       0.999,           1]), array([[    0.80952,     0.80952,      0.7619, ...,           0,           0,           0],\n",
              "       [          1,           1,           1, ...,           0,           0,           0],\n",
              "       [        0.9,         0.9,         0.8, ...,           0,           0,           0],\n",
              "       [          1,           1,           1, ...,           0,           0,           0],\n",
              "       [          1,           1,           1, ...,           0,           0,           0],\n",
              "       [    0.82609,     0.82609,     0.82609, ...,           0,           0,           0]]), 'Confidence', 'Recall']]\n",
              "fitness: np.float64(0.11881808562521326)\n",
              "keys: ['metrics/precision(B)', 'metrics/recall(B)', 'metrics/mAP50(B)', 'metrics/mAP50-95(B)']\n",
              "maps: array([    0.12432,    0.025432,    0.019784,    0.020453,     0.31937,     0.10638])\n",
              "names: {0: 'African Armyworm', 1: 'bean beetles', 2: 'cowpea aphids', 3: 'fall armyworm', 4: 'maize weevil', 5: 'white flies'}\n",
              "nt_per_class: array([21,  6, 10,  1,  7, 23])\n",
              "nt_per_image: array([16,  6,  6,  1,  7,  9])\n",
              "results_dict: {'metrics/precision(B)': np.float64(0.7600067551396054), 'metrics/recall(B)': np.float64(0.26811594202898553), 'metrics/mAP50(B)': np.float64(0.2645706310849922), 'metrics/mAP50-95(B)': np.float64(0.10262335835190448), 'fitness': np.float64(0.11881808562521326)}\n",
              "save_dir: PosixPath('runs/detect/train')\n",
              "speed: {'preprocess': 0.2297367111067514, 'inference': 4.346280688898535, 'loss': 0.0005625777703244239, 'postprocess': 3.46529939998719}\n",
              "stats: {'tp': [], 'conf': [], 'pred_cls': [], 'target_cls': [], 'target_img': []}\n",
              "task: 'detect'"
            ]
          },
          "metadata": {},
          "execution_count": 19
        }
      ]
    },
    {
      "cell_type": "markdown",
      "source": [
        "##Train với hệ số có sẵn"
      ],
      "metadata": {
        "id": "AuwHlGyuV-o-"
      }
    },
    {
      "cell_type": "code",
      "source": [
        "%cd /content/drive/MyDrive/OBD-HETTNT/ultralytics\n",
        "from ultralytics import YOLO\n",
        "model = YOLO(\"yolo11n.yaml\")\n",
        "model = YOLO(\"yolo11n.pt\")\n",
        "model = YOLO(\"yolo11n.yaml\").load(\"yolo11n.pt\")\n",
        "model.train(data=\"/content/drive/MyDrive/OBD-HETTNT/data.yaml\", epochs=50, imgsz=640)"
      ],
      "metadata": {
        "colab": {
          "base_uri": "https://localhost:8080/"
        },
        "collapsed": true,
        "id": "pJVyIJ-QWVCL",
        "outputId": "d718edc8-f384-4b0d-a00f-856c5ac9f0c4"
      },
      "execution_count": null,
      "outputs": [
        {
          "output_type": "stream",
          "name": "stdout",
          "text": [
            "/content/drive/MyDrive/OBD-HETTNT/ultralytics\n",
            "Transferred 499/499 items from pretrained weights\n",
            "Ultralytics 8.3.175 🚀 Python-3.11.13 torch-2.6.0+cu124 CUDA:0 (Tesla T4, 15095MiB)\n",
            "\u001b[34m\u001b[1mengine/trainer: \u001b[0magnostic_nms=False, amp=True, augment=False, auto_augment=randaugment, batch=16, bgr=0.0, box=7.5, cache=False, cfg=None, classes=None, close_mosaic=10, cls=0.5, conf=None, copy_paste=0.0, copy_paste_mode=flip, cos_lr=False, cutmix=0.0, data=/content/drive/MyDrive/OBD-HETTNT/data.yaml, degrees=0.0, deterministic=True, device=None, dfl=1.5, dnn=False, dropout=0.0, dynamic=False, embed=None, epochs=50, erasing=0.4, exist_ok=False, fliplr=0.5, flipud=0.0, format=torchscript, fraction=1.0, freeze=None, half=False, hsv_h=0.015, hsv_s=0.7, hsv_v=0.4, imgsz=640, int8=False, iou=0.7, keras=False, kobj=1.0, line_width=None, lr0=0.01, lrf=0.01, mask_ratio=4, max_det=300, mixup=0.0, mode=train, model=yolo11n.yaml, momentum=0.937, mosaic=1.0, multi_scale=False, name=train3, nbs=64, nms=False, opset=None, optimize=False, optimizer=auto, overlap_mask=True, patience=100, perspective=0.0, plots=True, pose=12.0, pretrained=yolo11n.pt, profile=False, project=None, rect=False, resume=False, retina_masks=False, save=True, save_conf=False, save_crop=False, save_dir=runs/detect/train3, save_frames=False, save_json=False, save_period=-1, save_txt=False, scale=0.5, seed=0, shear=0.0, show=False, show_boxes=True, show_conf=True, show_labels=True, simplify=True, single_cls=False, source=None, split=val, stream_buffer=False, task=detect, time=None, tracker=botsort.yaml, translate=0.1, val=True, verbose=True, vid_stride=1, visualize=False, warmup_bias_lr=0.1, warmup_epochs=3.0, warmup_momentum=0.8, weight_decay=0.0005, workers=8, workspace=None\n",
            "Overriding model.yaml nc=80 with nc=6\n",
            "\n",
            "                   from  n    params  module                                       arguments                     \n",
            "  0                  -1  1       464  ultralytics.nn.modules.conv.Conv             [3, 16, 3, 2]                 \n",
            "  1                  -1  1      4672  ultralytics.nn.modules.conv.Conv             [16, 32, 3, 2]                \n",
            "  2                  -1  1      6640  ultralytics.nn.modules.block.C3k2            [32, 64, 1, False, 0.25]      \n",
            "  3                  -1  1     36992  ultralytics.nn.modules.conv.Conv             [64, 64, 3, 2]                \n",
            "  4                  -1  1     26080  ultralytics.nn.modules.block.C3k2            [64, 128, 1, False, 0.25]     \n",
            "  5                  -1  1    147712  ultralytics.nn.modules.conv.Conv             [128, 128, 3, 2]              \n",
            "  6                  -1  1     87040  ultralytics.nn.modules.block.C3k2            [128, 128, 1, True]           \n",
            "  7                  -1  1    295424  ultralytics.nn.modules.conv.Conv             [128, 256, 3, 2]              \n",
            "  8                  -1  1    346112  ultralytics.nn.modules.block.C3k2            [256, 256, 1, True]           \n",
            "  9                  -1  1    164608  ultralytics.nn.modules.block.SPPF            [256, 256, 5]                 \n",
            " 10                  -1  1    249728  ultralytics.nn.modules.block.C2PSA           [256, 256, 1]                 \n",
            " 11                  -1  1         0  torch.nn.modules.upsampling.Upsample         [None, 2, 'nearest']          \n",
            " 12             [-1, 6]  1         0  ultralytics.nn.modules.conv.Concat           [1]                           \n",
            " 13                  -1  1    111296  ultralytics.nn.modules.block.C3k2            [384, 128, 1, False]          \n",
            " 14                  -1  1         0  torch.nn.modules.upsampling.Upsample         [None, 2, 'nearest']          \n",
            " 15             [-1, 4]  1         0  ultralytics.nn.modules.conv.Concat           [1]                           \n",
            " 16                  -1  1     32096  ultralytics.nn.modules.block.C3k2            [256, 64, 1, False]           \n",
            " 17                  -1  1     36992  ultralytics.nn.modules.conv.Conv             [64, 64, 3, 2]                \n",
            " 18            [-1, 13]  1         0  ultralytics.nn.modules.conv.Concat           [1]                           \n",
            " 19                  -1  1     86720  ultralytics.nn.modules.block.C3k2            [192, 128, 1, False]          \n",
            " 20                  -1  1    147712  ultralytics.nn.modules.conv.Conv             [128, 128, 3, 2]              \n",
            " 21            [-1, 10]  1         0  ultralytics.nn.modules.conv.Concat           [1]                           \n",
            " 22                  -1  1    378880  ultralytics.nn.modules.block.C3k2            [384, 256, 1, True]           \n",
            " 23        [16, 19, 22]  1    431842  ultralytics.nn.modules.head.Detect           [6, [64, 128, 256]]           \n",
            "YOLO11n summary: 181 layers, 2,591,010 parameters, 2,590,994 gradients, 6.4 GFLOPs\n",
            "\n",
            "Transferred 448/499 items from pretrained weights\n",
            "Freezing layer 'model.23.dfl.conv.weight'\n",
            "\u001b[34m\u001b[1mAMP: \u001b[0mrunning Automatic Mixed Precision (AMP) checks...\n",
            "\u001b[34m\u001b[1mAMP: \u001b[0mchecks passed ✅\n",
            "\u001b[34m\u001b[1mtrain: \u001b[0mFast image access ✅ (ping: 0.5±0.2 ms, read: 15.4±5.5 MB/s, size: 46.8 KB)\n"
          ]
        },
        {
          "output_type": "stream",
          "name": "stderr",
          "text": [
            "\u001b[34m\u001b[1mtrain: \u001b[0mScanning /content/drive/MyDrive/OBD-HETTNT/train/labels.cache... 155 images, 0 backgrounds, 0 corrupt: 100%|██████████| 155/155 [00:00<?, ?it/s]"
          ]
        },
        {
          "output_type": "stream",
          "name": "stdout",
          "text": [
            "\u001b[34m\u001b[1malbumentations: \u001b[0mBlur(p=0.01, blur_limit=(3, 7)), MedianBlur(p=0.01, blur_limit=(3, 7)), ToGray(p=0.01, method='weighted_average', num_output_channels=3), CLAHE(p=0.01, clip_limit=(1.0, 4.0), tile_grid_size=(8, 8))\n"
          ]
        },
        {
          "output_type": "stream",
          "name": "stderr",
          "text": [
            "\n"
          ]
        },
        {
          "output_type": "stream",
          "name": "stdout",
          "text": [
            "\u001b[34m\u001b[1mval: \u001b[0mFast image access ✅ (ping: 0.3±0.1 ms, read: 40.6±8.7 MB/s, size: 56.3 KB)\n"
          ]
        },
        {
          "output_type": "stream",
          "name": "stderr",
          "text": [
            "\u001b[34m\u001b[1mval: \u001b[0mScanning /content/drive/MyDrive/OBD-HETTNT/valid/labels.cache... 45 images, 0 backgrounds, 0 corrupt: 100%|██████████| 45/45 [00:00<?, ?it/s]\n"
          ]
        },
        {
          "output_type": "stream",
          "name": "stdout",
          "text": [
            "Plotting labels to runs/detect/train3/labels.jpg... \n",
            "\u001b[34m\u001b[1moptimizer:\u001b[0m 'optimizer=auto' found, ignoring 'lr0=0.01' and 'momentum=0.937' and determining best 'optimizer', 'lr0' and 'momentum' automatically... \n",
            "\u001b[34m\u001b[1moptimizer:\u001b[0m AdamW(lr=0.001, momentum=0.9) with parameter groups 81 weight(decay=0.0), 88 weight(decay=0.0005), 87 bias(decay=0.0)\n",
            "Image sizes 640 train, 640 val\n",
            "Using 2 dataloader workers\n",
            "Logging results to \u001b[1mruns/detect/train3\u001b[0m\n",
            "Starting training for 50 epochs...\n",
            "\n",
            "      Epoch    GPU_mem   box_loss   cls_loss   dfl_loss  Instances       Size\n"
          ]
        },
        {
          "output_type": "stream",
          "name": "stderr",
          "text": [
            "       1/50      3.31G      1.782      3.793       1.97         33        640: 100%|██████████| 10/10 [00:06<00:00,  1.65it/s]\n",
            "                 Class     Images  Instances      Box(P          R      mAP50  mAP50-95): 100%|██████████| 2/2 [00:00<00:00,  3.27it/s]"
          ]
        },
        {
          "output_type": "stream",
          "name": "stdout",
          "text": [
            "                   all         45         68     0.0343      0.562     0.0914     0.0527\n"
          ]
        },
        {
          "output_type": "stream",
          "name": "stderr",
          "text": [
            "\n"
          ]
        },
        {
          "output_type": "stream",
          "name": "stdout",
          "text": [
            "\n",
            "      Epoch    GPU_mem   box_loss   cls_loss   dfl_loss  Instances       Size\n"
          ]
        },
        {
          "output_type": "stream",
          "name": "stderr",
          "text": [
            "       2/50      3.31G      1.405      3.633      1.728         30        640: 100%|██████████| 10/10 [00:02<00:00,  3.74it/s]\n",
            "                 Class     Images  Instances      Box(P          R      mAP50  mAP50-95): 100%|██████████| 2/2 [00:00<00:00,  3.60it/s]"
          ]
        },
        {
          "output_type": "stream",
          "name": "stdout",
          "text": [
            "                   all         45         68     0.0511      0.585      0.151     0.0938\n"
          ]
        },
        {
          "output_type": "stream",
          "name": "stderr",
          "text": [
            "\n"
          ]
        },
        {
          "output_type": "stream",
          "name": "stdout",
          "text": [
            "\n",
            "      Epoch    GPU_mem   box_loss   cls_loss   dfl_loss  Instances       Size\n"
          ]
        },
        {
          "output_type": "stream",
          "name": "stderr",
          "text": [
            "       3/50      3.31G       1.42      3.468      1.684         28        640: 100%|██████████| 10/10 [00:02<00:00,  3.84it/s]\n",
            "                 Class     Images  Instances      Box(P          R      mAP50  mAP50-95): 100%|██████████| 2/2 [00:00<00:00,  3.82it/s]"
          ]
        },
        {
          "output_type": "stream",
          "name": "stdout",
          "text": [
            "                   all         45         68     0.0224       0.81      0.147      0.078\n"
          ]
        },
        {
          "output_type": "stream",
          "name": "stderr",
          "text": [
            "\n"
          ]
        },
        {
          "output_type": "stream",
          "name": "stdout",
          "text": [
            "\n",
            "      Epoch    GPU_mem   box_loss   cls_loss   dfl_loss  Instances       Size\n"
          ]
        },
        {
          "output_type": "stream",
          "name": "stderr",
          "text": [
            "       4/50      3.31G      1.361      3.265       1.64         44        640: 100%|██████████| 10/10 [00:03<00:00,  2.71it/s]\n",
            "                 Class     Images  Instances      Box(P          R      mAP50  mAP50-95): 100%|██████████| 2/2 [00:00<00:00,  2.73it/s]"
          ]
        },
        {
          "output_type": "stream",
          "name": "stdout",
          "text": [
            "                   all         45         68     0.0166      0.865       0.12     0.0595\n"
          ]
        },
        {
          "output_type": "stream",
          "name": "stderr",
          "text": [
            "\n"
          ]
        },
        {
          "output_type": "stream",
          "name": "stdout",
          "text": [
            "\n",
            "      Epoch    GPU_mem   box_loss   cls_loss   dfl_loss  Instances       Size\n"
          ]
        },
        {
          "output_type": "stream",
          "name": "stderr",
          "text": [
            "       5/50      3.31G      1.384      3.055      1.644         32        640: 100%|██████████| 10/10 [00:02<00:00,  3.84it/s]\n",
            "                 Class     Images  Instances      Box(P          R      mAP50  mAP50-95): 100%|██████████| 2/2 [00:00<00:00,  3.75it/s]"
          ]
        },
        {
          "output_type": "stream",
          "name": "stdout",
          "text": [
            "                   all         45         68     0.0113      0.915      0.276      0.153\n"
          ]
        },
        {
          "output_type": "stream",
          "name": "stderr",
          "text": [
            "\n"
          ]
        },
        {
          "output_type": "stream",
          "name": "stdout",
          "text": [
            "\n",
            "      Epoch    GPU_mem   box_loss   cls_loss   dfl_loss  Instances       Size\n"
          ]
        },
        {
          "output_type": "stream",
          "name": "stderr",
          "text": [
            "       6/50      3.31G       1.36      2.769      1.597         26        640: 100%|██████████| 10/10 [00:02<00:00,  3.71it/s]\n",
            "                 Class     Images  Instances      Box(P          R      mAP50  mAP50-95): 100%|██████████| 2/2 [00:00<00:00,  4.20it/s]\n"
          ]
        },
        {
          "output_type": "stream",
          "name": "stdout",
          "text": [
            "                   all         45         68      0.941     0.0764      0.322      0.171\n",
            "\n",
            "      Epoch    GPU_mem   box_loss   cls_loss   dfl_loss  Instances       Size\n"
          ]
        },
        {
          "output_type": "stream",
          "name": "stderr",
          "text": [
            "       7/50      3.31G      1.489      2.746      1.684         25        640: 100%|██████████| 10/10 [00:02<00:00,  3.99it/s]\n",
            "                 Class     Images  Instances      Box(P          R      mAP50  mAP50-95): 100%|██████████| 2/2 [00:00<00:00,  2.50it/s]"
          ]
        },
        {
          "output_type": "stream",
          "name": "stdout",
          "text": [
            "                   all         45         68      0.782      0.152       0.25      0.121\n"
          ]
        },
        {
          "output_type": "stream",
          "name": "stderr",
          "text": [
            "\n"
          ]
        },
        {
          "output_type": "stream",
          "name": "stdout",
          "text": [
            "\n",
            "      Epoch    GPU_mem   box_loss   cls_loss   dfl_loss  Instances       Size\n"
          ]
        },
        {
          "output_type": "stream",
          "name": "stderr",
          "text": [
            "       8/50      3.31G      1.421      2.545      1.612         32        640: 100%|██████████| 10/10 [00:03<00:00,  2.95it/s]\n",
            "                 Class     Images  Instances      Box(P          R      mAP50  mAP50-95): 100%|██████████| 2/2 [00:00<00:00,  2.97it/s]"
          ]
        },
        {
          "output_type": "stream",
          "name": "stdout",
          "text": [
            "                   all         45         68      0.638      0.194      0.254      0.109\n"
          ]
        },
        {
          "output_type": "stream",
          "name": "stderr",
          "text": [
            "\n"
          ]
        },
        {
          "output_type": "stream",
          "name": "stdout",
          "text": [
            "\n",
            "      Epoch    GPU_mem   box_loss   cls_loss   dfl_loss  Instances       Size\n"
          ]
        },
        {
          "output_type": "stream",
          "name": "stderr",
          "text": [
            "       9/50      3.31G       1.47      2.577      1.677         37        640: 100%|██████████| 10/10 [00:02<00:00,  4.18it/s]\n",
            "                 Class     Images  Instances      Box(P          R      mAP50  mAP50-95): 100%|██████████| 2/2 [00:00<00:00,  2.88it/s]"
          ]
        },
        {
          "output_type": "stream",
          "name": "stdout",
          "text": [
            "                   all         45         68      0.798      0.299      0.377      0.193\n"
          ]
        },
        {
          "output_type": "stream",
          "name": "stderr",
          "text": [
            "\n"
          ]
        },
        {
          "output_type": "stream",
          "name": "stdout",
          "text": [
            "\n",
            "      Epoch    GPU_mem   box_loss   cls_loss   dfl_loss  Instances       Size\n"
          ]
        },
        {
          "output_type": "stream",
          "name": "stderr",
          "text": [
            "      10/50      3.31G      1.438      2.433      1.647         42        640: 100%|██████████| 10/10 [00:02<00:00,  4.01it/s]\n",
            "                 Class     Images  Instances      Box(P          R      mAP50  mAP50-95): 100%|██████████| 2/2 [00:00<00:00,  4.07it/s]\n"
          ]
        },
        {
          "output_type": "stream",
          "name": "stdout",
          "text": [
            "                   all         45         68      0.556      0.365      0.448      0.232\n",
            "\n",
            "      Epoch    GPU_mem   box_loss   cls_loss   dfl_loss  Instances       Size\n"
          ]
        },
        {
          "output_type": "stream",
          "name": "stderr",
          "text": [
            "      11/50      3.31G      1.424       2.27      1.624         37        640: 100%|██████████| 10/10 [00:02<00:00,  3.37it/s]\n",
            "                 Class     Images  Instances      Box(P          R      mAP50  mAP50-95): 100%|██████████| 2/2 [00:01<00:00,  1.71it/s]"
          ]
        },
        {
          "output_type": "stream",
          "name": "stdout",
          "text": [
            "                   all         45         68      0.624      0.434      0.438      0.225\n"
          ]
        },
        {
          "output_type": "stream",
          "name": "stderr",
          "text": [
            "\n"
          ]
        },
        {
          "output_type": "stream",
          "name": "stdout",
          "text": [
            "\n",
            "      Epoch    GPU_mem   box_loss   cls_loss   dfl_loss  Instances       Size\n"
          ]
        },
        {
          "output_type": "stream",
          "name": "stderr",
          "text": [
            "      12/50      3.31G      1.354      2.109      1.588         24        640: 100%|██████████| 10/10 [00:02<00:00,  3.93it/s]\n",
            "                 Class     Images  Instances      Box(P          R      mAP50  mAP50-95): 100%|██████████| 2/2 [00:00<00:00,  3.28it/s]"
          ]
        },
        {
          "output_type": "stream",
          "name": "stdout",
          "text": [
            "                   all         45         68      0.698      0.413      0.488      0.257\n"
          ]
        },
        {
          "output_type": "stream",
          "name": "stderr",
          "text": [
            "\n"
          ]
        },
        {
          "output_type": "stream",
          "name": "stdout",
          "text": [
            "\n",
            "      Epoch    GPU_mem   box_loss   cls_loss   dfl_loss  Instances       Size\n"
          ]
        },
        {
          "output_type": "stream",
          "name": "stderr",
          "text": [
            "      13/50      3.31G       1.42      2.173      1.626         31        640: 100%|██████████| 10/10 [00:02<00:00,  4.23it/s]\n",
            "                 Class     Images  Instances      Box(P          R      mAP50  mAP50-95): 100%|██████████| 2/2 [00:00<00:00,  3.97it/s]"
          ]
        },
        {
          "output_type": "stream",
          "name": "stdout",
          "text": [
            "                   all         45         68      0.671      0.401      0.475      0.228\n"
          ]
        },
        {
          "output_type": "stream",
          "name": "stderr",
          "text": [
            "\n"
          ]
        },
        {
          "output_type": "stream",
          "name": "stdout",
          "text": [
            "\n",
            "      Epoch    GPU_mem   box_loss   cls_loss   dfl_loss  Instances       Size\n"
          ]
        },
        {
          "output_type": "stream",
          "name": "stderr",
          "text": [
            "      14/50      3.31G      1.354      2.034      1.616         32        640: 100%|██████████| 10/10 [00:02<00:00,  3.86it/s]\n",
            "                 Class     Images  Instances      Box(P          R      mAP50  mAP50-95): 100%|██████████| 2/2 [00:00<00:00,  4.22it/s]\n"
          ]
        },
        {
          "output_type": "stream",
          "name": "stdout",
          "text": [
            "                   all         45         68       0.53      0.491      0.484      0.224\n",
            "\n",
            "      Epoch    GPU_mem   box_loss   cls_loss   dfl_loss  Instances       Size\n"
          ]
        },
        {
          "output_type": "stream",
          "name": "stderr",
          "text": [
            "      15/50      3.31G      1.406      2.091      1.666         32        640: 100%|██████████| 10/10 [00:03<00:00,  2.71it/s]\n",
            "                 Class     Images  Instances      Box(P          R      mAP50  mAP50-95): 100%|██████████| 2/2 [00:00<00:00,  3.14it/s]"
          ]
        },
        {
          "output_type": "stream",
          "name": "stdout",
          "text": [
            "                   all         45         68      0.584      0.476      0.484      0.265\n"
          ]
        },
        {
          "output_type": "stream",
          "name": "stderr",
          "text": [
            "\n"
          ]
        },
        {
          "output_type": "stream",
          "name": "stdout",
          "text": [
            "\n",
            "      Epoch    GPU_mem   box_loss   cls_loss   dfl_loss  Instances       Size\n"
          ]
        },
        {
          "output_type": "stream",
          "name": "stderr",
          "text": [
            "      16/50      3.31G      1.352      1.976       1.62         27        640: 100%|██████████| 10/10 [00:02<00:00,  4.11it/s]\n",
            "                 Class     Images  Instances      Box(P          R      mAP50  mAP50-95): 100%|██████████| 2/2 [00:00<00:00,  3.83it/s]"
          ]
        },
        {
          "output_type": "stream",
          "name": "stdout",
          "text": [
            "                   all         45         68      0.512      0.496      0.452      0.247\n"
          ]
        },
        {
          "output_type": "stream",
          "name": "stderr",
          "text": [
            "\n"
          ]
        },
        {
          "output_type": "stream",
          "name": "stdout",
          "text": [
            "\n",
            "      Epoch    GPU_mem   box_loss   cls_loss   dfl_loss  Instances       Size\n"
          ]
        },
        {
          "output_type": "stream",
          "name": "stderr",
          "text": [
            "      17/50      3.31G      1.314      1.968      1.576         28        640: 100%|██████████| 10/10 [00:02<00:00,  4.22it/s]\n",
            "                 Class     Images  Instances      Box(P          R      mAP50  mAP50-95): 100%|██████████| 2/2 [00:00<00:00,  2.98it/s]"
          ]
        },
        {
          "output_type": "stream",
          "name": "stdout",
          "text": [
            "                   all         45         68       0.73      0.403      0.486      0.265\n"
          ]
        },
        {
          "output_type": "stream",
          "name": "stderr",
          "text": [
            "\n"
          ]
        },
        {
          "output_type": "stream",
          "name": "stdout",
          "text": [
            "\n",
            "      Epoch    GPU_mem   box_loss   cls_loss   dfl_loss  Instances       Size\n"
          ]
        },
        {
          "output_type": "stream",
          "name": "stderr",
          "text": [
            "      18/50      3.31G      1.306       1.89      1.544         35        640: 100%|██████████| 10/10 [00:02<00:00,  3.79it/s]\n",
            "                 Class     Images  Instances      Box(P          R      mAP50  mAP50-95): 100%|██████████| 2/2 [00:01<00:00,  1.99it/s]"
          ]
        },
        {
          "output_type": "stream",
          "name": "stdout",
          "text": [
            "                   all         45         68      0.611      0.503      0.516      0.306\n"
          ]
        },
        {
          "output_type": "stream",
          "name": "stderr",
          "text": [
            "\n"
          ]
        },
        {
          "output_type": "stream",
          "name": "stdout",
          "text": [
            "\n",
            "      Epoch    GPU_mem   box_loss   cls_loss   dfl_loss  Instances       Size\n"
          ]
        },
        {
          "output_type": "stream",
          "name": "stderr",
          "text": [
            "      19/50      3.31G      1.298      1.889      1.533         49        640: 100%|██████████| 10/10 [00:03<00:00,  3.19it/s]\n",
            "                 Class     Images  Instances      Box(P          R      mAP50  mAP50-95): 100%|██████████| 2/2 [00:00<00:00,  4.05it/s]"
          ]
        },
        {
          "output_type": "stream",
          "name": "stdout",
          "text": [
            "                   all         45         68      0.653      0.506       0.52      0.296\n"
          ]
        },
        {
          "output_type": "stream",
          "name": "stderr",
          "text": [
            "\n"
          ]
        },
        {
          "output_type": "stream",
          "name": "stdout",
          "text": [
            "\n",
            "      Epoch    GPU_mem   box_loss   cls_loss   dfl_loss  Instances       Size\n"
          ]
        },
        {
          "output_type": "stream",
          "name": "stderr",
          "text": [
            "      20/50      3.31G      1.285      1.864      1.574         27        640: 100%|██████████| 10/10 [00:02<00:00,  4.38it/s]\n",
            "                 Class     Images  Instances      Box(P          R      mAP50  mAP50-95): 100%|██████████| 2/2 [00:00<00:00,  2.56it/s]"
          ]
        },
        {
          "output_type": "stream",
          "name": "stdout",
          "text": [
            "                   all         45         68      0.546      0.535      0.477      0.278\n"
          ]
        },
        {
          "output_type": "stream",
          "name": "stderr",
          "text": [
            "\n"
          ]
        },
        {
          "output_type": "stream",
          "name": "stdout",
          "text": [
            "\n",
            "      Epoch    GPU_mem   box_loss   cls_loss   dfl_loss  Instances       Size\n"
          ]
        },
        {
          "output_type": "stream",
          "name": "stderr",
          "text": [
            "      21/50      3.31G      1.302      1.798      1.554         41        640: 100%|██████████| 10/10 [00:02<00:00,  3.86it/s]\n",
            "                 Class     Images  Instances      Box(P          R      mAP50  mAP50-95): 100%|██████████| 2/2 [00:00<00:00,  2.42it/s]"
          ]
        },
        {
          "output_type": "stream",
          "name": "stdout",
          "text": [
            "                   all         45         68      0.525      0.485      0.494      0.296\n"
          ]
        },
        {
          "output_type": "stream",
          "name": "stderr",
          "text": [
            "\n"
          ]
        },
        {
          "output_type": "stream",
          "name": "stdout",
          "text": [
            "\n",
            "      Epoch    GPU_mem   box_loss   cls_loss   dfl_loss  Instances       Size\n"
          ]
        },
        {
          "output_type": "stream",
          "name": "stderr",
          "text": [
            "      22/50      3.31G      1.277      1.814      1.559         34        640: 100%|██████████| 10/10 [00:03<00:00,  2.82it/s]\n",
            "                 Class     Images  Instances      Box(P          R      mAP50  mAP50-95): 100%|██████████| 2/2 [00:01<00:00,  1.95it/s]"
          ]
        },
        {
          "output_type": "stream",
          "name": "stdout",
          "text": [
            "                   all         45         68      0.658      0.491      0.513      0.281\n"
          ]
        },
        {
          "output_type": "stream",
          "name": "stderr",
          "text": [
            "\n"
          ]
        },
        {
          "output_type": "stream",
          "name": "stdout",
          "text": [
            "\n",
            "      Epoch    GPU_mem   box_loss   cls_loss   dfl_loss  Instances       Size\n"
          ]
        },
        {
          "output_type": "stream",
          "name": "stderr",
          "text": [
            "      23/50      3.31G      1.266      1.746      1.529         29        640: 100%|██████████| 10/10 [00:02<00:00,  4.07it/s]\n",
            "                 Class     Images  Instances      Box(P          R      mAP50  mAP50-95): 100%|██████████| 2/2 [00:00<00:00,  4.03it/s]"
          ]
        },
        {
          "output_type": "stream",
          "name": "stdout",
          "text": [
            "                   all         45         68      0.717      0.523      0.564      0.279\n"
          ]
        },
        {
          "output_type": "stream",
          "name": "stderr",
          "text": [
            "\n"
          ]
        },
        {
          "output_type": "stream",
          "name": "stdout",
          "text": [
            "\n",
            "      Epoch    GPU_mem   box_loss   cls_loss   dfl_loss  Instances       Size\n"
          ]
        },
        {
          "output_type": "stream",
          "name": "stderr",
          "text": [
            "      24/50      3.31G      1.262       1.71      1.517         33        640: 100%|██████████| 10/10 [00:02<00:00,  3.96it/s]\n",
            "                 Class     Images  Instances      Box(P          R      mAP50  mAP50-95): 100%|██████████| 2/2 [00:00<00:00,  4.22it/s]\n"
          ]
        },
        {
          "output_type": "stream",
          "name": "stdout",
          "text": [
            "                   all         45         68      0.553       0.58      0.502      0.255\n",
            "\n",
            "      Epoch    GPU_mem   box_loss   cls_loss   dfl_loss  Instances       Size\n"
          ]
        },
        {
          "output_type": "stream",
          "name": "stderr",
          "text": [
            "      25/50      3.31G      1.281      1.756      1.521         32        640: 100%|██████████| 10/10 [00:02<00:00,  4.01it/s]\n",
            "                 Class     Images  Instances      Box(P          R      mAP50  mAP50-95): 100%|██████████| 2/2 [00:00<00:00,  3.66it/s]"
          ]
        },
        {
          "output_type": "stream",
          "name": "stdout",
          "text": [
            "                   all         45         68       0.59       0.48      0.469      0.255\n"
          ]
        },
        {
          "output_type": "stream",
          "name": "stderr",
          "text": [
            "\n"
          ]
        },
        {
          "output_type": "stream",
          "name": "stdout",
          "text": [
            "\n",
            "      Epoch    GPU_mem   box_loss   cls_loss   dfl_loss  Instances       Size\n"
          ]
        },
        {
          "output_type": "stream",
          "name": "stderr",
          "text": [
            "      26/50      3.31G      1.197       1.68      1.493         36        640: 100%|██████████| 10/10 [00:03<00:00,  2.66it/s]\n",
            "                 Class     Images  Instances      Box(P          R      mAP50  mAP50-95): 100%|██████████| 2/2 [00:00<00:00,  3.62it/s]"
          ]
        },
        {
          "output_type": "stream",
          "name": "stdout",
          "text": [
            "                   all         45         68      0.667       0.63      0.653      0.391\n"
          ]
        },
        {
          "output_type": "stream",
          "name": "stderr",
          "text": [
            "\n"
          ]
        },
        {
          "output_type": "stream",
          "name": "stdout",
          "text": [
            "\n",
            "      Epoch    GPU_mem   box_loss   cls_loss   dfl_loss  Instances       Size\n"
          ]
        },
        {
          "output_type": "stream",
          "name": "stderr",
          "text": [
            "      27/50      3.31G      1.235      1.632      1.486         37        640: 100%|██████████| 10/10 [00:02<00:00,  4.11it/s]\n",
            "                 Class     Images  Instances      Box(P          R      mAP50  mAP50-95): 100%|██████████| 2/2 [00:00<00:00,  3.38it/s]"
          ]
        },
        {
          "output_type": "stream",
          "name": "stdout",
          "text": [
            "                   all         45         68      0.705      0.628      0.621      0.354\n"
          ]
        },
        {
          "output_type": "stream",
          "name": "stderr",
          "text": [
            "\n"
          ]
        },
        {
          "output_type": "stream",
          "name": "stdout",
          "text": [
            "\n",
            "      Epoch    GPU_mem   box_loss   cls_loss   dfl_loss  Instances       Size\n"
          ]
        },
        {
          "output_type": "stream",
          "name": "stderr",
          "text": [
            "      28/50      3.31G      1.179      1.579      1.477         26        640: 100%|██████████| 10/10 [00:02<00:00,  4.19it/s]\n",
            "                 Class     Images  Instances      Box(P          R      mAP50  mAP50-95): 100%|██████████| 2/2 [00:00<00:00,  4.11it/s]"
          ]
        },
        {
          "output_type": "stream",
          "name": "stdout",
          "text": [
            "                   all         45         68      0.763      0.614      0.666      0.409\n"
          ]
        },
        {
          "output_type": "stream",
          "name": "stderr",
          "text": [
            "\n"
          ]
        },
        {
          "output_type": "stream",
          "name": "stdout",
          "text": [
            "\n",
            "      Epoch    GPU_mem   box_loss   cls_loss   dfl_loss  Instances       Size\n"
          ]
        },
        {
          "output_type": "stream",
          "name": "stderr",
          "text": [
            "      29/50      3.31G      1.176      1.533       1.43         26        640: 100%|██████████| 10/10 [00:03<00:00,  3.15it/s]\n",
            "                 Class     Images  Instances      Box(P          R      mAP50  mAP50-95): 100%|██████████| 2/2 [00:00<00:00,  2.04it/s]"
          ]
        },
        {
          "output_type": "stream",
          "name": "stdout",
          "text": [
            "                   all         45         68       0.72      0.704      0.681      0.425\n"
          ]
        },
        {
          "output_type": "stream",
          "name": "stderr",
          "text": [
            "\n"
          ]
        },
        {
          "output_type": "stream",
          "name": "stdout",
          "text": [
            "\n",
            "      Epoch    GPU_mem   box_loss   cls_loss   dfl_loss  Instances       Size\n"
          ]
        },
        {
          "output_type": "stream",
          "name": "stderr",
          "text": [
            "      30/50      3.31G      1.125      1.466      1.426         34        640: 100%|██████████| 10/10 [00:03<00:00,  3.28it/s]\n",
            "                 Class     Images  Instances      Box(P          R      mAP50  mAP50-95): 100%|██████████| 2/2 [00:00<00:00,  2.98it/s]"
          ]
        },
        {
          "output_type": "stream",
          "name": "stdout",
          "text": [
            "                   all         45         68      0.764      0.641      0.673      0.416\n"
          ]
        },
        {
          "output_type": "stream",
          "name": "stderr",
          "text": [
            "\n"
          ]
        },
        {
          "output_type": "stream",
          "name": "stdout",
          "text": [
            "\n",
            "      Epoch    GPU_mem   box_loss   cls_loss   dfl_loss  Instances       Size\n"
          ]
        },
        {
          "output_type": "stream",
          "name": "stderr",
          "text": [
            "      31/50      3.31G      1.147      1.481      1.434         32        640: 100%|██████████| 10/10 [00:02<00:00,  4.01it/s]\n",
            "                 Class     Images  Instances      Box(P          R      mAP50  mAP50-95): 100%|██████████| 2/2 [00:00<00:00,  3.47it/s]"
          ]
        },
        {
          "output_type": "stream",
          "name": "stdout",
          "text": [
            "                   all         45         68      0.765      0.614      0.646      0.386\n"
          ]
        },
        {
          "output_type": "stream",
          "name": "stderr",
          "text": [
            "\n"
          ]
        },
        {
          "output_type": "stream",
          "name": "stdout",
          "text": [
            "\n",
            "      Epoch    GPU_mem   box_loss   cls_loss   dfl_loss  Instances       Size\n"
          ]
        },
        {
          "output_type": "stream",
          "name": "stderr",
          "text": [
            "      32/50      3.31G      1.127      1.526      1.429         26        640: 100%|██████████| 10/10 [00:02<00:00,  4.47it/s]\n",
            "                 Class     Images  Instances      Box(P          R      mAP50  mAP50-95): 100%|██████████| 2/2 [00:00<00:00,  2.30it/s]"
          ]
        },
        {
          "output_type": "stream",
          "name": "stdout",
          "text": [
            "                   all         45         68      0.781      0.625      0.688       0.39\n"
          ]
        },
        {
          "output_type": "stream",
          "name": "stderr",
          "text": [
            "\n"
          ]
        },
        {
          "output_type": "stream",
          "name": "stdout",
          "text": [
            "\n",
            "      Epoch    GPU_mem   box_loss   cls_loss   dfl_loss  Instances       Size\n"
          ]
        },
        {
          "output_type": "stream",
          "name": "stderr",
          "text": [
            "      33/50      3.31G      1.095      1.485      1.419         36        640: 100%|██████████| 10/10 [00:03<00:00,  2.82it/s]\n",
            "                 Class     Images  Instances      Box(P          R      mAP50  mAP50-95): 100%|██████████| 2/2 [00:00<00:00,  2.21it/s]"
          ]
        },
        {
          "output_type": "stream",
          "name": "stdout",
          "text": [
            "                   all         45         68      0.822      0.644      0.704      0.394\n"
          ]
        },
        {
          "output_type": "stream",
          "name": "stderr",
          "text": [
            "\n"
          ]
        },
        {
          "output_type": "stream",
          "name": "stdout",
          "text": [
            "\n",
            "      Epoch    GPU_mem   box_loss   cls_loss   dfl_loss  Instances       Size\n"
          ]
        },
        {
          "output_type": "stream",
          "name": "stderr",
          "text": [
            "      34/50      3.31G       1.06      1.384       1.38         37        640: 100%|██████████| 10/10 [00:02<00:00,  3.98it/s]\n",
            "                 Class     Images  Instances      Box(P          R      mAP50  mAP50-95): 100%|██████████| 2/2 [00:00<00:00,  4.94it/s]"
          ]
        },
        {
          "output_type": "stream",
          "name": "stdout",
          "text": [
            "                   all         45         68      0.823      0.594      0.667      0.377\n"
          ]
        },
        {
          "output_type": "stream",
          "name": "stderr",
          "text": [
            "\n"
          ]
        },
        {
          "output_type": "stream",
          "name": "stdout",
          "text": [
            "\n",
            "      Epoch    GPU_mem   box_loss   cls_loss   dfl_loss  Instances       Size\n"
          ]
        },
        {
          "output_type": "stream",
          "name": "stderr",
          "text": [
            "      35/50      3.31G      1.098      1.474      1.399         27        640: 100%|██████████| 10/10 [00:02<00:00,  4.05it/s]\n",
            "                 Class     Images  Instances      Box(P          R      mAP50  mAP50-95): 100%|██████████| 2/2 [00:00<00:00,  3.80it/s]"
          ]
        },
        {
          "output_type": "stream",
          "name": "stdout",
          "text": [
            "                   all         45         68        0.7      0.598      0.637      0.365\n"
          ]
        },
        {
          "output_type": "stream",
          "name": "stderr",
          "text": [
            "\n"
          ]
        },
        {
          "output_type": "stream",
          "name": "stdout",
          "text": [
            "\n",
            "      Epoch    GPU_mem   box_loss   cls_loss   dfl_loss  Instances       Size\n"
          ]
        },
        {
          "output_type": "stream",
          "name": "stderr",
          "text": [
            "      36/50      3.31G      1.156      1.488      1.415         36        640: 100%|██████████| 10/10 [00:02<00:00,  3.78it/s]\n",
            "                 Class     Images  Instances      Box(P          R      mAP50  mAP50-95): 100%|██████████| 2/2 [00:00<00:00,  2.69it/s]\n"
          ]
        },
        {
          "output_type": "stream",
          "name": "stdout",
          "text": [
            "                   all         45         68      0.688      0.649      0.632      0.374\n",
            "\n",
            "      Epoch    GPU_mem   box_loss   cls_loss   dfl_loss  Instances       Size\n"
          ]
        },
        {
          "output_type": "stream",
          "name": "stderr",
          "text": [
            "      37/50      3.31G      1.031      1.307      1.346         35        640: 100%|██████████| 10/10 [00:03<00:00,  2.89it/s]\n",
            "                 Class     Images  Instances      Box(P          R      mAP50  mAP50-95): 100%|██████████| 2/2 [00:00<00:00,  3.50it/s]\n"
          ]
        },
        {
          "output_type": "stream",
          "name": "stdout",
          "text": [
            "                   all         45         68      0.774      0.672      0.697      0.424\n",
            "\n",
            "      Epoch    GPU_mem   box_loss   cls_loss   dfl_loss  Instances       Size\n"
          ]
        },
        {
          "output_type": "stream",
          "name": "stderr",
          "text": [
            "      38/50      3.31G      1.071      1.354      1.356         36        640: 100%|██████████| 10/10 [00:02<00:00,  4.05it/s]\n",
            "                 Class     Images  Instances      Box(P          R      mAP50  mAP50-95): 100%|██████████| 2/2 [00:00<00:00,  3.19it/s]"
          ]
        },
        {
          "output_type": "stream",
          "name": "stdout",
          "text": [
            "                   all         45         68      0.571       0.73       0.71       0.42\n"
          ]
        },
        {
          "output_type": "stream",
          "name": "stderr",
          "text": [
            "\n"
          ]
        },
        {
          "output_type": "stream",
          "name": "stdout",
          "text": [
            "\n",
            "      Epoch    GPU_mem   box_loss   cls_loss   dfl_loss  Instances       Size\n"
          ]
        },
        {
          "output_type": "stream",
          "name": "stderr",
          "text": [
            "      39/50      3.31G      1.042      1.312      1.352         44        640: 100%|██████████| 10/10 [00:02<00:00,  4.13it/s]\n",
            "                 Class     Images  Instances      Box(P          R      mAP50  mAP50-95): 100%|██████████| 2/2 [00:00<00:00,  3.02it/s]"
          ]
        },
        {
          "output_type": "stream",
          "name": "stdout",
          "text": [
            "                   all         45         68       0.81      0.673      0.719      0.416\n"
          ]
        },
        {
          "output_type": "stream",
          "name": "stderr",
          "text": [
            "\n"
          ]
        },
        {
          "output_type": "stream",
          "name": "stdout",
          "text": [
            "\n",
            "      Epoch    GPU_mem   box_loss   cls_loss   dfl_loss  Instances       Size\n"
          ]
        },
        {
          "output_type": "stream",
          "name": "stderr",
          "text": [
            "      40/50      3.31G      1.017      1.348      1.353         31        640: 100%|██████████| 10/10 [00:03<00:00,  2.96it/s]\n",
            "                 Class     Images  Instances      Box(P          R      mAP50  mAP50-95): 100%|██████████| 2/2 [00:01<00:00,  1.57it/s]"
          ]
        },
        {
          "output_type": "stream",
          "name": "stdout",
          "text": [
            "                   all         45         68      0.799      0.674      0.721      0.427\n"
          ]
        },
        {
          "output_type": "stream",
          "name": "stderr",
          "text": [
            "\n"
          ]
        },
        {
          "output_type": "stream",
          "name": "stdout",
          "text": [
            "Closing dataloader mosaic\n",
            "\u001b[34m\u001b[1malbumentations: \u001b[0mBlur(p=0.01, blur_limit=(3, 7)), MedianBlur(p=0.01, blur_limit=(3, 7)), ToGray(p=0.01, method='weighted_average', num_output_channels=3), CLAHE(p=0.01, clip_limit=(1.0, 4.0), tile_grid_size=(8, 8))\n",
            "\n",
            "      Epoch    GPU_mem   box_loss   cls_loss   dfl_loss  Instances       Size\n"
          ]
        },
        {
          "output_type": "stream",
          "name": "stderr",
          "text": [
            "      41/50      3.41G     0.9647      1.484      1.348         12        640: 100%|██████████| 10/10 [00:04<00:00,  2.36it/s]\n",
            "                 Class     Images  Instances      Box(P          R      mAP50  mAP50-95): 100%|██████████| 2/2 [00:00<00:00,  2.94it/s]"
          ]
        },
        {
          "output_type": "stream",
          "name": "stdout",
          "text": [
            "                   all         45         68      0.804      0.687       0.71        0.4\n"
          ]
        },
        {
          "output_type": "stream",
          "name": "stderr",
          "text": [
            "\n"
          ]
        },
        {
          "output_type": "stream",
          "name": "stdout",
          "text": [
            "\n",
            "      Epoch    GPU_mem   box_loss   cls_loss   dfl_loss  Instances       Size\n"
          ]
        },
        {
          "output_type": "stream",
          "name": "stderr",
          "text": [
            "      42/50      3.41G      0.893      1.375      1.276         16        640: 100%|██████████| 10/10 [00:02<00:00,  4.06it/s]\n",
            "                 Class     Images  Instances      Box(P          R      mAP50  mAP50-95): 100%|██████████| 2/2 [00:00<00:00,  4.76it/s]"
          ]
        },
        {
          "output_type": "stream",
          "name": "stdout",
          "text": [
            "                   all         45         68       0.85      0.616       0.67      0.407\n"
          ]
        },
        {
          "output_type": "stream",
          "name": "stderr",
          "text": [
            "\n"
          ]
        },
        {
          "output_type": "stream",
          "name": "stdout",
          "text": [
            "\n",
            "      Epoch    GPU_mem   box_loss   cls_loss   dfl_loss  Instances       Size\n"
          ]
        },
        {
          "output_type": "stream",
          "name": "stderr",
          "text": [
            "      43/50      3.41G     0.9146      1.353      1.305         21        640: 100%|██████████| 10/10 [00:03<00:00,  2.81it/s]\n",
            "                 Class     Images  Instances      Box(P          R      mAP50  mAP50-95): 100%|██████████| 2/2 [00:01<00:00,  1.83it/s]"
          ]
        },
        {
          "output_type": "stream",
          "name": "stdout",
          "text": [
            "                   all         45         68      0.833      0.607       0.65      0.409\n"
          ]
        },
        {
          "output_type": "stream",
          "name": "stderr",
          "text": [
            "\n"
          ]
        },
        {
          "output_type": "stream",
          "name": "stdout",
          "text": [
            "\n",
            "      Epoch    GPU_mem   box_loss   cls_loss   dfl_loss  Instances       Size\n"
          ]
        },
        {
          "output_type": "stream",
          "name": "stderr",
          "text": [
            "      44/50      3.41G     0.9174      1.356      1.304         20        640: 100%|██████████| 10/10 [00:03<00:00,  2.82it/s]\n",
            "                 Class     Images  Instances      Box(P          R      mAP50  mAP50-95): 100%|██████████| 2/2 [00:00<00:00,  4.00it/s]"
          ]
        },
        {
          "output_type": "stream",
          "name": "stdout",
          "text": [
            "                   all         45         68      0.795      0.605      0.639      0.399\n"
          ]
        },
        {
          "output_type": "stream",
          "name": "stderr",
          "text": [
            "\n"
          ]
        },
        {
          "output_type": "stream",
          "name": "stdout",
          "text": [
            "\n",
            "      Epoch    GPU_mem   box_loss   cls_loss   dfl_loss  Instances       Size\n"
          ]
        },
        {
          "output_type": "stream",
          "name": "stderr",
          "text": [
            "      45/50      3.41G     0.8592       1.31      1.268         19        640: 100%|██████████| 10/10 [00:02<00:00,  4.17it/s]\n",
            "                 Class     Images  Instances      Box(P          R      mAP50  mAP50-95): 100%|██████████| 2/2 [00:00<00:00,  3.95it/s]\n"
          ]
        },
        {
          "output_type": "stream",
          "name": "stdout",
          "text": [
            "                   all         45         68      0.823      0.572      0.669      0.418\n",
            "\n",
            "      Epoch    GPU_mem   box_loss   cls_loss   dfl_loss  Instances       Size\n"
          ]
        },
        {
          "output_type": "stream",
          "name": "stderr",
          "text": [
            "      46/50      3.41G     0.8732      1.336      1.312         21        640: 100%|██████████| 10/10 [00:02<00:00,  4.23it/s]\n",
            "                 Class     Images  Instances      Box(P          R      mAP50  mAP50-95): 100%|██████████| 2/2 [00:00<00:00,  3.58it/s]\n"
          ]
        },
        {
          "output_type": "stream",
          "name": "stdout",
          "text": [
            "                   all         45         68      0.843      0.575      0.713      0.444\n",
            "\n",
            "      Epoch    GPU_mem   box_loss   cls_loss   dfl_loss  Instances       Size\n"
          ]
        },
        {
          "output_type": "stream",
          "name": "stderr",
          "text": [
            "      47/50      3.41G     0.8596      1.247      1.265         19        640: 100%|██████████| 10/10 [00:03<00:00,  3.04it/s]\n",
            "                 Class     Images  Instances      Box(P          R      mAP50  mAP50-95): 100%|██████████| 2/2 [00:00<00:00,  2.28it/s]\n"
          ]
        },
        {
          "output_type": "stream",
          "name": "stdout",
          "text": [
            "                   all         45         68      0.868      0.573      0.707      0.424\n",
            "\n",
            "      Epoch    GPU_mem   box_loss   cls_loss   dfl_loss  Instances       Size\n"
          ]
        },
        {
          "output_type": "stream",
          "name": "stderr",
          "text": [
            "      48/50      3.41G     0.8619      1.292      1.286         14        640: 100%|██████████| 10/10 [00:02<00:00,  4.17it/s]\n",
            "                 Class     Images  Instances      Box(P          R      mAP50  mAP50-95): 100%|██████████| 2/2 [00:00<00:00,  4.16it/s]\n"
          ]
        },
        {
          "output_type": "stream",
          "name": "stdout",
          "text": [
            "                   all         45         68      0.797      0.656      0.716      0.433\n",
            "\n",
            "      Epoch    GPU_mem   box_loss   cls_loss   dfl_loss  Instances       Size\n"
          ]
        },
        {
          "output_type": "stream",
          "name": "stderr",
          "text": [
            "      49/50      3.41G      0.789      1.234      1.223         18        640: 100%|██████████| 10/10 [00:02<00:00,  3.86it/s]\n",
            "                 Class     Images  Instances      Box(P          R      mAP50  mAP50-95): 100%|██████████| 2/2 [00:00<00:00,  3.76it/s]\n"
          ]
        },
        {
          "output_type": "stream",
          "name": "stdout",
          "text": [
            "                   all         45         68      0.783      0.706      0.717      0.427\n",
            "\n",
            "      Epoch    GPU_mem   box_loss   cls_loss   dfl_loss  Instances       Size\n"
          ]
        },
        {
          "output_type": "stream",
          "name": "stderr",
          "text": [
            "      50/50      3.41G     0.8036      1.263      1.268         12        640: 100%|██████████| 10/10 [00:02<00:00,  4.22it/s]\n",
            "                 Class     Images  Instances      Box(P          R      mAP50  mAP50-95): 100%|██████████| 2/2 [00:00<00:00,  4.40it/s]"
          ]
        },
        {
          "output_type": "stream",
          "name": "stdout",
          "text": [
            "                   all         45         68      0.789      0.719      0.717      0.437\n"
          ]
        },
        {
          "output_type": "stream",
          "name": "stderr",
          "text": [
            "\n"
          ]
        },
        {
          "output_type": "stream",
          "name": "stdout",
          "text": [
            "\n",
            "50 epochs completed in 0.057 hours.\n",
            "Optimizer stripped from runs/detect/train3/weights/last.pt, 5.5MB\n",
            "Optimizer stripped from runs/detect/train3/weights/best.pt, 5.5MB\n",
            "\n",
            "Validating runs/detect/train3/weights/best.pt...\n",
            "Ultralytics 8.3.175 🚀 Python-3.11.13 torch-2.6.0+cu124 CUDA:0 (Tesla T4, 15095MiB)\n",
            "YOLO11n summary (fused): 100 layers, 2,583,322 parameters, 0 gradients, 6.3 GFLOPs\n"
          ]
        },
        {
          "output_type": "stream",
          "name": "stderr",
          "text": [
            "                 Class     Images  Instances      Box(P          R      mAP50  mAP50-95): 100%|██████████| 2/2 [00:00<00:00,  2.14it/s]\n"
          ]
        },
        {
          "output_type": "stream",
          "name": "stdout",
          "text": [
            "                   all         45         68      0.843      0.575      0.712      0.444\n",
            "      African Armyworm         16         21      0.901      0.857      0.919      0.628\n",
            "          bean beetles          6          6          1      0.557      0.942      0.542\n",
            "         cowpea aphids          6         10      0.695        0.7      0.806      0.459\n",
            "         fall armyworm          1          1          1          0     0.0711     0.0497\n",
            "          maize weevil          7          7      0.717      0.727       0.75      0.621\n",
            "           white flies          9         23      0.748      0.609      0.785      0.364\n",
            "Speed: 0.4ms preprocess, 3.7ms inference, 0.0ms loss, 4.4ms postprocess per image\n",
            "Results saved to \u001b[1mruns/detect/train3\u001b[0m\n"
          ]
        },
        {
          "output_type": "execute_result",
          "data": {
            "text/plain": [
              "ultralytics.utils.metrics.DetMetrics object with attributes:\n",
              "\n",
              "ap_class_index: array([0, 1, 2, 3, 4, 5])\n",
              "box: ultralytics.utils.metrics.Metric object\n",
              "confusion_matrix: <ultralytics.utils.metrics.ConfusionMatrix object at 0x7c259a1cba90>\n",
              "curves: ['Precision-Recall(B)', 'F1-Confidence(B)', 'Precision-Confidence(B)', 'Recall-Confidence(B)']\n",
              "curves_results: [[array([          0,    0.001001,    0.002002,    0.003003,    0.004004,    0.005005,    0.006006,    0.007007,    0.008008,    0.009009,     0.01001,    0.011011,    0.012012,    0.013013,    0.014014,    0.015015,    0.016016,    0.017017,    0.018018,    0.019019,     0.02002,    0.021021,    0.022022,    0.023023,\n",
              "          0.024024,    0.025025,    0.026026,    0.027027,    0.028028,    0.029029,     0.03003,    0.031031,    0.032032,    0.033033,    0.034034,    0.035035,    0.036036,    0.037037,    0.038038,    0.039039,     0.04004,    0.041041,    0.042042,    0.043043,    0.044044,    0.045045,    0.046046,    0.047047,\n",
              "          0.048048,    0.049049,     0.05005,    0.051051,    0.052052,    0.053053,    0.054054,    0.055055,    0.056056,    0.057057,    0.058058,    0.059059,     0.06006,    0.061061,    0.062062,    0.063063,    0.064064,    0.065065,    0.066066,    0.067067,    0.068068,    0.069069,     0.07007,    0.071071,\n",
              "          0.072072,    0.073073,    0.074074,    0.075075,    0.076076,    0.077077,    0.078078,    0.079079,     0.08008,    0.081081,    0.082082,    0.083083,    0.084084,    0.085085,    0.086086,    0.087087,    0.088088,    0.089089,     0.09009,    0.091091,    0.092092,    0.093093,    0.094094,    0.095095,\n",
              "          0.096096,    0.097097,    0.098098,    0.099099,      0.1001,      0.1011,      0.1021,      0.1031,      0.1041,     0.10511,     0.10611,     0.10711,     0.10811,     0.10911,     0.11011,     0.11111,     0.11211,     0.11311,     0.11411,     0.11512,     0.11612,     0.11712,     0.11812,     0.11912,\n",
              "           0.12012,     0.12112,     0.12212,     0.12312,     0.12412,     0.12513,     0.12613,     0.12713,     0.12813,     0.12913,     0.13013,     0.13113,     0.13213,     0.13313,     0.13413,     0.13514,     0.13614,     0.13714,     0.13814,     0.13914,     0.14014,     0.14114,     0.14214,     0.14314,\n",
              "           0.14414,     0.14515,     0.14615,     0.14715,     0.14815,     0.14915,     0.15015,     0.15115,     0.15215,     0.15315,     0.15415,     0.15516,     0.15616,     0.15716,     0.15816,     0.15916,     0.16016,     0.16116,     0.16216,     0.16316,     0.16416,     0.16517,     0.16617,     0.16717,\n",
              "           0.16817,     0.16917,     0.17017,     0.17117,     0.17217,     0.17317,     0.17417,     0.17518,     0.17618,     0.17718,     0.17818,     0.17918,     0.18018,     0.18118,     0.18218,     0.18318,     0.18418,     0.18519,     0.18619,     0.18719,     0.18819,     0.18919,     0.19019,     0.19119,\n",
              "           0.19219,     0.19319,     0.19419,      0.1952,      0.1962,      0.1972,      0.1982,      0.1992,      0.2002,      0.2012,      0.2022,      0.2032,      0.2042,     0.20521,     0.20621,     0.20721,     0.20821,     0.20921,     0.21021,     0.21121,     0.21221,     0.21321,     0.21421,     0.21522,\n",
              "           0.21622,     0.21722,     0.21822,     0.21922,     0.22022,     0.22122,     0.22222,     0.22322,     0.22422,     0.22523,     0.22623,     0.22723,     0.22823,     0.22923,     0.23023,     0.23123,     0.23223,     0.23323,     0.23423,     0.23524,     0.23624,     0.23724,     0.23824,     0.23924,\n",
              "           0.24024,     0.24124,     0.24224,     0.24324,     0.24424,     0.24525,     0.24625,     0.24725,     0.24825,     0.24925,     0.25025,     0.25125,     0.25225,     0.25325,     0.25425,     0.25526,     0.25626,     0.25726,     0.25826,     0.25926,     0.26026,     0.26126,     0.26226,     0.26326,\n",
              "           0.26426,     0.26527,     0.26627,     0.26727,     0.26827,     0.26927,     0.27027,     0.27127,     0.27227,     0.27327,     0.27427,     0.27528,     0.27628,     0.27728,     0.27828,     0.27928,     0.28028,     0.28128,     0.28228,     0.28328,     0.28428,     0.28529,     0.28629,     0.28729,\n",
              "           0.28829,     0.28929,     0.29029,     0.29129,     0.29229,     0.29329,     0.29429,      0.2953,      0.2963,      0.2973,      0.2983,      0.2993,      0.3003,      0.3013,      0.3023,      0.3033,      0.3043,     0.30531,     0.30631,     0.30731,     0.30831,     0.30931,     0.31031,     0.31131,\n",
              "           0.31231,     0.31331,     0.31431,     0.31532,     0.31632,     0.31732,     0.31832,     0.31932,     0.32032,     0.32132,     0.32232,     0.32332,     0.32432,     0.32533,     0.32633,     0.32733,     0.32833,     0.32933,     0.33033,     0.33133,     0.33233,     0.33333,     0.33433,     0.33534,\n",
              "           0.33634,     0.33734,     0.33834,     0.33934,     0.34034,     0.34134,     0.34234,     0.34334,     0.34434,     0.34535,     0.34635,     0.34735,     0.34835,     0.34935,     0.35035,     0.35135,     0.35235,     0.35335,     0.35435,     0.35536,     0.35636,     0.35736,     0.35836,     0.35936,\n",
              "           0.36036,     0.36136,     0.36236,     0.36336,     0.36436,     0.36537,     0.36637,     0.36737,     0.36837,     0.36937,     0.37037,     0.37137,     0.37237,     0.37337,     0.37437,     0.37538,     0.37638,     0.37738,     0.37838,     0.37938,     0.38038,     0.38138,     0.38238,     0.38338,\n",
              "           0.38438,     0.38539,     0.38639,     0.38739,     0.38839,     0.38939,     0.39039,     0.39139,     0.39239,     0.39339,     0.39439,      0.3954,      0.3964,      0.3974,      0.3984,      0.3994,      0.4004,      0.4014,      0.4024,      0.4034,      0.4044,     0.40541,     0.40641,     0.40741,\n",
              "           0.40841,     0.40941,     0.41041,     0.41141,     0.41241,     0.41341,     0.41441,     0.41542,     0.41642,     0.41742,     0.41842,     0.41942,     0.42042,     0.42142,     0.42242,     0.42342,     0.42442,     0.42543,     0.42643,     0.42743,     0.42843,     0.42943,     0.43043,     0.43143,\n",
              "           0.43243,     0.43343,     0.43443,     0.43544,     0.43644,     0.43744,     0.43844,     0.43944,     0.44044,     0.44144,     0.44244,     0.44344,     0.44444,     0.44545,     0.44645,     0.44745,     0.44845,     0.44945,     0.45045,     0.45145,     0.45245,     0.45345,     0.45445,     0.45546,\n",
              "           0.45646,     0.45746,     0.45846,     0.45946,     0.46046,     0.46146,     0.46246,     0.46346,     0.46446,     0.46547,     0.46647,     0.46747,     0.46847,     0.46947,     0.47047,     0.47147,     0.47247,     0.47347,     0.47447,     0.47548,     0.47648,     0.47748,     0.47848,     0.47948,\n",
              "           0.48048,     0.48148,     0.48248,     0.48348,     0.48448,     0.48549,     0.48649,     0.48749,     0.48849,     0.48949,     0.49049,     0.49149,     0.49249,     0.49349,     0.49449,      0.4955,      0.4965,      0.4975,      0.4985,      0.4995,      0.5005,      0.5015,      0.5025,      0.5035,\n",
              "            0.5045,     0.50551,     0.50651,     0.50751,     0.50851,     0.50951,     0.51051,     0.51151,     0.51251,     0.51351,     0.51451,     0.51552,     0.51652,     0.51752,     0.51852,     0.51952,     0.52052,     0.52152,     0.52252,     0.52352,     0.52452,     0.52553,     0.52653,     0.52753,\n",
              "           0.52853,     0.52953,     0.53053,     0.53153,     0.53253,     0.53353,     0.53453,     0.53554,     0.53654,     0.53754,     0.53854,     0.53954,     0.54054,     0.54154,     0.54254,     0.54354,     0.54454,     0.54555,     0.54655,     0.54755,     0.54855,     0.54955,     0.55055,     0.55155,\n",
              "           0.55255,     0.55355,     0.55455,     0.55556,     0.55656,     0.55756,     0.55856,     0.55956,     0.56056,     0.56156,     0.56256,     0.56356,     0.56456,     0.56557,     0.56657,     0.56757,     0.56857,     0.56957,     0.57057,     0.57157,     0.57257,     0.57357,     0.57457,     0.57558,\n",
              "           0.57658,     0.57758,     0.57858,     0.57958,     0.58058,     0.58158,     0.58258,     0.58358,     0.58458,     0.58559,     0.58659,     0.58759,     0.58859,     0.58959,     0.59059,     0.59159,     0.59259,     0.59359,     0.59459,      0.5956,      0.5966,      0.5976,      0.5986,      0.5996,\n",
              "            0.6006,      0.6016,      0.6026,      0.6036,      0.6046,     0.60561,     0.60661,     0.60761,     0.60861,     0.60961,     0.61061,     0.61161,     0.61261,     0.61361,     0.61461,     0.61562,     0.61662,     0.61762,     0.61862,     0.61962,     0.62062,     0.62162,     0.62262,     0.62362,\n",
              "           0.62462,     0.62563,     0.62663,     0.62763,     0.62863,     0.62963,     0.63063,     0.63163,     0.63263,     0.63363,     0.63463,     0.63564,     0.63664,     0.63764,     0.63864,     0.63964,     0.64064,     0.64164,     0.64264,     0.64364,     0.64464,     0.64565,     0.64665,     0.64765,\n",
              "           0.64865,     0.64965,     0.65065,     0.65165,     0.65265,     0.65365,     0.65465,     0.65566,     0.65666,     0.65766,     0.65866,     0.65966,     0.66066,     0.66166,     0.66266,     0.66366,     0.66466,     0.66567,     0.66667,     0.66767,     0.66867,     0.66967,     0.67067,     0.67167,\n",
              "           0.67267,     0.67367,     0.67467,     0.67568,     0.67668,     0.67768,     0.67868,     0.67968,     0.68068,     0.68168,     0.68268,     0.68368,     0.68468,     0.68569,     0.68669,     0.68769,     0.68869,     0.68969,     0.69069,     0.69169,     0.69269,     0.69369,     0.69469,      0.6957,\n",
              "            0.6967,      0.6977,      0.6987,      0.6997,      0.7007,      0.7017,      0.7027,      0.7037,      0.7047,     0.70571,     0.70671,     0.70771,     0.70871,     0.70971,     0.71071,     0.71171,     0.71271,     0.71371,     0.71471,     0.71572,     0.71672,     0.71772,     0.71872,     0.71972,\n",
              "           0.72072,     0.72172,     0.72272,     0.72372,     0.72472,     0.72573,     0.72673,     0.72773,     0.72873,     0.72973,     0.73073,     0.73173,     0.73273,     0.73373,     0.73473,     0.73574,     0.73674,     0.73774,     0.73874,     0.73974,     0.74074,     0.74174,     0.74274,     0.74374,\n",
              "           0.74474,     0.74575,     0.74675,     0.74775,     0.74875,     0.74975,     0.75075,     0.75175,     0.75275,     0.75375,     0.75475,     0.75576,     0.75676,     0.75776,     0.75876,     0.75976,     0.76076,     0.76176,     0.76276,     0.76376,     0.76476,     0.76577,     0.76677,     0.76777,\n",
              "           0.76877,     0.76977,     0.77077,     0.77177,     0.77277,     0.77377,     0.77477,     0.77578,     0.77678,     0.77778,     0.77878,     0.77978,     0.78078,     0.78178,     0.78278,     0.78378,     0.78478,     0.78579,     0.78679,     0.78779,     0.78879,     0.78979,     0.79079,     0.79179,\n",
              "           0.79279,     0.79379,     0.79479,      0.7958,      0.7968,      0.7978,      0.7988,      0.7998,      0.8008,      0.8018,      0.8028,      0.8038,      0.8048,     0.80581,     0.80681,     0.80781,     0.80881,     0.80981,     0.81081,     0.81181,     0.81281,     0.81381,     0.81481,     0.81582,\n",
              "           0.81682,     0.81782,     0.81882,     0.81982,     0.82082,     0.82182,     0.82282,     0.82382,     0.82482,     0.82583,     0.82683,     0.82783,     0.82883,     0.82983,     0.83083,     0.83183,     0.83283,     0.83383,     0.83483,     0.83584,     0.83684,     0.83784,     0.83884,     0.83984,\n",
              "           0.84084,     0.84184,     0.84284,     0.84384,     0.84484,     0.84585,     0.84685,     0.84785,     0.84885,     0.84985,     0.85085,     0.85185,     0.85285,     0.85385,     0.85485,     0.85586,     0.85686,     0.85786,     0.85886,     0.85986,     0.86086,     0.86186,     0.86286,     0.86386,\n",
              "           0.86486,     0.86587,     0.86687,     0.86787,     0.86887,     0.86987,     0.87087,     0.87187,     0.87287,     0.87387,     0.87487,     0.87588,     0.87688,     0.87788,     0.87888,     0.87988,     0.88088,     0.88188,     0.88288,     0.88388,     0.88488,     0.88589,     0.88689,     0.88789,\n",
              "           0.88889,     0.88989,     0.89089,     0.89189,     0.89289,     0.89389,     0.89489,      0.8959,      0.8969,      0.8979,      0.8989,      0.8999,      0.9009,      0.9019,      0.9029,      0.9039,      0.9049,     0.90591,     0.90691,     0.90791,     0.90891,     0.90991,     0.91091,     0.91191,\n",
              "           0.91291,     0.91391,     0.91491,     0.91592,     0.91692,     0.91792,     0.91892,     0.91992,     0.92092,     0.92192,     0.92292,     0.92392,     0.92492,     0.92593,     0.92693,     0.92793,     0.92893,     0.92993,     0.93093,     0.93193,     0.93293,     0.93393,     0.93493,     0.93594,\n",
              "           0.93694,     0.93794,     0.93894,     0.93994,     0.94094,     0.94194,     0.94294,     0.94394,     0.94494,     0.94595,     0.94695,     0.94795,     0.94895,     0.94995,     0.95095,     0.95195,     0.95295,     0.95395,     0.95495,     0.95596,     0.95696,     0.95796,     0.95896,     0.95996,\n",
              "           0.96096,     0.96196,     0.96296,     0.96396,     0.96496,     0.96597,     0.96697,     0.96797,     0.96897,     0.96997,     0.97097,     0.97197,     0.97297,     0.97397,     0.97497,     0.97598,     0.97698,     0.97798,     0.97898,     0.97998,     0.98098,     0.98198,     0.98298,     0.98398,\n",
              "           0.98498,     0.98599,     0.98699,     0.98799,     0.98899,     0.98999,     0.99099,     0.99199,     0.99299,     0.99399,     0.99499,       0.996,       0.997,       0.998,       0.999,           1]), array([[    0.94737,     0.94737,     0.94737, ...,     0.67742,     0.67742,           0],\n",
              "       [          1,           1,           1, ...,     0.66667,     0.66667,           0],\n",
              "       [          1,           1,           1, ...,     0.35714,     0.35714,           0],\n",
              "       [   0.071429,    0.071429,    0.071429, ...,    0.071429,    0.071429,           0],\n",
              "       [          1,           1,           1, ...,    0.011218,    0.011218,           0],\n",
              "       [          1,           1,           1, ...,     0.15753,     0.15753,           0]]), 'Recall', 'Precision'], [array([          0,    0.001001,    0.002002,    0.003003,    0.004004,    0.005005,    0.006006,    0.007007,    0.008008,    0.009009,     0.01001,    0.011011,    0.012012,    0.013013,    0.014014,    0.015015,    0.016016,    0.017017,    0.018018,    0.019019,     0.02002,    0.021021,    0.022022,    0.023023,\n",
              "          0.024024,    0.025025,    0.026026,    0.027027,    0.028028,    0.029029,     0.03003,    0.031031,    0.032032,    0.033033,    0.034034,    0.035035,    0.036036,    0.037037,    0.038038,    0.039039,     0.04004,    0.041041,    0.042042,    0.043043,    0.044044,    0.045045,    0.046046,    0.047047,\n",
              "          0.048048,    0.049049,     0.05005,    0.051051,    0.052052,    0.053053,    0.054054,    0.055055,    0.056056,    0.057057,    0.058058,    0.059059,     0.06006,    0.061061,    0.062062,    0.063063,    0.064064,    0.065065,    0.066066,    0.067067,    0.068068,    0.069069,     0.07007,    0.071071,\n",
              "          0.072072,    0.073073,    0.074074,    0.075075,    0.076076,    0.077077,    0.078078,    0.079079,     0.08008,    0.081081,    0.082082,    0.083083,    0.084084,    0.085085,    0.086086,    0.087087,    0.088088,    0.089089,     0.09009,    0.091091,    0.092092,    0.093093,    0.094094,    0.095095,\n",
              "          0.096096,    0.097097,    0.098098,    0.099099,      0.1001,      0.1011,      0.1021,      0.1031,      0.1041,     0.10511,     0.10611,     0.10711,     0.10811,     0.10911,     0.11011,     0.11111,     0.11211,     0.11311,     0.11411,     0.11512,     0.11612,     0.11712,     0.11812,     0.11912,\n",
              "           0.12012,     0.12112,     0.12212,     0.12312,     0.12412,     0.12513,     0.12613,     0.12713,     0.12813,     0.12913,     0.13013,     0.13113,     0.13213,     0.13313,     0.13413,     0.13514,     0.13614,     0.13714,     0.13814,     0.13914,     0.14014,     0.14114,     0.14214,     0.14314,\n",
              "           0.14414,     0.14515,     0.14615,     0.14715,     0.14815,     0.14915,     0.15015,     0.15115,     0.15215,     0.15315,     0.15415,     0.15516,     0.15616,     0.15716,     0.15816,     0.15916,     0.16016,     0.16116,     0.16216,     0.16316,     0.16416,     0.16517,     0.16617,     0.16717,\n",
              "           0.16817,     0.16917,     0.17017,     0.17117,     0.17217,     0.17317,     0.17417,     0.17518,     0.17618,     0.17718,     0.17818,     0.17918,     0.18018,     0.18118,     0.18218,     0.18318,     0.18418,     0.18519,     0.18619,     0.18719,     0.18819,     0.18919,     0.19019,     0.19119,\n",
              "           0.19219,     0.19319,     0.19419,      0.1952,      0.1962,      0.1972,      0.1982,      0.1992,      0.2002,      0.2012,      0.2022,      0.2032,      0.2042,     0.20521,     0.20621,     0.20721,     0.20821,     0.20921,     0.21021,     0.21121,     0.21221,     0.21321,     0.21421,     0.21522,\n",
              "           0.21622,     0.21722,     0.21822,     0.21922,     0.22022,     0.22122,     0.22222,     0.22322,     0.22422,     0.22523,     0.22623,     0.22723,     0.22823,     0.22923,     0.23023,     0.23123,     0.23223,     0.23323,     0.23423,     0.23524,     0.23624,     0.23724,     0.23824,     0.23924,\n",
              "           0.24024,     0.24124,     0.24224,     0.24324,     0.24424,     0.24525,     0.24625,     0.24725,     0.24825,     0.24925,     0.25025,     0.25125,     0.25225,     0.25325,     0.25425,     0.25526,     0.25626,     0.25726,     0.25826,     0.25926,     0.26026,     0.26126,     0.26226,     0.26326,\n",
              "           0.26426,     0.26527,     0.26627,     0.26727,     0.26827,     0.26927,     0.27027,     0.27127,     0.27227,     0.27327,     0.27427,     0.27528,     0.27628,     0.27728,     0.27828,     0.27928,     0.28028,     0.28128,     0.28228,     0.28328,     0.28428,     0.28529,     0.28629,     0.28729,\n",
              "           0.28829,     0.28929,     0.29029,     0.29129,     0.29229,     0.29329,     0.29429,      0.2953,      0.2963,      0.2973,      0.2983,      0.2993,      0.3003,      0.3013,      0.3023,      0.3033,      0.3043,     0.30531,     0.30631,     0.30731,     0.30831,     0.30931,     0.31031,     0.31131,\n",
              "           0.31231,     0.31331,     0.31431,     0.31532,     0.31632,     0.31732,     0.31832,     0.31932,     0.32032,     0.32132,     0.32232,     0.32332,     0.32432,     0.32533,     0.32633,     0.32733,     0.32833,     0.32933,     0.33033,     0.33133,     0.33233,     0.33333,     0.33433,     0.33534,\n",
              "           0.33634,     0.33734,     0.33834,     0.33934,     0.34034,     0.34134,     0.34234,     0.34334,     0.34434,     0.34535,     0.34635,     0.34735,     0.34835,     0.34935,     0.35035,     0.35135,     0.35235,     0.35335,     0.35435,     0.35536,     0.35636,     0.35736,     0.35836,     0.35936,\n",
              "           0.36036,     0.36136,     0.36236,     0.36336,     0.36436,     0.36537,     0.36637,     0.36737,     0.36837,     0.36937,     0.37037,     0.37137,     0.37237,     0.37337,     0.37437,     0.37538,     0.37638,     0.37738,     0.37838,     0.37938,     0.38038,     0.38138,     0.38238,     0.38338,\n",
              "           0.38438,     0.38539,     0.38639,     0.38739,     0.38839,     0.38939,     0.39039,     0.39139,     0.39239,     0.39339,     0.39439,      0.3954,      0.3964,      0.3974,      0.3984,      0.3994,      0.4004,      0.4014,      0.4024,      0.4034,      0.4044,     0.40541,     0.40641,     0.40741,\n",
              "           0.40841,     0.40941,     0.41041,     0.41141,     0.41241,     0.41341,     0.41441,     0.41542,     0.41642,     0.41742,     0.41842,     0.41942,     0.42042,     0.42142,     0.42242,     0.42342,     0.42442,     0.42543,     0.42643,     0.42743,     0.42843,     0.42943,     0.43043,     0.43143,\n",
              "           0.43243,     0.43343,     0.43443,     0.43544,     0.43644,     0.43744,     0.43844,     0.43944,     0.44044,     0.44144,     0.44244,     0.44344,     0.44444,     0.44545,     0.44645,     0.44745,     0.44845,     0.44945,     0.45045,     0.45145,     0.45245,     0.45345,     0.45445,     0.45546,\n",
              "           0.45646,     0.45746,     0.45846,     0.45946,     0.46046,     0.46146,     0.46246,     0.46346,     0.46446,     0.46547,     0.46647,     0.46747,     0.46847,     0.46947,     0.47047,     0.47147,     0.47247,     0.47347,     0.47447,     0.47548,     0.47648,     0.47748,     0.47848,     0.47948,\n",
              "           0.48048,     0.48148,     0.48248,     0.48348,     0.48448,     0.48549,     0.48649,     0.48749,     0.48849,     0.48949,     0.49049,     0.49149,     0.49249,     0.49349,     0.49449,      0.4955,      0.4965,      0.4975,      0.4985,      0.4995,      0.5005,      0.5015,      0.5025,      0.5035,\n",
              "            0.5045,     0.50551,     0.50651,     0.50751,     0.50851,     0.50951,     0.51051,     0.51151,     0.51251,     0.51351,     0.51451,     0.51552,     0.51652,     0.51752,     0.51852,     0.51952,     0.52052,     0.52152,     0.52252,     0.52352,     0.52452,     0.52553,     0.52653,     0.52753,\n",
              "           0.52853,     0.52953,     0.53053,     0.53153,     0.53253,     0.53353,     0.53453,     0.53554,     0.53654,     0.53754,     0.53854,     0.53954,     0.54054,     0.54154,     0.54254,     0.54354,     0.54454,     0.54555,     0.54655,     0.54755,     0.54855,     0.54955,     0.55055,     0.55155,\n",
              "           0.55255,     0.55355,     0.55455,     0.55556,     0.55656,     0.55756,     0.55856,     0.55956,     0.56056,     0.56156,     0.56256,     0.56356,     0.56456,     0.56557,     0.56657,     0.56757,     0.56857,     0.56957,     0.57057,     0.57157,     0.57257,     0.57357,     0.57457,     0.57558,\n",
              "           0.57658,     0.57758,     0.57858,     0.57958,     0.58058,     0.58158,     0.58258,     0.58358,     0.58458,     0.58559,     0.58659,     0.58759,     0.58859,     0.58959,     0.59059,     0.59159,     0.59259,     0.59359,     0.59459,      0.5956,      0.5966,      0.5976,      0.5986,      0.5996,\n",
              "            0.6006,      0.6016,      0.6026,      0.6036,      0.6046,     0.60561,     0.60661,     0.60761,     0.60861,     0.60961,     0.61061,     0.61161,     0.61261,     0.61361,     0.61461,     0.61562,     0.61662,     0.61762,     0.61862,     0.61962,     0.62062,     0.62162,     0.62262,     0.62362,\n",
              "           0.62462,     0.62563,     0.62663,     0.62763,     0.62863,     0.62963,     0.63063,     0.63163,     0.63263,     0.63363,     0.63463,     0.63564,     0.63664,     0.63764,     0.63864,     0.63964,     0.64064,     0.64164,     0.64264,     0.64364,     0.64464,     0.64565,     0.64665,     0.64765,\n",
              "           0.64865,     0.64965,     0.65065,     0.65165,     0.65265,     0.65365,     0.65465,     0.65566,     0.65666,     0.65766,     0.65866,     0.65966,     0.66066,     0.66166,     0.66266,     0.66366,     0.66466,     0.66567,     0.66667,     0.66767,     0.66867,     0.66967,     0.67067,     0.67167,\n",
              "           0.67267,     0.67367,     0.67467,     0.67568,     0.67668,     0.67768,     0.67868,     0.67968,     0.68068,     0.68168,     0.68268,     0.68368,     0.68468,     0.68569,     0.68669,     0.68769,     0.68869,     0.68969,     0.69069,     0.69169,     0.69269,     0.69369,     0.69469,      0.6957,\n",
              "            0.6967,      0.6977,      0.6987,      0.6997,      0.7007,      0.7017,      0.7027,      0.7037,      0.7047,     0.70571,     0.70671,     0.70771,     0.70871,     0.70971,     0.71071,     0.71171,     0.71271,     0.71371,     0.71471,     0.71572,     0.71672,     0.71772,     0.71872,     0.71972,\n",
              "           0.72072,     0.72172,     0.72272,     0.72372,     0.72472,     0.72573,     0.72673,     0.72773,     0.72873,     0.72973,     0.73073,     0.73173,     0.73273,     0.73373,     0.73473,     0.73574,     0.73674,     0.73774,     0.73874,     0.73974,     0.74074,     0.74174,     0.74274,     0.74374,\n",
              "           0.74474,     0.74575,     0.74675,     0.74775,     0.74875,     0.74975,     0.75075,     0.75175,     0.75275,     0.75375,     0.75475,     0.75576,     0.75676,     0.75776,     0.75876,     0.75976,     0.76076,     0.76176,     0.76276,     0.76376,     0.76476,     0.76577,     0.76677,     0.76777,\n",
              "           0.76877,     0.76977,     0.77077,     0.77177,     0.77277,     0.77377,     0.77477,     0.77578,     0.77678,     0.77778,     0.77878,     0.77978,     0.78078,     0.78178,     0.78278,     0.78378,     0.78478,     0.78579,     0.78679,     0.78779,     0.78879,     0.78979,     0.79079,     0.79179,\n",
              "           0.79279,     0.79379,     0.79479,      0.7958,      0.7968,      0.7978,      0.7988,      0.7998,      0.8008,      0.8018,      0.8028,      0.8038,      0.8048,     0.80581,     0.80681,     0.80781,     0.80881,     0.80981,     0.81081,     0.81181,     0.81281,     0.81381,     0.81481,     0.81582,\n",
              "           0.81682,     0.81782,     0.81882,     0.81982,     0.82082,     0.82182,     0.82282,     0.82382,     0.82482,     0.82583,     0.82683,     0.82783,     0.82883,     0.82983,     0.83083,     0.83183,     0.83283,     0.83383,     0.83483,     0.83584,     0.83684,     0.83784,     0.83884,     0.83984,\n",
              "           0.84084,     0.84184,     0.84284,     0.84384,     0.84484,     0.84585,     0.84685,     0.84785,     0.84885,     0.84985,     0.85085,     0.85185,     0.85285,     0.85385,     0.85485,     0.85586,     0.85686,     0.85786,     0.85886,     0.85986,     0.86086,     0.86186,     0.86286,     0.86386,\n",
              "           0.86486,     0.86587,     0.86687,     0.86787,     0.86887,     0.86987,     0.87087,     0.87187,     0.87287,     0.87387,     0.87487,     0.87588,     0.87688,     0.87788,     0.87888,     0.87988,     0.88088,     0.88188,     0.88288,     0.88388,     0.88488,     0.88589,     0.88689,     0.88789,\n",
              "           0.88889,     0.88989,     0.89089,     0.89189,     0.89289,     0.89389,     0.89489,      0.8959,      0.8969,      0.8979,      0.8989,      0.8999,      0.9009,      0.9019,      0.9029,      0.9039,      0.9049,     0.90591,     0.90691,     0.90791,     0.90891,     0.90991,     0.91091,     0.91191,\n",
              "           0.91291,     0.91391,     0.91491,     0.91592,     0.91692,     0.91792,     0.91892,     0.91992,     0.92092,     0.92192,     0.92292,     0.92392,     0.92492,     0.92593,     0.92693,     0.92793,     0.92893,     0.92993,     0.93093,     0.93193,     0.93293,     0.93393,     0.93493,     0.93594,\n",
              "           0.93694,     0.93794,     0.93894,     0.93994,     0.94094,     0.94194,     0.94294,     0.94394,     0.94494,     0.94595,     0.94695,     0.94795,     0.94895,     0.94995,     0.95095,     0.95195,     0.95295,     0.95395,     0.95495,     0.95596,     0.95696,     0.95796,     0.95896,     0.95996,\n",
              "           0.96096,     0.96196,     0.96296,     0.96396,     0.96496,     0.96597,     0.96697,     0.96797,     0.96897,     0.96997,     0.97097,     0.97197,     0.97297,     0.97397,     0.97497,     0.97598,     0.97698,     0.97798,     0.97898,     0.97998,     0.98098,     0.98198,     0.98298,     0.98398,\n",
              "           0.98498,     0.98599,     0.98699,     0.98799,     0.98899,     0.98999,     0.99099,     0.99199,     0.99299,     0.99399,     0.99499,       0.996,       0.997,       0.998,       0.999,           1]), array([[   0.017263,    0.017263,     0.02713, ...,           0,           0,           0],\n",
              "       [  0.0043134,   0.0043134,    0.006924, ...,           0,           0,           0],\n",
              "       [  0.0063816,   0.0063816,    0.012779, ...,           0,           0,           0],\n",
              "       [  0.0016313,   0.0016313,   0.0040234, ...,           0,           0,           0],\n",
              "       [  0.0083532,   0.0083532,    0.013604, ...,           0,           0,           0],\n",
              "       [   0.019853,    0.019853,    0.055819, ...,           0,           0,           0]]), 'Confidence', 'F1'], [array([          0,    0.001001,    0.002002,    0.003003,    0.004004,    0.005005,    0.006006,    0.007007,    0.008008,    0.009009,     0.01001,    0.011011,    0.012012,    0.013013,    0.014014,    0.015015,    0.016016,    0.017017,    0.018018,    0.019019,     0.02002,    0.021021,    0.022022,    0.023023,\n",
              "          0.024024,    0.025025,    0.026026,    0.027027,    0.028028,    0.029029,     0.03003,    0.031031,    0.032032,    0.033033,    0.034034,    0.035035,    0.036036,    0.037037,    0.038038,    0.039039,     0.04004,    0.041041,    0.042042,    0.043043,    0.044044,    0.045045,    0.046046,    0.047047,\n",
              "          0.048048,    0.049049,     0.05005,    0.051051,    0.052052,    0.053053,    0.054054,    0.055055,    0.056056,    0.057057,    0.058058,    0.059059,     0.06006,    0.061061,    0.062062,    0.063063,    0.064064,    0.065065,    0.066066,    0.067067,    0.068068,    0.069069,     0.07007,    0.071071,\n",
              "          0.072072,    0.073073,    0.074074,    0.075075,    0.076076,    0.077077,    0.078078,    0.079079,     0.08008,    0.081081,    0.082082,    0.083083,    0.084084,    0.085085,    0.086086,    0.087087,    0.088088,    0.089089,     0.09009,    0.091091,    0.092092,    0.093093,    0.094094,    0.095095,\n",
              "          0.096096,    0.097097,    0.098098,    0.099099,      0.1001,      0.1011,      0.1021,      0.1031,      0.1041,     0.10511,     0.10611,     0.10711,     0.10811,     0.10911,     0.11011,     0.11111,     0.11211,     0.11311,     0.11411,     0.11512,     0.11612,     0.11712,     0.11812,     0.11912,\n",
              "           0.12012,     0.12112,     0.12212,     0.12312,     0.12412,     0.12513,     0.12613,     0.12713,     0.12813,     0.12913,     0.13013,     0.13113,     0.13213,     0.13313,     0.13413,     0.13514,     0.13614,     0.13714,     0.13814,     0.13914,     0.14014,     0.14114,     0.14214,     0.14314,\n",
              "           0.14414,     0.14515,     0.14615,     0.14715,     0.14815,     0.14915,     0.15015,     0.15115,     0.15215,     0.15315,     0.15415,     0.15516,     0.15616,     0.15716,     0.15816,     0.15916,     0.16016,     0.16116,     0.16216,     0.16316,     0.16416,     0.16517,     0.16617,     0.16717,\n",
              "           0.16817,     0.16917,     0.17017,     0.17117,     0.17217,     0.17317,     0.17417,     0.17518,     0.17618,     0.17718,     0.17818,     0.17918,     0.18018,     0.18118,     0.18218,     0.18318,     0.18418,     0.18519,     0.18619,     0.18719,     0.18819,     0.18919,     0.19019,     0.19119,\n",
              "           0.19219,     0.19319,     0.19419,      0.1952,      0.1962,      0.1972,      0.1982,      0.1992,      0.2002,      0.2012,      0.2022,      0.2032,      0.2042,     0.20521,     0.20621,     0.20721,     0.20821,     0.20921,     0.21021,     0.21121,     0.21221,     0.21321,     0.21421,     0.21522,\n",
              "           0.21622,     0.21722,     0.21822,     0.21922,     0.22022,     0.22122,     0.22222,     0.22322,     0.22422,     0.22523,     0.22623,     0.22723,     0.22823,     0.22923,     0.23023,     0.23123,     0.23223,     0.23323,     0.23423,     0.23524,     0.23624,     0.23724,     0.23824,     0.23924,\n",
              "           0.24024,     0.24124,     0.24224,     0.24324,     0.24424,     0.24525,     0.24625,     0.24725,     0.24825,     0.24925,     0.25025,     0.25125,     0.25225,     0.25325,     0.25425,     0.25526,     0.25626,     0.25726,     0.25826,     0.25926,     0.26026,     0.26126,     0.26226,     0.26326,\n",
              "           0.26426,     0.26527,     0.26627,     0.26727,     0.26827,     0.26927,     0.27027,     0.27127,     0.27227,     0.27327,     0.27427,     0.27528,     0.27628,     0.27728,     0.27828,     0.27928,     0.28028,     0.28128,     0.28228,     0.28328,     0.28428,     0.28529,     0.28629,     0.28729,\n",
              "           0.28829,     0.28929,     0.29029,     0.29129,     0.29229,     0.29329,     0.29429,      0.2953,      0.2963,      0.2973,      0.2983,      0.2993,      0.3003,      0.3013,      0.3023,      0.3033,      0.3043,     0.30531,     0.30631,     0.30731,     0.30831,     0.30931,     0.31031,     0.31131,\n",
              "           0.31231,     0.31331,     0.31431,     0.31532,     0.31632,     0.31732,     0.31832,     0.31932,     0.32032,     0.32132,     0.32232,     0.32332,     0.32432,     0.32533,     0.32633,     0.32733,     0.32833,     0.32933,     0.33033,     0.33133,     0.33233,     0.33333,     0.33433,     0.33534,\n",
              "           0.33634,     0.33734,     0.33834,     0.33934,     0.34034,     0.34134,     0.34234,     0.34334,     0.34434,     0.34535,     0.34635,     0.34735,     0.34835,     0.34935,     0.35035,     0.35135,     0.35235,     0.35335,     0.35435,     0.35536,     0.35636,     0.35736,     0.35836,     0.35936,\n",
              "           0.36036,     0.36136,     0.36236,     0.36336,     0.36436,     0.36537,     0.36637,     0.36737,     0.36837,     0.36937,     0.37037,     0.37137,     0.37237,     0.37337,     0.37437,     0.37538,     0.37638,     0.37738,     0.37838,     0.37938,     0.38038,     0.38138,     0.38238,     0.38338,\n",
              "           0.38438,     0.38539,     0.38639,     0.38739,     0.38839,     0.38939,     0.39039,     0.39139,     0.39239,     0.39339,     0.39439,      0.3954,      0.3964,      0.3974,      0.3984,      0.3994,      0.4004,      0.4014,      0.4024,      0.4034,      0.4044,     0.40541,     0.40641,     0.40741,\n",
              "           0.40841,     0.40941,     0.41041,     0.41141,     0.41241,     0.41341,     0.41441,     0.41542,     0.41642,     0.41742,     0.41842,     0.41942,     0.42042,     0.42142,     0.42242,     0.42342,     0.42442,     0.42543,     0.42643,     0.42743,     0.42843,     0.42943,     0.43043,     0.43143,\n",
              "           0.43243,     0.43343,     0.43443,     0.43544,     0.43644,     0.43744,     0.43844,     0.43944,     0.44044,     0.44144,     0.44244,     0.44344,     0.44444,     0.44545,     0.44645,     0.44745,     0.44845,     0.44945,     0.45045,     0.45145,     0.45245,     0.45345,     0.45445,     0.45546,\n",
              "           0.45646,     0.45746,     0.45846,     0.45946,     0.46046,     0.46146,     0.46246,     0.46346,     0.46446,     0.46547,     0.46647,     0.46747,     0.46847,     0.46947,     0.47047,     0.47147,     0.47247,     0.47347,     0.47447,     0.47548,     0.47648,     0.47748,     0.47848,     0.47948,\n",
              "           0.48048,     0.48148,     0.48248,     0.48348,     0.48448,     0.48549,     0.48649,     0.48749,     0.48849,     0.48949,     0.49049,     0.49149,     0.49249,     0.49349,     0.49449,      0.4955,      0.4965,      0.4975,      0.4985,      0.4995,      0.5005,      0.5015,      0.5025,      0.5035,\n",
              "            0.5045,     0.50551,     0.50651,     0.50751,     0.50851,     0.50951,     0.51051,     0.51151,     0.51251,     0.51351,     0.51451,     0.51552,     0.51652,     0.51752,     0.51852,     0.51952,     0.52052,     0.52152,     0.52252,     0.52352,     0.52452,     0.52553,     0.52653,     0.52753,\n",
              "           0.52853,     0.52953,     0.53053,     0.53153,     0.53253,     0.53353,     0.53453,     0.53554,     0.53654,     0.53754,     0.53854,     0.53954,     0.54054,     0.54154,     0.54254,     0.54354,     0.54454,     0.54555,     0.54655,     0.54755,     0.54855,     0.54955,     0.55055,     0.55155,\n",
              "           0.55255,     0.55355,     0.55455,     0.55556,     0.55656,     0.55756,     0.55856,     0.55956,     0.56056,     0.56156,     0.56256,     0.56356,     0.56456,     0.56557,     0.56657,     0.56757,     0.56857,     0.56957,     0.57057,     0.57157,     0.57257,     0.57357,     0.57457,     0.57558,\n",
              "           0.57658,     0.57758,     0.57858,     0.57958,     0.58058,     0.58158,     0.58258,     0.58358,     0.58458,     0.58559,     0.58659,     0.58759,     0.58859,     0.58959,     0.59059,     0.59159,     0.59259,     0.59359,     0.59459,      0.5956,      0.5966,      0.5976,      0.5986,      0.5996,\n",
              "            0.6006,      0.6016,      0.6026,      0.6036,      0.6046,     0.60561,     0.60661,     0.60761,     0.60861,     0.60961,     0.61061,     0.61161,     0.61261,     0.61361,     0.61461,     0.61562,     0.61662,     0.61762,     0.61862,     0.61962,     0.62062,     0.62162,     0.62262,     0.62362,\n",
              "           0.62462,     0.62563,     0.62663,     0.62763,     0.62863,     0.62963,     0.63063,     0.63163,     0.63263,     0.63363,     0.63463,     0.63564,     0.63664,     0.63764,     0.63864,     0.63964,     0.64064,     0.64164,     0.64264,     0.64364,     0.64464,     0.64565,     0.64665,     0.64765,\n",
              "           0.64865,     0.64965,     0.65065,     0.65165,     0.65265,     0.65365,     0.65465,     0.65566,     0.65666,     0.65766,     0.65866,     0.65966,     0.66066,     0.66166,     0.66266,     0.66366,     0.66466,     0.66567,     0.66667,     0.66767,     0.66867,     0.66967,     0.67067,     0.67167,\n",
              "           0.67267,     0.67367,     0.67467,     0.67568,     0.67668,     0.67768,     0.67868,     0.67968,     0.68068,     0.68168,     0.68268,     0.68368,     0.68468,     0.68569,     0.68669,     0.68769,     0.68869,     0.68969,     0.69069,     0.69169,     0.69269,     0.69369,     0.69469,      0.6957,\n",
              "            0.6967,      0.6977,      0.6987,      0.6997,      0.7007,      0.7017,      0.7027,      0.7037,      0.7047,     0.70571,     0.70671,     0.70771,     0.70871,     0.70971,     0.71071,     0.71171,     0.71271,     0.71371,     0.71471,     0.71572,     0.71672,     0.71772,     0.71872,     0.71972,\n",
              "           0.72072,     0.72172,     0.72272,     0.72372,     0.72472,     0.72573,     0.72673,     0.72773,     0.72873,     0.72973,     0.73073,     0.73173,     0.73273,     0.73373,     0.73473,     0.73574,     0.73674,     0.73774,     0.73874,     0.73974,     0.74074,     0.74174,     0.74274,     0.74374,\n",
              "           0.74474,     0.74575,     0.74675,     0.74775,     0.74875,     0.74975,     0.75075,     0.75175,     0.75275,     0.75375,     0.75475,     0.75576,     0.75676,     0.75776,     0.75876,     0.75976,     0.76076,     0.76176,     0.76276,     0.76376,     0.76476,     0.76577,     0.76677,     0.76777,\n",
              "           0.76877,     0.76977,     0.77077,     0.77177,     0.77277,     0.77377,     0.77477,     0.77578,     0.77678,     0.77778,     0.77878,     0.77978,     0.78078,     0.78178,     0.78278,     0.78378,     0.78478,     0.78579,     0.78679,     0.78779,     0.78879,     0.78979,     0.79079,     0.79179,\n",
              "           0.79279,     0.79379,     0.79479,      0.7958,      0.7968,      0.7978,      0.7988,      0.7998,      0.8008,      0.8018,      0.8028,      0.8038,      0.8048,     0.80581,     0.80681,     0.80781,     0.80881,     0.80981,     0.81081,     0.81181,     0.81281,     0.81381,     0.81481,     0.81582,\n",
              "           0.81682,     0.81782,     0.81882,     0.81982,     0.82082,     0.82182,     0.82282,     0.82382,     0.82482,     0.82583,     0.82683,     0.82783,     0.82883,     0.82983,     0.83083,     0.83183,     0.83283,     0.83383,     0.83483,     0.83584,     0.83684,     0.83784,     0.83884,     0.83984,\n",
              "           0.84084,     0.84184,     0.84284,     0.84384,     0.84484,     0.84585,     0.84685,     0.84785,     0.84885,     0.84985,     0.85085,     0.85185,     0.85285,     0.85385,     0.85485,     0.85586,     0.85686,     0.85786,     0.85886,     0.85986,     0.86086,     0.86186,     0.86286,     0.86386,\n",
              "           0.86486,     0.86587,     0.86687,     0.86787,     0.86887,     0.86987,     0.87087,     0.87187,     0.87287,     0.87387,     0.87487,     0.87588,     0.87688,     0.87788,     0.87888,     0.87988,     0.88088,     0.88188,     0.88288,     0.88388,     0.88488,     0.88589,     0.88689,     0.88789,\n",
              "           0.88889,     0.88989,     0.89089,     0.89189,     0.89289,     0.89389,     0.89489,      0.8959,      0.8969,      0.8979,      0.8989,      0.8999,      0.9009,      0.9019,      0.9029,      0.9039,      0.9049,     0.90591,     0.90691,     0.90791,     0.90891,     0.90991,     0.91091,     0.91191,\n",
              "           0.91291,     0.91391,     0.91491,     0.91592,     0.91692,     0.91792,     0.91892,     0.91992,     0.92092,     0.92192,     0.92292,     0.92392,     0.92492,     0.92593,     0.92693,     0.92793,     0.92893,     0.92993,     0.93093,     0.93193,     0.93293,     0.93393,     0.93493,     0.93594,\n",
              "           0.93694,     0.93794,     0.93894,     0.93994,     0.94094,     0.94194,     0.94294,     0.94394,     0.94494,     0.94595,     0.94695,     0.94795,     0.94895,     0.94995,     0.95095,     0.95195,     0.95295,     0.95395,     0.95495,     0.95596,     0.95696,     0.95796,     0.95896,     0.95996,\n",
              "           0.96096,     0.96196,     0.96296,     0.96396,     0.96496,     0.96597,     0.96697,     0.96797,     0.96897,     0.96997,     0.97097,     0.97197,     0.97297,     0.97397,     0.97497,     0.97598,     0.97698,     0.97798,     0.97898,     0.97998,     0.98098,     0.98198,     0.98298,     0.98398,\n",
              "           0.98498,     0.98599,     0.98699,     0.98799,     0.98899,     0.98999,     0.99099,     0.99199,     0.99299,     0.99399,     0.99499,       0.996,       0.997,       0.998,       0.999,           1]), array([[  0.0087065,   0.0087065,    0.013752, ...,           1,           1,           1],\n",
              "       [  0.0021614,   0.0021614,    0.003474, ...,           1,           1,           1],\n",
              "       [   0.003201,    0.003201,   0.0064305, ...,           1,           1,           1],\n",
              "       [ 0.00081633,  0.00081633,   0.0020157, ...,           1,           1,           1],\n",
              "       [  0.0041941,   0.0041941,   0.0068487, ...,           1,           1,           1],\n",
              "       [   0.010026,    0.010026,    0.028711, ...,           1,           1,           1]]), 'Confidence', 'Precision'], [array([          0,    0.001001,    0.002002,    0.003003,    0.004004,    0.005005,    0.006006,    0.007007,    0.008008,    0.009009,     0.01001,    0.011011,    0.012012,    0.013013,    0.014014,    0.015015,    0.016016,    0.017017,    0.018018,    0.019019,     0.02002,    0.021021,    0.022022,    0.023023,\n",
              "          0.024024,    0.025025,    0.026026,    0.027027,    0.028028,    0.029029,     0.03003,    0.031031,    0.032032,    0.033033,    0.034034,    0.035035,    0.036036,    0.037037,    0.038038,    0.039039,     0.04004,    0.041041,    0.042042,    0.043043,    0.044044,    0.045045,    0.046046,    0.047047,\n",
              "          0.048048,    0.049049,     0.05005,    0.051051,    0.052052,    0.053053,    0.054054,    0.055055,    0.056056,    0.057057,    0.058058,    0.059059,     0.06006,    0.061061,    0.062062,    0.063063,    0.064064,    0.065065,    0.066066,    0.067067,    0.068068,    0.069069,     0.07007,    0.071071,\n",
              "          0.072072,    0.073073,    0.074074,    0.075075,    0.076076,    0.077077,    0.078078,    0.079079,     0.08008,    0.081081,    0.082082,    0.083083,    0.084084,    0.085085,    0.086086,    0.087087,    0.088088,    0.089089,     0.09009,    0.091091,    0.092092,    0.093093,    0.094094,    0.095095,\n",
              "          0.096096,    0.097097,    0.098098,    0.099099,      0.1001,      0.1011,      0.1021,      0.1031,      0.1041,     0.10511,     0.10611,     0.10711,     0.10811,     0.10911,     0.11011,     0.11111,     0.11211,     0.11311,     0.11411,     0.11512,     0.11612,     0.11712,     0.11812,     0.11912,\n",
              "           0.12012,     0.12112,     0.12212,     0.12312,     0.12412,     0.12513,     0.12613,     0.12713,     0.12813,     0.12913,     0.13013,     0.13113,     0.13213,     0.13313,     0.13413,     0.13514,     0.13614,     0.13714,     0.13814,     0.13914,     0.14014,     0.14114,     0.14214,     0.14314,\n",
              "           0.14414,     0.14515,     0.14615,     0.14715,     0.14815,     0.14915,     0.15015,     0.15115,     0.15215,     0.15315,     0.15415,     0.15516,     0.15616,     0.15716,     0.15816,     0.15916,     0.16016,     0.16116,     0.16216,     0.16316,     0.16416,     0.16517,     0.16617,     0.16717,\n",
              "           0.16817,     0.16917,     0.17017,     0.17117,     0.17217,     0.17317,     0.17417,     0.17518,     0.17618,     0.17718,     0.17818,     0.17918,     0.18018,     0.18118,     0.18218,     0.18318,     0.18418,     0.18519,     0.18619,     0.18719,     0.18819,     0.18919,     0.19019,     0.19119,\n",
              "           0.19219,     0.19319,     0.19419,      0.1952,      0.1962,      0.1972,      0.1982,      0.1992,      0.2002,      0.2012,      0.2022,      0.2032,      0.2042,     0.20521,     0.20621,     0.20721,     0.20821,     0.20921,     0.21021,     0.21121,     0.21221,     0.21321,     0.21421,     0.21522,\n",
              "           0.21622,     0.21722,     0.21822,     0.21922,     0.22022,     0.22122,     0.22222,     0.22322,     0.22422,     0.22523,     0.22623,     0.22723,     0.22823,     0.22923,     0.23023,     0.23123,     0.23223,     0.23323,     0.23423,     0.23524,     0.23624,     0.23724,     0.23824,     0.23924,\n",
              "           0.24024,     0.24124,     0.24224,     0.24324,     0.24424,     0.24525,     0.24625,     0.24725,     0.24825,     0.24925,     0.25025,     0.25125,     0.25225,     0.25325,     0.25425,     0.25526,     0.25626,     0.25726,     0.25826,     0.25926,     0.26026,     0.26126,     0.26226,     0.26326,\n",
              "           0.26426,     0.26527,     0.26627,     0.26727,     0.26827,     0.26927,     0.27027,     0.27127,     0.27227,     0.27327,     0.27427,     0.27528,     0.27628,     0.27728,     0.27828,     0.27928,     0.28028,     0.28128,     0.28228,     0.28328,     0.28428,     0.28529,     0.28629,     0.28729,\n",
              "           0.28829,     0.28929,     0.29029,     0.29129,     0.29229,     0.29329,     0.29429,      0.2953,      0.2963,      0.2973,      0.2983,      0.2993,      0.3003,      0.3013,      0.3023,      0.3033,      0.3043,     0.30531,     0.30631,     0.30731,     0.30831,     0.30931,     0.31031,     0.31131,\n",
              "           0.31231,     0.31331,     0.31431,     0.31532,     0.31632,     0.31732,     0.31832,     0.31932,     0.32032,     0.32132,     0.32232,     0.32332,     0.32432,     0.32533,     0.32633,     0.32733,     0.32833,     0.32933,     0.33033,     0.33133,     0.33233,     0.33333,     0.33433,     0.33534,\n",
              "           0.33634,     0.33734,     0.33834,     0.33934,     0.34034,     0.34134,     0.34234,     0.34334,     0.34434,     0.34535,     0.34635,     0.34735,     0.34835,     0.34935,     0.35035,     0.35135,     0.35235,     0.35335,     0.35435,     0.35536,     0.35636,     0.35736,     0.35836,     0.35936,\n",
              "           0.36036,     0.36136,     0.36236,     0.36336,     0.36436,     0.36537,     0.36637,     0.36737,     0.36837,     0.36937,     0.37037,     0.37137,     0.37237,     0.37337,     0.37437,     0.37538,     0.37638,     0.37738,     0.37838,     0.37938,     0.38038,     0.38138,     0.38238,     0.38338,\n",
              "           0.38438,     0.38539,     0.38639,     0.38739,     0.38839,     0.38939,     0.39039,     0.39139,     0.39239,     0.39339,     0.39439,      0.3954,      0.3964,      0.3974,      0.3984,      0.3994,      0.4004,      0.4014,      0.4024,      0.4034,      0.4044,     0.40541,     0.40641,     0.40741,\n",
              "           0.40841,     0.40941,     0.41041,     0.41141,     0.41241,     0.41341,     0.41441,     0.41542,     0.41642,     0.41742,     0.41842,     0.41942,     0.42042,     0.42142,     0.42242,     0.42342,     0.42442,     0.42543,     0.42643,     0.42743,     0.42843,     0.42943,     0.43043,     0.43143,\n",
              "           0.43243,     0.43343,     0.43443,     0.43544,     0.43644,     0.43744,     0.43844,     0.43944,     0.44044,     0.44144,     0.44244,     0.44344,     0.44444,     0.44545,     0.44645,     0.44745,     0.44845,     0.44945,     0.45045,     0.45145,     0.45245,     0.45345,     0.45445,     0.45546,\n",
              "           0.45646,     0.45746,     0.45846,     0.45946,     0.46046,     0.46146,     0.46246,     0.46346,     0.46446,     0.46547,     0.46647,     0.46747,     0.46847,     0.46947,     0.47047,     0.47147,     0.47247,     0.47347,     0.47447,     0.47548,     0.47648,     0.47748,     0.47848,     0.47948,\n",
              "           0.48048,     0.48148,     0.48248,     0.48348,     0.48448,     0.48549,     0.48649,     0.48749,     0.48849,     0.48949,     0.49049,     0.49149,     0.49249,     0.49349,     0.49449,      0.4955,      0.4965,      0.4975,      0.4985,      0.4995,      0.5005,      0.5015,      0.5025,      0.5035,\n",
              "            0.5045,     0.50551,     0.50651,     0.50751,     0.50851,     0.50951,     0.51051,     0.51151,     0.51251,     0.51351,     0.51451,     0.51552,     0.51652,     0.51752,     0.51852,     0.51952,     0.52052,     0.52152,     0.52252,     0.52352,     0.52452,     0.52553,     0.52653,     0.52753,\n",
              "           0.52853,     0.52953,     0.53053,     0.53153,     0.53253,     0.53353,     0.53453,     0.53554,     0.53654,     0.53754,     0.53854,     0.53954,     0.54054,     0.54154,     0.54254,     0.54354,     0.54454,     0.54555,     0.54655,     0.54755,     0.54855,     0.54955,     0.55055,     0.55155,\n",
              "           0.55255,     0.55355,     0.55455,     0.55556,     0.55656,     0.55756,     0.55856,     0.55956,     0.56056,     0.56156,     0.56256,     0.56356,     0.56456,     0.56557,     0.56657,     0.56757,     0.56857,     0.56957,     0.57057,     0.57157,     0.57257,     0.57357,     0.57457,     0.57558,\n",
              "           0.57658,     0.57758,     0.57858,     0.57958,     0.58058,     0.58158,     0.58258,     0.58358,     0.58458,     0.58559,     0.58659,     0.58759,     0.58859,     0.58959,     0.59059,     0.59159,     0.59259,     0.59359,     0.59459,      0.5956,      0.5966,      0.5976,      0.5986,      0.5996,\n",
              "            0.6006,      0.6016,      0.6026,      0.6036,      0.6046,     0.60561,     0.60661,     0.60761,     0.60861,     0.60961,     0.61061,     0.61161,     0.61261,     0.61361,     0.61461,     0.61562,     0.61662,     0.61762,     0.61862,     0.61962,     0.62062,     0.62162,     0.62262,     0.62362,\n",
              "           0.62462,     0.62563,     0.62663,     0.62763,     0.62863,     0.62963,     0.63063,     0.63163,     0.63263,     0.63363,     0.63463,     0.63564,     0.63664,     0.63764,     0.63864,     0.63964,     0.64064,     0.64164,     0.64264,     0.64364,     0.64464,     0.64565,     0.64665,     0.64765,\n",
              "           0.64865,     0.64965,     0.65065,     0.65165,     0.65265,     0.65365,     0.65465,     0.65566,     0.65666,     0.65766,     0.65866,     0.65966,     0.66066,     0.66166,     0.66266,     0.66366,     0.66466,     0.66567,     0.66667,     0.66767,     0.66867,     0.66967,     0.67067,     0.67167,\n",
              "           0.67267,     0.67367,     0.67467,     0.67568,     0.67668,     0.67768,     0.67868,     0.67968,     0.68068,     0.68168,     0.68268,     0.68368,     0.68468,     0.68569,     0.68669,     0.68769,     0.68869,     0.68969,     0.69069,     0.69169,     0.69269,     0.69369,     0.69469,      0.6957,\n",
              "            0.6967,      0.6977,      0.6987,      0.6997,      0.7007,      0.7017,      0.7027,      0.7037,      0.7047,     0.70571,     0.70671,     0.70771,     0.70871,     0.70971,     0.71071,     0.71171,     0.71271,     0.71371,     0.71471,     0.71572,     0.71672,     0.71772,     0.71872,     0.71972,\n",
              "           0.72072,     0.72172,     0.72272,     0.72372,     0.72472,     0.72573,     0.72673,     0.72773,     0.72873,     0.72973,     0.73073,     0.73173,     0.73273,     0.73373,     0.73473,     0.73574,     0.73674,     0.73774,     0.73874,     0.73974,     0.74074,     0.74174,     0.74274,     0.74374,\n",
              "           0.74474,     0.74575,     0.74675,     0.74775,     0.74875,     0.74975,     0.75075,     0.75175,     0.75275,     0.75375,     0.75475,     0.75576,     0.75676,     0.75776,     0.75876,     0.75976,     0.76076,     0.76176,     0.76276,     0.76376,     0.76476,     0.76577,     0.76677,     0.76777,\n",
              "           0.76877,     0.76977,     0.77077,     0.77177,     0.77277,     0.77377,     0.77477,     0.77578,     0.77678,     0.77778,     0.77878,     0.77978,     0.78078,     0.78178,     0.78278,     0.78378,     0.78478,     0.78579,     0.78679,     0.78779,     0.78879,     0.78979,     0.79079,     0.79179,\n",
              "           0.79279,     0.79379,     0.79479,      0.7958,      0.7968,      0.7978,      0.7988,      0.7998,      0.8008,      0.8018,      0.8028,      0.8038,      0.8048,     0.80581,     0.80681,     0.80781,     0.80881,     0.80981,     0.81081,     0.81181,     0.81281,     0.81381,     0.81481,     0.81582,\n",
              "           0.81682,     0.81782,     0.81882,     0.81982,     0.82082,     0.82182,     0.82282,     0.82382,     0.82482,     0.82583,     0.82683,     0.82783,     0.82883,     0.82983,     0.83083,     0.83183,     0.83283,     0.83383,     0.83483,     0.83584,     0.83684,     0.83784,     0.83884,     0.83984,\n",
              "           0.84084,     0.84184,     0.84284,     0.84384,     0.84484,     0.84585,     0.84685,     0.84785,     0.84885,     0.84985,     0.85085,     0.85185,     0.85285,     0.85385,     0.85485,     0.85586,     0.85686,     0.85786,     0.85886,     0.85986,     0.86086,     0.86186,     0.86286,     0.86386,\n",
              "           0.86486,     0.86587,     0.86687,     0.86787,     0.86887,     0.86987,     0.87087,     0.87187,     0.87287,     0.87387,     0.87487,     0.87588,     0.87688,     0.87788,     0.87888,     0.87988,     0.88088,     0.88188,     0.88288,     0.88388,     0.88488,     0.88589,     0.88689,     0.88789,\n",
              "           0.88889,     0.88989,     0.89089,     0.89189,     0.89289,     0.89389,     0.89489,      0.8959,      0.8969,      0.8979,      0.8989,      0.8999,      0.9009,      0.9019,      0.9029,      0.9039,      0.9049,     0.90591,     0.90691,     0.90791,     0.90891,     0.90991,     0.91091,     0.91191,\n",
              "           0.91291,     0.91391,     0.91491,     0.91592,     0.91692,     0.91792,     0.91892,     0.91992,     0.92092,     0.92192,     0.92292,     0.92392,     0.92492,     0.92593,     0.92693,     0.92793,     0.92893,     0.92993,     0.93093,     0.93193,     0.93293,     0.93393,     0.93493,     0.93594,\n",
              "           0.93694,     0.93794,     0.93894,     0.93994,     0.94094,     0.94194,     0.94294,     0.94394,     0.94494,     0.94595,     0.94695,     0.94795,     0.94895,     0.94995,     0.95095,     0.95195,     0.95295,     0.95395,     0.95495,     0.95596,     0.95696,     0.95796,     0.95896,     0.95996,\n",
              "           0.96096,     0.96196,     0.96296,     0.96396,     0.96496,     0.96597,     0.96697,     0.96797,     0.96897,     0.96997,     0.97097,     0.97197,     0.97297,     0.97397,     0.97497,     0.97598,     0.97698,     0.97798,     0.97898,     0.97998,     0.98098,     0.98198,     0.98298,     0.98398,\n",
              "           0.98498,     0.98599,     0.98699,     0.98799,     0.98899,     0.98999,     0.99099,     0.99199,     0.99299,     0.99399,     0.99499,       0.996,       0.997,       0.998,       0.999,           1]), array([[          1,           1,           1, ...,           0,           0,           0],\n",
              "       [          1,           1,           1, ...,           0,           0,           0],\n",
              "       [          1,           1,           1, ...,           0,           0,           0],\n",
              "       [          1,           1,           1, ...,           0,           0,           0],\n",
              "       [          1,           1,           1, ...,           0,           0,           0],\n",
              "       [          1,           1,           1, ...,           0,           0,           0]]), 'Confidence', 'Recall']]\n",
              "fitness: np.float64(0.470745020969115)\n",
              "keys: ['metrics/precision(B)', 'metrics/recall(B)', 'metrics/mAP50(B)', 'metrics/mAP50-95(B)']\n",
              "maps: array([    0.62761,     0.54209,     0.45853,     0.04975,     0.62139,     0.36422])\n",
              "names: {0: 'African Armyworm', 1: 'bean beetles', 2: 'cowpea aphids', 3: 'fall armyworm', 4: 'maize weevil', 5: 'white flies'}\n",
              "nt_per_class: array([21,  6, 10,  1,  7, 23])\n",
              "nt_per_image: array([16,  6,  6,  1,  7,  9])\n",
              "results_dict: {'metrics/precision(B)': np.float64(0.8434741260139463), 'metrics/recall(B)': np.float64(0.5749275062797948), 'metrics/mAP50(B)': np.float64(0.7120628708601071), 'metrics/mAP50-95(B)': np.float64(0.44393192653678254), 'fitness': np.float64(0.470745020969115)}\n",
              "save_dir: PosixPath('runs/detect/train3')\n",
              "speed: {'preprocess': 0.4384109555455022, 'inference': 3.6959107777773976, 'loss': 0.00046206666108143207, 'postprocess': 4.396911266677408}\n",
              "stats: {'tp': [], 'conf': [], 'pred_cls': [], 'target_cls': [], 'target_img': []}\n",
              "task: 'detect'"
            ]
          },
          "metadata": {},
          "execution_count": 21
        }
      ]
    },
    {
      "cell_type": "markdown",
      "source": [
        "Predict"
      ],
      "metadata": {
        "id": "hS5g_amRYx5b"
      }
    },
    {
      "cell_type": "code",
      "source": [
        "from ultralytics import YOLO\n",
        "import numpy as np\n",
        "import cv2\n",
        "import os\n",
        "import glob\n",
        "\n",
        "# Load model\n",
        "model = YOLO(\"/content/drive/MyDrive/OBD-HETTNT/ultralytics/runs/detect/train2/weights/best.pt\")\n",
        "\n",
        "# Get class names from the model\n",
        "names = model.names\n",
        "\n",
        "# Generate palette\n",
        "def get_palette(num_classes):\n",
        "    np.random.seed(42)\n",
        "    return [tuple(np.random.randint(0, 256, size=3).tolist()) for _ in range(num_classes)]\n",
        "\n",
        "palette = get_palette(len(names))\n",
        "\n",
        "# Input/output folders\n",
        "input_dir = '/content/drive/MyDrive/OBD-HETTNT/test/images'\n",
        "output_dir = '/content/drive/MyDrive/OBD-HETTNT/Predict_DetectPest'\n",
        "os.makedirs(output_dir, exist_ok=True)\n",
        "\n",
        "# Get all image paths\n",
        "image_paths = glob.glob(os.path.join(input_dir, '*.jpg'))\n",
        "\n",
        "for img_path in image_paths:\n",
        "    image = cv2.imread(img_path)\n",
        "    img_name = os.path.basename(img_path)\n",
        "    out_path = os.path.join(output_dir, img_name)\n",
        "\n",
        "    results = model(img_path)[0]\n",
        "\n",
        "    for box in results.boxes:\n",
        "        x1, y1, x2, y2 = map(int, box.xyxy[0])\n",
        "        conf = float(box.conf[0])\n",
        "        cls_id = int(box.cls[0])\n",
        "        cls_name = names[cls_id]  # Get class name using the class ID\n",
        "\n",
        "        color = palette[cls_id % len(palette)]\n",
        "\n",
        "        cv2.rectangle(image, (x1, y1), (x2, y2), color, 2)\n",
        "        text = f'{cls_name} {conf:.2f}' # Use cls_name here\n",
        "        cv2.putText(image, text, (x1, y1 - 10), cv2.FONT_HERSHEY_SIMPLEX, 0.5, color, 1)\n",
        "\n",
        "\n",
        "    cv2.imwrite(out_path, image)\n",
        "\n",
        "print(f'✅ Done. Visualized results saved to: {output_dir}')"
      ],
      "metadata": {
        "colab": {
          "base_uri": "https://localhost:8080/"
        },
        "collapsed": true,
        "id": "54RrzPRhYzry",
        "outputId": "3cd39cc2-05e0-4b55-abd7-64c1e0899e09"
      },
      "execution_count": null,
      "outputs": [
        {
          "output_type": "stream",
          "name": "stdout",
          "text": [
            "\n",
            "image 1/1 /content/drive/MyDrive/OBD-HETTNT/test/images/8-Adult-of-Mexican-bean-weevil-Zabrotes-subfasciatus-a-dorsal-view-b-lateral-view_png.rf.80831be20454764bf0c0ae3aa9738617.jpg: 640x640 2 bean beetless, 21.2ms\n",
            "Speed: 3.0ms preprocess, 21.2ms inference, 2.4ms postprocess per image at shape (1, 3, 640, 640)\n",
            "\n",
            "image 1/1 /content/drive/MyDrive/OBD-HETTNT/test/images/LABAUR4I3JIUNK7CKHVBGRPKRY_jpg.rf.93302e8e73dbd03851ff3594b34ea569.jpg: 640x640 1 bean beetles, 13.5ms\n",
            "Speed: 2.6ms preprocess, 13.5ms inference, 2.0ms postprocess per image at shape (1, 3, 640, 640)\n",
            "\n",
            "image 1/1 /content/drive/MyDrive/OBD-HETTNT/test/images/Lucerne-feeding-aphids-cowpea-aphids-Aphis-craccivora-top-left-bluegreen-aphids_png.rf.7d9b3b4d06758061de106d851fd496a7.jpg: 640x640 4 cowpea aphidss, 12.8ms\n",
            "Speed: 2.4ms preprocess, 12.8ms inference, 2.3ms postprocess per image at shape (1, 3, 640, 640)\n",
            "\n",
            "image 1/1 /content/drive/MyDrive/OBD-HETTNT/test/images/armyworm-1_jpg.rf.7554d1cd3035edef40ea56f0cce6b89b.jpg: 640x640 1 African Armyworm, 15.0ms\n",
            "Speed: 2.5ms preprocess, 15.0ms inference, 2.4ms postprocess per image at shape (1, 3, 640, 640)\n",
            "\n",
            "image 1/1 /content/drive/MyDrive/OBD-HETTNT/test/images/armyworm_0_jpg.rf.cae42def403b8ba380135f354e605585.jpg: 640x640 1 African Armyworm, 14.1ms\n",
            "Speed: 2.4ms preprocess, 14.1ms inference, 1.8ms postprocess per image at shape (1, 3, 640, 640)\n",
            "\n",
            "image 1/1 /content/drive/MyDrive/OBD-HETTNT/test/images/fall-armyworm-Spodoptera-frugiperda2_jpg.rf.85c6aa4a626ecc5e1e05aa0f108c1f89.jpg: 640x640 1 African Armyworm, 12.5ms\n",
            "Speed: 2.4ms preprocess, 12.5ms inference, 2.4ms postprocess per image at shape (1, 3, 640, 640)\n",
            "\n",
            "image 1/1 /content/drive/MyDrive/OBD-HETTNT/test/images/hqdefault_jpg.rf.d0731b8263262fb1aeb60b262f8a7eac.jpg: 640x640 1 cowpea aphids, 15.1ms\n",
            "Speed: 2.6ms preprocess, 15.1ms inference, 2.0ms postprocess per image at shape (1, 3, 640, 640)\n",
            "\n",
            "image 1/1 /content/drive/MyDrive/OBD-HETTNT/test/images/image30_jpeg.rf.878fa248a3104082f5eea9226e0566f6.jpg: 640x640 1 cowpea aphids, 12.2ms\n",
            "Speed: 2.4ms preprocess, 12.2ms inference, 1.6ms postprocess per image at shape (1, 3, 640, 640)\n",
            "\n",
            "image 1/1 /content/drive/MyDrive/OBD-HETTNT/test/images/images113_jpg.rf.6b308b9194aa31b50b74435ff7970c7f.jpg: 640x640 (no detections), 11.9ms\n",
            "Speed: 2.3ms preprocess, 11.9ms inference, 0.9ms postprocess per image at shape (1, 3, 640, 640)\n",
            "\n",
            "image 1/1 /content/drive/MyDrive/OBD-HETTNT/test/images/images11_jpg.rf.9c29ad72e69662ae5639e77cb56344e6.jpg: 640x640 22 white fliess, 11.8ms\n",
            "Speed: 2.5ms preprocess, 11.8ms inference, 1.7ms postprocess per image at shape (1, 3, 640, 640)\n",
            "\n",
            "image 1/1 /content/drive/MyDrive/OBD-HETTNT/test/images/images150_jpg.rf.6b5aec5ebfb237dd7627f991db9f52ad.jpg: 640x640 1 African Armyworm, 14.3ms\n",
            "Speed: 2.4ms preprocess, 14.3ms inference, 2.1ms postprocess per image at shape (1, 3, 640, 640)\n",
            "\n",
            "image 1/1 /content/drive/MyDrive/OBD-HETTNT/test/images/images157_jpg.rf.7e48729895b2e9ce9f7c765881659a55.jpg: 640x640 2 African Armyworms, 11.8ms\n",
            "Speed: 2.4ms preprocess, 11.8ms inference, 1.7ms postprocess per image at shape (1, 3, 640, 640)\n",
            "\n",
            "image 1/1 /content/drive/MyDrive/OBD-HETTNT/test/images/images181_jpg.rf.006c17f3cf3c86f3f7d417c851383549.jpg: 640x640 1 African Armyworm, 11.5ms\n",
            "Speed: 2.5ms preprocess, 11.5ms inference, 1.6ms postprocess per image at shape (1, 3, 640, 640)\n",
            "\n",
            "image 1/1 /content/drive/MyDrive/OBD-HETTNT/test/images/images189_jpg.rf.941a33b6eec4049a28826cc9fe3f6c3e.jpg: 640x640 1 maize weevil, 12.9ms\n",
            "Speed: 2.4ms preprocess, 12.9ms inference, 1.6ms postprocess per image at shape (1, 3, 640, 640)\n",
            "\n",
            "image 1/1 /content/drive/MyDrive/OBD-HETTNT/test/images/images192_jpg.rf.e741c6cb7f419dc75a1ed0b2aa4ceae6.jpg: 640x640 (no detections), 11.9ms\n",
            "Speed: 2.4ms preprocess, 11.9ms inference, 0.8ms postprocess per image at shape (1, 3, 640, 640)\n",
            "\n",
            "image 1/1 /content/drive/MyDrive/OBD-HETTNT/test/images/images230_jpg.rf.61d644bdc32073f6f44b1e74138e6477.jpg: 640x640 1 maize weevil, 11.4ms\n",
            "Speed: 2.4ms preprocess, 11.4ms inference, 1.9ms postprocess per image at shape (1, 3, 640, 640)\n",
            "\n",
            "image 1/1 /content/drive/MyDrive/OBD-HETTNT/test/images/images271_jpg.rf.faf3a26d3a9decf1944fc2372a355336.jpg: 640x640 1 bean beetles, 13.6ms\n",
            "Speed: 2.3ms preprocess, 13.6ms inference, 1.9ms postprocess per image at shape (1, 3, 640, 640)\n",
            "\n",
            "image 1/1 /content/drive/MyDrive/OBD-HETTNT/test/images/images278_jpg.rf.836ed0816c26a950a122bc8336fdab03.jpg: 640x640 (no detections), 11.8ms\n",
            "Speed: 2.5ms preprocess, 11.8ms inference, 0.8ms postprocess per image at shape (1, 3, 640, 640)\n",
            "\n",
            "image 1/1 /content/drive/MyDrive/OBD-HETTNT/test/images/images285_jpg.rf.88baa9d8fb0ad1777cc9eb5326cdee99.jpg: 640x640 1 maize weevil, 12.0ms\n",
            "Speed: 2.5ms preprocess, 12.0ms inference, 1.8ms postprocess per image at shape (1, 3, 640, 640)\n",
            "\n",
            "image 1/1 /content/drive/MyDrive/OBD-HETTNT/test/images/mw-cr-lateral_b_jpg.rf.5ea88249e2dc76695c63c9927c67ea2d.jpg: 640x640 1 maize weevil, 14.1ms\n",
            "Speed: 2.3ms preprocess, 14.1ms inference, 2.3ms postprocess per image at shape (1, 3, 640, 640)\n",
            "\n",
            "image 1/1 /content/drive/MyDrive/OBD-HETTNT/test/images/preview_jpg.rf.cbbc50d3b305c4170498caf2f0bbb363.jpg: 640x640 4 cowpea aphidss, 11.7ms\n",
            "Speed: 2.4ms preprocess, 11.7ms inference, 1.8ms postprocess per image at shape (1, 3, 640, 640)\n",
            "\n",
            "image 1/1 /content/drive/MyDrive/OBD-HETTNT/test/images/shutterstock_14442850852028329-min_jpg.rf.6b7be397686481174f6eee161071d614.jpg: 640x640 1 African Armyworm, 11.0ms\n",
            "Speed: 2.4ms preprocess, 11.0ms inference, 1.8ms postprocess per image at shape (1, 3, 640, 640)\n",
            "✅ Done. Visualized results saved to: /content/drive/MyDrive/OBD-HETTNT/Predict_DetectPest\n"
          ]
        }
      ]
    }
  ]
}