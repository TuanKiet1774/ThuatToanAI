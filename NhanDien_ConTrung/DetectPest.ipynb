{
  "nbformat": 4,
  "nbformat_minor": 0,
  "metadata": {
    "colab": {
      "provenance": [],
      "gpuType": "T4",
      "authorship_tag": "ABX9TyPbfUVqEQtzaAGCg/GaocX+",
      "include_colab_link": true
    },
    "kernelspec": {
      "name": "python3",
      "display_name": "Python 3"
    },
    "language_info": {
      "name": "python"
    },
    "accelerator": "GPU"
  },
  "cells": [
    {
      "cell_type": "markdown",
      "metadata": {
        "id": "view-in-github",
        "colab_type": "text"
      },
      "source": [
        "<a href=\"https://colab.research.google.com/github/TuanKiet1774/ThuatToanAI/blob/main/DetectPest.ipynb\" target=\"_parent\"><img src=\"https://colab.research.google.com/assets/colab-badge.svg\" alt=\"Open In Colab\"/></a>"
      ]
    },
    {
      "cell_type": "markdown",
      "source": [
        "##Kết nối với Drive"
      ],
      "metadata": {
        "id": "6YoaSGvaKZag"
      }
    },
    {
      "cell_type": "markdown",
      "source": [
        "Kết nối với Drive"
      ],
      "metadata": {
        "id": "VaEiFncJMVUT"
      }
    },
    {
      "cell_type": "code",
      "source": [
        "from google.colab import drive\n",
        "drive.mount('/content/drive')"
      ],
      "metadata": {
        "id": "uTVUQGoBKdOB"
      },
      "execution_count": null,
      "outputs": []
    },
    {
      "cell_type": "markdown",
      "source": [
        "Giải nén file Zip đến thư mục chỉ định"
      ],
      "metadata": {
        "id": "sOGSJfYTMO4k"
      }
    },
    {
      "cell_type": "code",
      "execution_count": null,
      "metadata": {
        "collapsed": true,
        "id": "WC2JMOL0JAhI"
      },
      "outputs": [],
      "source": [
        "%%bash\n",
        "unzip /content/drive/MyDrive/OBD-HETTNT/Pest.v2i.yolov11.zip -d /content/drive/MyDrive/OBD-HETTNT"
      ]
    },
    {
      "cell_type": "markdown",
      "source": [
        "##Visual Anotate"
      ],
      "metadata": {
        "id": "1w51INtnMgV-"
      }
    },
    {
      "cell_type": "markdown",
      "source": [
        "Công thức tính:\n",
        "(class) (tâm chéo (x,y)) (chiều dài) (chiều rộng)\n",
        "Chia cho tỷ lệ khung hình"
      ],
      "metadata": {
        "id": "Ob-EONSyOPpA"
      }
    },
    {
      "cell_type": "code",
      "source": [
        "import cv2\n",
        "import os\n",
        "import matplotlib.pyplot as plt\n",
        "\n",
        "# Path to the image and its corresponding annotation file\n",
        "image_path = \"/content/drive/MyDrive/OBD-HETTNT/train/images/2-Figure1-1_png.rf.59941ba058b3226147c1a79f549dbe93.jpg\"\n",
        "annotation_path = \"/content/drive/MyDrive/OBD-HETTNT/train/labels/2-Figure1-1_png.rf.59941ba058b3226147c1a79f549dbe93.txt\"\n",
        "\n",
        "# Load the image\n",
        "image = cv2.imread(image_path)\n",
        "height, width, _ = image.shape\n",
        "\n",
        "# Define colors for different class IDs (just using 3 classes here for example)\n",
        "colors = {\n",
        "    0: (0, 255, 0),  # Green for class 0\n",
        "    1: (0, 0, 255),  # Red for class 1\n",
        "    2: (255, 0, 0)   # Blue for class 2\n",
        "}\n",
        "\n",
        "# List of class names (partial Coco names for illustration, you can use the full list)\n",
        "coco_names = ['African Armyworm', 'bean beetles', 'cowpea aphids', 'fall armyworm', 'maize weevil', 'white flies']\n",
        "\n",
        "# Read the annotation file\n",
        "with open(annotation_path, \"r\") as file:\n",
        "    for line in file.readlines():\n",
        "        # Each line: class_id x_center y_center width height\n",
        "        parts = line.strip().split()\n",
        "        class_id = int(parts[0])  # Class ID\n",
        "        x_center = float(parts[1]) * width\n",
        "        y_center = float(parts[2]) * height\n",
        "        box_width = float(parts[3]) * width\n",
        "        box_height = float(parts[4]) * height\n",
        "\n",
        "        # Convert YOLO format to bounding box coordinates\n",
        "        xmin = int(x_center - box_width / 2)\n",
        "        ymin = int(y_center - box_height / 2)\n",
        "        xmax = int(x_center + box_width / 2)\n",
        "        ymax = int(y_center + box_height / 2)\n",
        "\n",
        "        # Draw the rectangle and label on the image\n",
        "        color = colors.get(class_id, (255, 255, 255))  # Default color: white\n",
        "        class_name = coco_names[class_id]  # Get class name from coco_names\n",
        "        cv2.rectangle(image, (xmin, ymin), (xmax, ymax), color, 2)\n",
        "        cv2.putText(image, class_name, (xmin, ymin - 10), cv2.FONT_HERSHEY_SIMPLEX, 0.5, color, 2)\n",
        "\n",
        "# Convert BGR (OpenCV format) to RGB (Matplotlib format)\n",
        "image_rgb = cv2.cvtColor(image, cv2.COLOR_BGR2RGB)\n",
        "\n",
        "# Display and save the image\n",
        "plt.imshow(image_rgb)\n",
        "plt.axis('off')  # Remove axes for better visual clarity\n",
        "#plt.savefig('visual_IP038000453_with_labels.jpg', bbox_inches='tight', pad_inches=0)  # Save before showing\n",
        "plt.show()\n",
        "plt.close()"
      ],
      "metadata": {
        "id": "I5viyF6QMraR"
      },
      "execution_count": null,
      "outputs": []
    },
    {
      "cell_type": "markdown",
      "source": [
        "##Tải Yolo11 Ultralytics"
      ],
      "metadata": {
        "id": "OxA1k4FpPTsO"
      }
    },
    {
      "cell_type": "markdown",
      "source": [
        "Clone repo Ultrlytics về Drive"
      ],
      "metadata": {
        "id": "Tf5X8CkQQRUS"
      }
    },
    {
      "cell_type": "code",
      "source": [
        "%%bash\n",
        "cd /content/drive/MyDrive/OBD-HETTNT\n",
        "git clone https://github.com/ultralytics/ultralytics.git"
      ],
      "metadata": {
        "collapsed": true,
        "id": "hoCSt6syPY_y"
      },
      "execution_count": null,
      "outputs": []
    },
    {
      "cell_type": "markdown",
      "source": [
        "Tải thư viện ultralytics"
      ],
      "metadata": {
        "id": "FxXbO6usQazT"
      }
    },
    {
      "cell_type": "code",
      "source": [
        "%%bash\n",
        "pip install ultralytics"
      ],
      "metadata": {
        "collapsed": true,
        "id": "2XjVKGBYPwww"
      },
      "execution_count": null,
      "outputs": []
    },
    {
      "cell_type": "markdown",
      "source": [
        "##Training tập dữ liệu"
      ],
      "metadata": {
        "id": "-chGb0CmQscm"
      }
    },
    {
      "cell_type": "code",
      "source": [
        "%cd /content/drive/MyDrive/OBD-HETTNT/ultralytics\n",
        "from ultralytics import YOLO\n",
        "model = YOLO(\"yolo11n.yaml\")\n",
        "model.train(data=\"/content/drive/MyDrive/OBD-HETTNT/data.yaml\", epochs=50, imgsz=640)"
      ],
      "metadata": {
        "collapsed": true,
        "id": "raVylvQAQjGe"
      },
      "execution_count": null,
      "outputs": []
    },
    {
      "cell_type": "markdown",
      "source": [
        "##Train với hệ số có sẵn"
      ],
      "metadata": {
        "id": "AuwHlGyuV-o-"
      }
    },
    {
      "cell_type": "code",
      "source": [
        "%cd /content/drive/MyDrive/OBD-HETTNT/ultralytics\n",
        "from ultralytics import YOLO\n",
        "model = YOLO(\"yolo11n.yaml\")\n",
        "model = YOLO(\"yolo11n.pt\")\n",
        "model = YOLO(\"yolo11n.yaml\").load(\"yolo11n.pt\")\n",
        "model.train(data=\"/content/drive/MyDrive/OBD-HETTNT/data.yaml\", epochs=50, imgsz=640)"
      ],
      "metadata": {
        "collapsed": true,
        "id": "pJVyIJ-QWVCL"
      },
      "execution_count": null,
      "outputs": []
    },
    {
      "cell_type": "markdown",
      "source": [
        "Predict"
      ],
      "metadata": {
        "id": "hS5g_amRYx5b"
      }
    },
    {
      "cell_type": "code",
      "source": [
        "from ultralytics import YOLO\n",
        "import numpy as np\n",
        "import cv2\n",
        "import os\n",
        "import glob\n",
        "\n",
        "# Load model\n",
        "model = YOLO(\"/content/drive/MyDrive/OBD-HETTNT/ultralytics/runs/detect/train2/weights/best.pt\")\n",
        "\n",
        "# Get class names from the model\n",
        "names = model.names\n",
        "\n",
        "# Generate palette\n",
        "def get_palette(num_classes):\n",
        "    np.random.seed(42)\n",
        "    return [tuple(np.random.randint(0, 256, size=3).tolist()) for _ in range(num_classes)]\n",
        "\n",
        "palette = get_palette(len(names))\n",
        "\n",
        "# Input/output folders\n",
        "input_dir = '/content/drive/MyDrive/OBD-HETTNT/test/images'\n",
        "output_dir = '/content/drive/MyDrive/OBD-HETTNT/Predict_DetectPest'\n",
        "os.makedirs(output_dir, exist_ok=True)\n",
        "\n",
        "# Get all image paths\n",
        "image_paths = glob.glob(os.path.join(input_dir, '*.jpg'))\n",
        "\n",
        "for img_path in image_paths:\n",
        "    image = cv2.imread(img_path)\n",
        "    img_name = os.path.basename(img_path)\n",
        "    out_path = os.path.join(output_dir, img_name)\n",
        "\n",
        "    results = model(img_path)[0]\n",
        "\n",
        "    for box in results.boxes:\n",
        "        x1, y1, x2, y2 = map(int, box.xyxy[0])\n",
        "        conf = float(box.conf[0])\n",
        "        cls_id = int(box.cls[0])\n",
        "        cls_name = names[cls_id]  # Get class name using the class ID\n",
        "\n",
        "        color = palette[cls_id % len(palette)]\n",
        "\n",
        "        cv2.rectangle(image, (x1, y1), (x2, y2), color, 2)\n",
        "        text = f'{cls_name} {conf:.2f}' # Use cls_name here\n",
        "        cv2.putText(image, text, (x1, y1 - 10), cv2.FONT_HERSHEY_SIMPLEX, 0.5, color, 1)\n",
        "\n",
        "\n",
        "    cv2.imwrite(out_path, image)\n",
        "\n",
        "print(f'✅ Done. Visualized results saved to: {output_dir}')"
      ],
      "metadata": {
        "collapsed": true,
        "id": "54RrzPRhYzry"
      },
      "execution_count": null,
      "outputs": []
    }
  ]
}